{
  "nbformat": 4,
  "nbformat_minor": 0,
  "metadata": {
    "colab": {
      "name": "oreo_pybullet_habitat_deepgaze2.ipynb",
      "provenance": [],
      "collapsed_sections": [],
      "authorship_tag": "ABX9TyMt0tnSZe3nYb8JACN5tNBs",
      "include_colab_link": true
    },
    "kernelspec": {
      "name": "python3",
      "display_name": "Python 3"
    },
    "accelerator": "GPU",
    "widgets": {
      "application/vnd.jupyter.widget-state+json": {
        "7aab41e3d20c4ab2838e82047a276578": {
          "model_module": "@jupyter-widgets/controls",
          "model_name": "ButtonModel",
          "model_module_version": "1.5.0",
          "state": {
            "_view_name": "ButtonView",
            "style": "IPY_MODEL_867175e55c0942f7851738ea4793bc72",
            "_dom_classes": [],
            "description": "backward",
            "_model_name": "ButtonModel",
            "button_style": "",
            "_view_module": "@jupyter-widgets/controls",
            "_model_module_version": "1.5.0",
            "tooltip": "",
            "_view_count": null,
            "disabled": false,
            "_view_module_version": "1.5.0",
            "layout": "IPY_MODEL_e8586dabc33d4aacbbb09bade70ab9f8",
            "_model_module": "@jupyter-widgets/controls",
            "icon": ""
          }
        },
        "867175e55c0942f7851738ea4793bc72": {
          "model_module": "@jupyter-widgets/controls",
          "model_name": "ButtonStyleModel",
          "model_module_version": "1.5.0",
          "state": {
            "_view_name": "StyleView",
            "_model_name": "ButtonStyleModel",
            "_view_module": "@jupyter-widgets/base",
            "_model_module_version": "1.5.0",
            "_view_count": null,
            "button_color": null,
            "font_weight": "",
            "_view_module_version": "1.2.0",
            "_model_module": "@jupyter-widgets/controls"
          }
        },
        "e8586dabc33d4aacbbb09bade70ab9f8": {
          "model_module": "@jupyter-widgets/base",
          "model_name": "LayoutModel",
          "model_module_version": "1.2.0",
          "state": {
            "_view_name": "LayoutView",
            "grid_template_rows": null,
            "right": null,
            "justify_content": null,
            "_view_module": "@jupyter-widgets/base",
            "overflow": null,
            "_model_module_version": "1.2.0",
            "_view_count": null,
            "flex_flow": null,
            "width": null,
            "min_width": null,
            "border": null,
            "align_items": null,
            "bottom": null,
            "_model_module": "@jupyter-widgets/base",
            "top": null,
            "grid_column": null,
            "overflow_y": null,
            "overflow_x": null,
            "grid_auto_flow": null,
            "grid_area": null,
            "grid_template_columns": null,
            "flex": null,
            "_model_name": "LayoutModel",
            "justify_items": null,
            "grid_row": null,
            "max_height": null,
            "align_content": null,
            "visibility": null,
            "align_self": null,
            "height": null,
            "min_height": null,
            "padding": null,
            "grid_auto_rows": null,
            "grid_gap": null,
            "max_width": null,
            "order": null,
            "_view_module_version": "1.2.0",
            "grid_template_areas": null,
            "object_position": null,
            "object_fit": null,
            "grid_auto_columns": null,
            "margin": null,
            "display": null,
            "left": null
          }
        },
        "60140122892d4e3aa8d9438b0c21b834": {
          "model_module": "@jupyter-widgets/controls",
          "model_name": "ButtonModel",
          "model_module_version": "1.5.0",
          "state": {
            "_view_name": "ButtonView",
            "style": "IPY_MODEL_763f1d27c1ee4bdbb76eb724bf02e7ba",
            "_dom_classes": [],
            "description": "forward",
            "_model_name": "ButtonModel",
            "button_style": "",
            "_view_module": "@jupyter-widgets/controls",
            "_model_module_version": "1.5.0",
            "tooltip": "",
            "_view_count": null,
            "disabled": false,
            "_view_module_version": "1.5.0",
            "layout": "IPY_MODEL_b7a41c49589c468fb7f0d288b743d03d",
            "_model_module": "@jupyter-widgets/controls",
            "icon": ""
          }
        },
        "763f1d27c1ee4bdbb76eb724bf02e7ba": {
          "model_module": "@jupyter-widgets/controls",
          "model_name": "ButtonStyleModel",
          "model_module_version": "1.5.0",
          "state": {
            "_view_name": "StyleView",
            "_model_name": "ButtonStyleModel",
            "_view_module": "@jupyter-widgets/base",
            "_model_module_version": "1.5.0",
            "_view_count": null,
            "button_color": null,
            "font_weight": "",
            "_view_module_version": "1.2.0",
            "_model_module": "@jupyter-widgets/controls"
          }
        },
        "b7a41c49589c468fb7f0d288b743d03d": {
          "model_module": "@jupyter-widgets/base",
          "model_name": "LayoutModel",
          "model_module_version": "1.2.0",
          "state": {
            "_view_name": "LayoutView",
            "grid_template_rows": null,
            "right": null,
            "justify_content": null,
            "_view_module": "@jupyter-widgets/base",
            "overflow": null,
            "_model_module_version": "1.2.0",
            "_view_count": null,
            "flex_flow": null,
            "width": null,
            "min_width": null,
            "border": null,
            "align_items": null,
            "bottom": null,
            "_model_module": "@jupyter-widgets/base",
            "top": null,
            "grid_column": null,
            "overflow_y": null,
            "overflow_x": null,
            "grid_auto_flow": null,
            "grid_area": null,
            "grid_template_columns": null,
            "flex": null,
            "_model_name": "LayoutModel",
            "justify_items": null,
            "grid_row": null,
            "max_height": null,
            "align_content": null,
            "visibility": null,
            "align_self": null,
            "height": null,
            "min_height": null,
            "padding": null,
            "grid_auto_rows": null,
            "grid_gap": null,
            "max_width": null,
            "order": null,
            "_view_module_version": "1.2.0",
            "grid_template_areas": null,
            "object_position": null,
            "object_fit": null,
            "grid_auto_columns": null,
            "margin": null,
            "display": null,
            "left": null
          }
        },
        "11d0b74d9f0a489f90c277006367e5c2": {
          "model_module": "@jupyter-widgets/controls",
          "model_name": "ButtonModel",
          "model_module_version": "1.5.0",
          "state": {
            "_view_name": "ButtonView",
            "style": "IPY_MODEL_cbb6d87c7b964d3c84134c4d3ad9bf74",
            "_dom_classes": [],
            "description": "left",
            "_model_name": "ButtonModel",
            "button_style": "",
            "_view_module": "@jupyter-widgets/controls",
            "_model_module_version": "1.5.0",
            "tooltip": "",
            "_view_count": null,
            "disabled": false,
            "_view_module_version": "1.5.0",
            "layout": "IPY_MODEL_f7d057bb1f1245a68799c359c695a9f4",
            "_model_module": "@jupyter-widgets/controls",
            "icon": ""
          }
        },
        "cbb6d87c7b964d3c84134c4d3ad9bf74": {
          "model_module": "@jupyter-widgets/controls",
          "model_name": "ButtonStyleModel",
          "model_module_version": "1.5.0",
          "state": {
            "_view_name": "StyleView",
            "_model_name": "ButtonStyleModel",
            "_view_module": "@jupyter-widgets/base",
            "_model_module_version": "1.5.0",
            "_view_count": null,
            "button_color": null,
            "font_weight": "",
            "_view_module_version": "1.2.0",
            "_model_module": "@jupyter-widgets/controls"
          }
        },
        "f7d057bb1f1245a68799c359c695a9f4": {
          "model_module": "@jupyter-widgets/base",
          "model_name": "LayoutModel",
          "model_module_version": "1.2.0",
          "state": {
            "_view_name": "LayoutView",
            "grid_template_rows": null,
            "right": null,
            "justify_content": null,
            "_view_module": "@jupyter-widgets/base",
            "overflow": null,
            "_model_module_version": "1.2.0",
            "_view_count": null,
            "flex_flow": null,
            "width": null,
            "min_width": null,
            "border": null,
            "align_items": null,
            "bottom": null,
            "_model_module": "@jupyter-widgets/base",
            "top": null,
            "grid_column": null,
            "overflow_y": null,
            "overflow_x": null,
            "grid_auto_flow": null,
            "grid_area": null,
            "grid_template_columns": null,
            "flex": null,
            "_model_name": "LayoutModel",
            "justify_items": null,
            "grid_row": null,
            "max_height": null,
            "align_content": null,
            "visibility": null,
            "align_self": null,
            "height": null,
            "min_height": null,
            "padding": null,
            "grid_auto_rows": null,
            "grid_gap": null,
            "max_width": null,
            "order": null,
            "_view_module_version": "1.2.0",
            "grid_template_areas": null,
            "object_position": null,
            "object_fit": null,
            "grid_auto_columns": null,
            "margin": null,
            "display": null,
            "left": null
          }
        },
        "6679353941fe4653ae50261b7caa0504": {
          "model_module": "@jupyter-widgets/controls",
          "model_name": "ButtonModel",
          "model_module_version": "1.5.0",
          "state": {
            "_view_name": "ButtonView",
            "style": "IPY_MODEL_9ad096f8206349d5812b92ce61bb7fbb",
            "_dom_classes": [],
            "description": "right",
            "_model_name": "ButtonModel",
            "button_style": "",
            "_view_module": "@jupyter-widgets/controls",
            "_model_module_version": "1.5.0",
            "tooltip": "",
            "_view_count": null,
            "disabled": false,
            "_view_module_version": "1.5.0",
            "layout": "IPY_MODEL_605cb07bd85f42809bac37c42e4ee06e",
            "_model_module": "@jupyter-widgets/controls",
            "icon": ""
          }
        },
        "9ad096f8206349d5812b92ce61bb7fbb": {
          "model_module": "@jupyter-widgets/controls",
          "model_name": "ButtonStyleModel",
          "model_module_version": "1.5.0",
          "state": {
            "_view_name": "StyleView",
            "_model_name": "ButtonStyleModel",
            "_view_module": "@jupyter-widgets/base",
            "_model_module_version": "1.5.0",
            "_view_count": null,
            "button_color": null,
            "font_weight": "",
            "_view_module_version": "1.2.0",
            "_model_module": "@jupyter-widgets/controls"
          }
        },
        "605cb07bd85f42809bac37c42e4ee06e": {
          "model_module": "@jupyter-widgets/base",
          "model_name": "LayoutModel",
          "model_module_version": "1.2.0",
          "state": {
            "_view_name": "LayoutView",
            "grid_template_rows": null,
            "right": null,
            "justify_content": null,
            "_view_module": "@jupyter-widgets/base",
            "overflow": null,
            "_model_module_version": "1.2.0",
            "_view_count": null,
            "flex_flow": null,
            "width": null,
            "min_width": null,
            "border": null,
            "align_items": null,
            "bottom": null,
            "_model_module": "@jupyter-widgets/base",
            "top": null,
            "grid_column": null,
            "overflow_y": null,
            "overflow_x": null,
            "grid_auto_flow": null,
            "grid_area": null,
            "grid_template_columns": null,
            "flex": null,
            "_model_name": "LayoutModel",
            "justify_items": null,
            "grid_row": null,
            "max_height": null,
            "align_content": null,
            "visibility": null,
            "align_self": null,
            "height": null,
            "min_height": null,
            "padding": null,
            "grid_auto_rows": null,
            "grid_gap": null,
            "max_width": null,
            "order": null,
            "_view_module_version": "1.2.0",
            "grid_template_areas": null,
            "object_position": null,
            "object_fit": null,
            "grid_auto_columns": null,
            "margin": null,
            "display": null,
            "left": null
          }
        },
        "87ac3fad1a7140838979e4bd405a9512": {
          "model_module": "@jupyter-widgets/controls",
          "model_name": "ButtonModel",
          "model_module_version": "1.5.0",
          "state": {
            "_view_name": "ButtonView",
            "style": "IPY_MODEL_a29b2c68b108498889b49ae5b0ba54d3",
            "_dom_classes": [],
            "description": "up",
            "_model_name": "ButtonModel",
            "button_style": "",
            "_view_module": "@jupyter-widgets/controls",
            "_model_module_version": "1.5.0",
            "tooltip": "",
            "_view_count": null,
            "disabled": false,
            "_view_module_version": "1.5.0",
            "layout": "IPY_MODEL_d00e69658d2c42529a9786d2bd635fdc",
            "_model_module": "@jupyter-widgets/controls",
            "icon": ""
          }
        },
        "a29b2c68b108498889b49ae5b0ba54d3": {
          "model_module": "@jupyter-widgets/controls",
          "model_name": "ButtonStyleModel",
          "model_module_version": "1.5.0",
          "state": {
            "_view_name": "StyleView",
            "_model_name": "ButtonStyleModel",
            "_view_module": "@jupyter-widgets/base",
            "_model_module_version": "1.5.0",
            "_view_count": null,
            "button_color": null,
            "font_weight": "",
            "_view_module_version": "1.2.0",
            "_model_module": "@jupyter-widgets/controls"
          }
        },
        "d00e69658d2c42529a9786d2bd635fdc": {
          "model_module": "@jupyter-widgets/base",
          "model_name": "LayoutModel",
          "model_module_version": "1.2.0",
          "state": {
            "_view_name": "LayoutView",
            "grid_template_rows": null,
            "right": null,
            "justify_content": null,
            "_view_module": "@jupyter-widgets/base",
            "overflow": null,
            "_model_module_version": "1.2.0",
            "_view_count": null,
            "flex_flow": null,
            "width": null,
            "min_width": null,
            "border": null,
            "align_items": null,
            "bottom": null,
            "_model_module": "@jupyter-widgets/base",
            "top": null,
            "grid_column": null,
            "overflow_y": null,
            "overflow_x": null,
            "grid_auto_flow": null,
            "grid_area": null,
            "grid_template_columns": null,
            "flex": null,
            "_model_name": "LayoutModel",
            "justify_items": null,
            "grid_row": null,
            "max_height": null,
            "align_content": null,
            "visibility": null,
            "align_self": null,
            "height": null,
            "min_height": null,
            "padding": null,
            "grid_auto_rows": null,
            "grid_gap": null,
            "max_width": null,
            "order": null,
            "_view_module_version": "1.2.0",
            "grid_template_areas": null,
            "object_position": null,
            "object_fit": null,
            "grid_auto_columns": null,
            "margin": null,
            "display": null,
            "left": null
          }
        },
        "99ce62497460438a8b50f33572c8200d": {
          "model_module": "@jupyter-widgets/controls",
          "model_name": "ButtonModel",
          "model_module_version": "1.5.0",
          "state": {
            "_view_name": "ButtonView",
            "style": "IPY_MODEL_693a1ff0e25c4018a47aabcbfea01755",
            "_dom_classes": [],
            "description": "down",
            "_model_name": "ButtonModel",
            "button_style": "",
            "_view_module": "@jupyter-widgets/controls",
            "_model_module_version": "1.5.0",
            "tooltip": "",
            "_view_count": null,
            "disabled": false,
            "_view_module_version": "1.5.0",
            "layout": "IPY_MODEL_1136808f7101446d9f1735c3d2b321ef",
            "_model_module": "@jupyter-widgets/controls",
            "icon": ""
          }
        },
        "693a1ff0e25c4018a47aabcbfea01755": {
          "model_module": "@jupyter-widgets/controls",
          "model_name": "ButtonStyleModel",
          "model_module_version": "1.5.0",
          "state": {
            "_view_name": "StyleView",
            "_model_name": "ButtonStyleModel",
            "_view_module": "@jupyter-widgets/base",
            "_model_module_version": "1.5.0",
            "_view_count": null,
            "button_color": null,
            "font_weight": "",
            "_view_module_version": "1.2.0",
            "_model_module": "@jupyter-widgets/controls"
          }
        },
        "1136808f7101446d9f1735c3d2b321ef": {
          "model_module": "@jupyter-widgets/base",
          "model_name": "LayoutModel",
          "model_module_version": "1.2.0",
          "state": {
            "_view_name": "LayoutView",
            "grid_template_rows": null,
            "right": null,
            "justify_content": null,
            "_view_module": "@jupyter-widgets/base",
            "overflow": null,
            "_model_module_version": "1.2.0",
            "_view_count": null,
            "flex_flow": null,
            "width": null,
            "min_width": null,
            "border": null,
            "align_items": null,
            "bottom": null,
            "_model_module": "@jupyter-widgets/base",
            "top": null,
            "grid_column": null,
            "overflow_y": null,
            "overflow_x": null,
            "grid_auto_flow": null,
            "grid_area": null,
            "grid_template_columns": null,
            "flex": null,
            "_model_name": "LayoutModel",
            "justify_items": null,
            "grid_row": null,
            "max_height": null,
            "align_content": null,
            "visibility": null,
            "align_self": null,
            "height": null,
            "min_height": null,
            "padding": null,
            "grid_auto_rows": null,
            "grid_gap": null,
            "max_width": null,
            "order": null,
            "_view_module_version": "1.2.0",
            "grid_template_areas": null,
            "object_position": null,
            "object_fit": null,
            "grid_auto_columns": null,
            "margin": null,
            "display": null,
            "left": null
          }
        },
        "0103fa621a3c4ab8812ec9117810e28d": {
          "model_module": "@jupyter-widgets/controls",
          "model_name": "ButtonModel",
          "model_module_version": "1.5.0",
          "state": {
            "_view_name": "ButtonView",
            "style": "IPY_MODEL_f2958469155d4496a35b94a373ecccf1",
            "_dom_classes": [],
            "description": "cw",
            "_model_name": "ButtonModel",
            "button_style": "",
            "_view_module": "@jupyter-widgets/controls",
            "_model_module_version": "1.5.0",
            "tooltip": "",
            "_view_count": null,
            "disabled": false,
            "_view_module_version": "1.5.0",
            "layout": "IPY_MODEL_887d86eed940446e889a622d470b9833",
            "_model_module": "@jupyter-widgets/controls",
            "icon": ""
          }
        },
        "f2958469155d4496a35b94a373ecccf1": {
          "model_module": "@jupyter-widgets/controls",
          "model_name": "ButtonStyleModel",
          "model_module_version": "1.5.0",
          "state": {
            "_view_name": "StyleView",
            "_model_name": "ButtonStyleModel",
            "_view_module": "@jupyter-widgets/base",
            "_model_module_version": "1.5.0",
            "_view_count": null,
            "button_color": null,
            "font_weight": "",
            "_view_module_version": "1.2.0",
            "_model_module": "@jupyter-widgets/controls"
          }
        },
        "887d86eed940446e889a622d470b9833": {
          "model_module": "@jupyter-widgets/base",
          "model_name": "LayoutModel",
          "model_module_version": "1.2.0",
          "state": {
            "_view_name": "LayoutView",
            "grid_template_rows": null,
            "right": null,
            "justify_content": null,
            "_view_module": "@jupyter-widgets/base",
            "overflow": null,
            "_model_module_version": "1.2.0",
            "_view_count": null,
            "flex_flow": null,
            "width": null,
            "min_width": null,
            "border": null,
            "align_items": null,
            "bottom": null,
            "_model_module": "@jupyter-widgets/base",
            "top": null,
            "grid_column": null,
            "overflow_y": null,
            "overflow_x": null,
            "grid_auto_flow": null,
            "grid_area": null,
            "grid_template_columns": null,
            "flex": null,
            "_model_name": "LayoutModel",
            "justify_items": null,
            "grid_row": null,
            "max_height": null,
            "align_content": null,
            "visibility": null,
            "align_self": null,
            "height": null,
            "min_height": null,
            "padding": null,
            "grid_auto_rows": null,
            "grid_gap": null,
            "max_width": null,
            "order": null,
            "_view_module_version": "1.2.0",
            "grid_template_areas": null,
            "object_position": null,
            "object_fit": null,
            "grid_auto_columns": null,
            "margin": null,
            "display": null,
            "left": null
          }
        },
        "bfa330777ea64a9aa7cfb4b2866ead3f": {
          "model_module": "@jupyter-widgets/controls",
          "model_name": "ButtonModel",
          "model_module_version": "1.5.0",
          "state": {
            "_view_name": "ButtonView",
            "style": "IPY_MODEL_c3c6ae24133044f08992f7ef62591e28",
            "_dom_classes": [],
            "description": "ccw",
            "_model_name": "ButtonModel",
            "button_style": "",
            "_view_module": "@jupyter-widgets/controls",
            "_model_module_version": "1.5.0",
            "tooltip": "",
            "_view_count": null,
            "disabled": false,
            "_view_module_version": "1.5.0",
            "layout": "IPY_MODEL_dab7a43544e94471a9e3f1d4f5483fa7",
            "_model_module": "@jupyter-widgets/controls",
            "icon": ""
          }
        },
        "c3c6ae24133044f08992f7ef62591e28": {
          "model_module": "@jupyter-widgets/controls",
          "model_name": "ButtonStyleModel",
          "model_module_version": "1.5.0",
          "state": {
            "_view_name": "StyleView",
            "_model_name": "ButtonStyleModel",
            "_view_module": "@jupyter-widgets/base",
            "_model_module_version": "1.5.0",
            "_view_count": null,
            "button_color": null,
            "font_weight": "",
            "_view_module_version": "1.2.0",
            "_model_module": "@jupyter-widgets/controls"
          }
        },
        "dab7a43544e94471a9e3f1d4f5483fa7": {
          "model_module": "@jupyter-widgets/base",
          "model_name": "LayoutModel",
          "model_module_version": "1.2.0",
          "state": {
            "_view_name": "LayoutView",
            "grid_template_rows": null,
            "right": null,
            "justify_content": null,
            "_view_module": "@jupyter-widgets/base",
            "overflow": null,
            "_model_module_version": "1.2.0",
            "_view_count": null,
            "flex_flow": null,
            "width": null,
            "min_width": null,
            "border": null,
            "align_items": null,
            "bottom": null,
            "_model_module": "@jupyter-widgets/base",
            "top": null,
            "grid_column": null,
            "overflow_y": null,
            "overflow_x": null,
            "grid_auto_flow": null,
            "grid_area": null,
            "grid_template_columns": null,
            "flex": null,
            "_model_name": "LayoutModel",
            "justify_items": null,
            "grid_row": null,
            "max_height": null,
            "align_content": null,
            "visibility": null,
            "align_self": null,
            "height": null,
            "min_height": null,
            "padding": null,
            "grid_auto_rows": null,
            "grid_gap": null,
            "max_width": null,
            "order": null,
            "_view_module_version": "1.2.0",
            "grid_template_areas": null,
            "object_position": null,
            "object_fit": null,
            "grid_auto_columns": null,
            "margin": null,
            "display": null,
            "left": null
          }
        },
        "7acc17e209f049a58440c673175368ea": {
          "model_module": "@jupyter-widgets/controls",
          "model_name": "ButtonModel",
          "model_module_version": "1.5.0",
          "state": {
            "_view_name": "ButtonView",
            "style": "IPY_MODEL_11f48bc83fc64885949b2ad335d337a9",
            "_dom_classes": [],
            "description": "Default",
            "_model_name": "ButtonModel",
            "button_style": "",
            "_view_module": "@jupyter-widgets/controls",
            "_model_module_version": "1.5.0",
            "tooltip": "",
            "_view_count": null,
            "disabled": false,
            "_view_module_version": "1.5.0",
            "layout": "IPY_MODEL_210d8d90d17e4756905e33f1f6950182",
            "_model_module": "@jupyter-widgets/controls",
            "icon": ""
          }
        },
        "11f48bc83fc64885949b2ad335d337a9": {
          "model_module": "@jupyter-widgets/controls",
          "model_name": "ButtonStyleModel",
          "model_module_version": "1.5.0",
          "state": {
            "_view_name": "StyleView",
            "_model_name": "ButtonStyleModel",
            "_view_module": "@jupyter-widgets/base",
            "_model_module_version": "1.5.0",
            "_view_count": null,
            "button_color": null,
            "font_weight": "",
            "_view_module_version": "1.2.0",
            "_model_module": "@jupyter-widgets/controls"
          }
        },
        "210d8d90d17e4756905e33f1f6950182": {
          "model_module": "@jupyter-widgets/base",
          "model_name": "LayoutModel",
          "model_module_version": "1.2.0",
          "state": {
            "_view_name": "LayoutView",
            "grid_template_rows": null,
            "right": null,
            "justify_content": null,
            "_view_module": "@jupyter-widgets/base",
            "overflow": null,
            "_model_module_version": "1.2.0",
            "_view_count": null,
            "flex_flow": null,
            "width": null,
            "min_width": null,
            "border": null,
            "align_items": null,
            "bottom": null,
            "_model_module": "@jupyter-widgets/base",
            "top": null,
            "grid_column": null,
            "overflow_y": null,
            "overflow_x": null,
            "grid_auto_flow": null,
            "grid_area": null,
            "grid_template_columns": null,
            "flex": null,
            "_model_name": "LayoutModel",
            "justify_items": null,
            "grid_row": null,
            "max_height": null,
            "align_content": null,
            "visibility": null,
            "align_self": null,
            "height": null,
            "min_height": null,
            "padding": null,
            "grid_auto_rows": null,
            "grid_gap": null,
            "max_width": null,
            "order": null,
            "_view_module_version": "1.2.0",
            "grid_template_areas": null,
            "object_position": null,
            "object_fit": null,
            "grid_auto_columns": null,
            "margin": null,
            "display": null,
            "left": null
          }
        },
        "ec0620adf0e945d5961cce2cfbb78bf4": {
          "model_module": "@jupyter-widgets/controls",
          "model_name": "ButtonModel",
          "model_module_version": "1.5.0",
          "state": {
            "_view_name": "ButtonView",
            "style": "IPY_MODEL_ce8d36080456446483fef0c58ad9eca4",
            "_dom_classes": [],
            "description": "quit",
            "_model_name": "ButtonModel",
            "button_style": "",
            "_view_module": "@jupyter-widgets/controls",
            "_model_module_version": "1.5.0",
            "tooltip": "",
            "_view_count": null,
            "disabled": false,
            "_view_module_version": "1.5.0",
            "layout": "IPY_MODEL_b5071271dca745e5bb0451b12e5ff471",
            "_model_module": "@jupyter-widgets/controls",
            "icon": ""
          }
        },
        "ce8d36080456446483fef0c58ad9eca4": {
          "model_module": "@jupyter-widgets/controls",
          "model_name": "ButtonStyleModel",
          "model_module_version": "1.5.0",
          "state": {
            "_view_name": "StyleView",
            "_model_name": "ButtonStyleModel",
            "_view_module": "@jupyter-widgets/base",
            "_model_module_version": "1.5.0",
            "_view_count": null,
            "button_color": null,
            "font_weight": "",
            "_view_module_version": "1.2.0",
            "_model_module": "@jupyter-widgets/controls"
          }
        },
        "b5071271dca745e5bb0451b12e5ff471": {
          "model_module": "@jupyter-widgets/base",
          "model_name": "LayoutModel",
          "model_module_version": "1.2.0",
          "state": {
            "_view_name": "LayoutView",
            "grid_template_rows": null,
            "right": null,
            "justify_content": null,
            "_view_module": "@jupyter-widgets/base",
            "overflow": null,
            "_model_module_version": "1.2.0",
            "_view_count": null,
            "flex_flow": null,
            "width": null,
            "min_width": null,
            "border": null,
            "align_items": null,
            "bottom": null,
            "_model_module": "@jupyter-widgets/base",
            "top": null,
            "grid_column": null,
            "overflow_y": null,
            "overflow_x": null,
            "grid_auto_flow": null,
            "grid_area": null,
            "grid_template_columns": null,
            "flex": null,
            "_model_name": "LayoutModel",
            "justify_items": null,
            "grid_row": null,
            "max_height": null,
            "align_content": null,
            "visibility": null,
            "align_self": null,
            "height": null,
            "min_height": null,
            "padding": null,
            "grid_auto_rows": null,
            "grid_gap": null,
            "max_width": null,
            "order": null,
            "_view_module_version": "1.2.0",
            "grid_template_areas": null,
            "object_position": null,
            "object_fit": null,
            "grid_auto_columns": null,
            "margin": null,
            "display": null,
            "left": null
          }
        },
        "7612719f51ec4a73ac1d5def7e9afc13": {
          "model_module": "@jupyter-widgets/controls",
          "model_name": "ButtonModel",
          "model_module_version": "1.5.0",
          "state": {
            "_view_name": "ButtonView",
            "style": "IPY_MODEL_5d7e4b005d5c42dc924e35647b920c72",
            "_dom_classes": [],
            "description": "New Image",
            "_model_name": "ButtonModel",
            "button_style": "",
            "_view_module": "@jupyter-widgets/controls",
            "_model_module_version": "1.5.0",
            "tooltip": "",
            "_view_count": null,
            "disabled": false,
            "_view_module_version": "1.5.0",
            "layout": "IPY_MODEL_b3081261f8aa476e8a07cd33576041fd",
            "_model_module": "@jupyter-widgets/controls",
            "icon": ""
          }
        },
        "5d7e4b005d5c42dc924e35647b920c72": {
          "model_module": "@jupyter-widgets/controls",
          "model_name": "ButtonStyleModel",
          "model_module_version": "1.5.0",
          "state": {
            "_view_name": "StyleView",
            "_model_name": "ButtonStyleModel",
            "_view_module": "@jupyter-widgets/base",
            "_model_module_version": "1.5.0",
            "_view_count": null,
            "button_color": null,
            "font_weight": "",
            "_view_module_version": "1.2.0",
            "_model_module": "@jupyter-widgets/controls"
          }
        },
        "b3081261f8aa476e8a07cd33576041fd": {
          "model_module": "@jupyter-widgets/base",
          "model_name": "LayoutModel",
          "model_module_version": "1.2.0",
          "state": {
            "_view_name": "LayoutView",
            "grid_template_rows": null,
            "right": null,
            "justify_content": null,
            "_view_module": "@jupyter-widgets/base",
            "overflow": null,
            "_model_module_version": "1.2.0",
            "_view_count": null,
            "flex_flow": null,
            "width": null,
            "min_width": null,
            "border": null,
            "align_items": null,
            "bottom": null,
            "_model_module": "@jupyter-widgets/base",
            "top": null,
            "grid_column": null,
            "overflow_y": null,
            "overflow_x": null,
            "grid_auto_flow": null,
            "grid_area": null,
            "grid_template_columns": null,
            "flex": null,
            "_model_name": "LayoutModel",
            "justify_items": null,
            "grid_row": null,
            "max_height": null,
            "align_content": null,
            "visibility": null,
            "align_self": null,
            "height": null,
            "min_height": null,
            "padding": null,
            "grid_auto_rows": null,
            "grid_gap": null,
            "max_width": null,
            "order": null,
            "_view_module_version": "1.2.0",
            "grid_template_areas": null,
            "object_position": null,
            "object_fit": null,
            "grid_auto_columns": null,
            "margin": null,
            "display": null,
            "left": null
          }
        },
        "726119a7678d40b6b30d4d66351b6c0e": {
          "model_module": "@jupyter-widgets/controls",
          "model_name": "ButtonModel",
          "model_module_version": "1.5.0",
          "state": {
            "_view_name": "ButtonView",
            "style": "IPY_MODEL_607b92d7486e47a3aa0e29bbe3a66caa",
            "_dom_classes": [],
            "description": "Last Position",
            "_model_name": "ButtonModel",
            "button_style": "",
            "_view_module": "@jupyter-widgets/controls",
            "_model_module_version": "1.5.0",
            "tooltip": "",
            "_view_count": null,
            "disabled": false,
            "_view_module_version": "1.5.0",
            "layout": "IPY_MODEL_0438aade7d1a48f4a908debf08f3a659",
            "_model_module": "@jupyter-widgets/controls",
            "icon": ""
          }
        },
        "607b92d7486e47a3aa0e29bbe3a66caa": {
          "model_module": "@jupyter-widgets/controls",
          "model_name": "ButtonStyleModel",
          "model_module_version": "1.5.0",
          "state": {
            "_view_name": "StyleView",
            "_model_name": "ButtonStyleModel",
            "_view_module": "@jupyter-widgets/base",
            "_model_module_version": "1.5.0",
            "_view_count": null,
            "button_color": null,
            "font_weight": "",
            "_view_module_version": "1.2.0",
            "_model_module": "@jupyter-widgets/controls"
          }
        },
        "0438aade7d1a48f4a908debf08f3a659": {
          "model_module": "@jupyter-widgets/base",
          "model_name": "LayoutModel",
          "model_module_version": "1.2.0",
          "state": {
            "_view_name": "LayoutView",
            "grid_template_rows": null,
            "right": null,
            "justify_content": null,
            "_view_module": "@jupyter-widgets/base",
            "overflow": null,
            "_model_module_version": "1.2.0",
            "_view_count": null,
            "flex_flow": null,
            "width": null,
            "min_width": null,
            "border": null,
            "align_items": null,
            "bottom": null,
            "_model_module": "@jupyter-widgets/base",
            "top": null,
            "grid_column": null,
            "overflow_y": null,
            "overflow_x": null,
            "grid_auto_flow": null,
            "grid_area": null,
            "grid_template_columns": null,
            "flex": null,
            "_model_name": "LayoutModel",
            "justify_items": null,
            "grid_row": null,
            "max_height": null,
            "align_content": null,
            "visibility": null,
            "align_self": null,
            "height": null,
            "min_height": null,
            "padding": null,
            "grid_auto_rows": null,
            "grid_gap": null,
            "max_width": null,
            "order": null,
            "_view_module_version": "1.2.0",
            "grid_template_areas": null,
            "object_position": null,
            "object_fit": null,
            "grid_auto_columns": null,
            "margin": null,
            "display": null,
            "left": null
          }
        },
        "36809b1fbb284c1891d8531d717de1a8": {
          "model_module": "@jupyter-widgets/output",
          "model_name": "OutputModel",
          "model_module_version": "1.0.0",
          "state": {
            "_view_name": "OutputView",
            "msg_id": "",
            "_dom_classes": [],
            "_model_name": "OutputModel",
            "outputs": [
              {
                "output_type": "stream",
                "name": "stdout",
                "text": [
                  "Last Action New Image\n",
                  "Saved Image file /content/oreo-pybullet/saliency/skokloster-castle.glb^2021-11-04-16-09-11RGB0\n"
                ]
              },
              {
                "output_type": "display_data",
                "data": {
                  "image/png": "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\n",
                  "text/plain": "<PIL.Image.Image image mode=RGB size=512x512 at 0x7F6B6BD20B10>"
                },
                "metadata": {}
              }
            ],
            "_view_module": "@jupyter-widgets/output",
            "_model_module_version": "1.0.0",
            "_view_count": null,
            "_view_module_version": "1.0.0",
            "layout": "IPY_MODEL_a498e7404f3e4b97948ac7401fa9f863",
            "_model_module": "@jupyter-widgets/output"
          }
        },
        "a498e7404f3e4b97948ac7401fa9f863": {
          "model_module": "@jupyter-widgets/base",
          "model_name": "LayoutModel",
          "model_module_version": "1.2.0",
          "state": {
            "_view_name": "LayoutView",
            "grid_template_rows": null,
            "right": null,
            "justify_content": null,
            "_view_module": "@jupyter-widgets/base",
            "overflow": null,
            "_model_module_version": "1.2.0",
            "_view_count": null,
            "flex_flow": null,
            "width": null,
            "min_width": null,
            "border": null,
            "align_items": null,
            "bottom": null,
            "_model_module": "@jupyter-widgets/base",
            "top": null,
            "grid_column": null,
            "overflow_y": null,
            "overflow_x": null,
            "grid_auto_flow": null,
            "grid_area": null,
            "grid_template_columns": null,
            "flex": null,
            "_model_name": "LayoutModel",
            "justify_items": null,
            "grid_row": null,
            "max_height": null,
            "align_content": null,
            "visibility": null,
            "align_self": null,
            "height": null,
            "min_height": null,
            "padding": null,
            "grid_auto_rows": null,
            "grid_gap": null,
            "max_width": null,
            "order": null,
            "_view_module_version": "1.2.0",
            "grid_template_areas": null,
            "object_position": null,
            "object_fit": null,
            "grid_auto_columns": null,
            "margin": null,
            "display": null,
            "left": null
          }
        }
      }
    }
  },
  "cells": [
    {
      "cell_type": "markdown",
      "metadata": {
        "id": "view-in-github",
        "colab_type": "text"
      },
      "source": [
        "<a href=\"https://colab.research.google.com/github/srkiyengar/PycharmProjects/blob/master/oreo_pybullet_habitat_deepgaze2.ipynb\" target=\"_parent\"><img src=\"https://colab.research.google.com/assets/colab-badge.svg\" alt=\"Open In Colab\"/></a>"
      ]
    },
    {
      "cell_type": "code",
      "metadata": {
        "id": "w5ZaXsttGnDj",
        "colab": {
          "base_uri": "https://localhost:8080/"
        },
        "outputId": "834bbca2-00e4-4d66-ee5c-020b307a80de"
      },
      "source": [
        "from google.colab import drive\n",
        "drive.mount('/content/drive')"
      ],
      "execution_count": null,
      "outputs": [
        {
          "output_type": "stream",
          "name": "stdout",
          "text": [
            "Mounted at /content/drive\n"
          ]
        }
      ]
    },
    {
      "cell_type": "code",
      "metadata": {
        "id": "qo6yiUHBMElk"
      },
      "source": [
        "%%bash\n",
        "\n",
        "DIRECTORY=/content/oreo-pybullet\n",
        "if [ -d \"$DIRECTORY\" ]; then\n",
        "  rm -r /content/oreo-pybullet\n",
        "fi\n",
        "mkdir /content/oreo-pybullet\n",
        "cp /content/drive/My\\ Drive/Colab_Notebooks/Oreo-habitat-integration/* /content/oreo-pybullet/  -r"
      ],
      "execution_count": null,
      "outputs": []
    },
    {
      "cell_type": "code",
      "metadata": {
        "colab": {
          "base_uri": "https://localhost:8080/"
        },
        "id": "U03ijo9lJ_05",
        "outputId": "d237a15a-ef91-46d5-cbf8-1066759acc37"
      },
      "source": [
        "%tensorflow_version 1.13.1"
      ],
      "execution_count": null,
      "outputs": [
        {
          "output_type": "stream",
          "name": "stdout",
          "text": [
            "`%tensorflow_version` only switches the major version: 1.x or 2.x.\n",
            "You set: `1.13.1`. This will be interpreted as: `1.x`.\n",
            "\n",
            "\n",
            "TensorFlow 1.x selected.\n"
          ]
        }
      ]
    },
    {
      "cell_type": "code",
      "metadata": {
        "id": "9XKyfyoUCESq",
        "colab": {
          "base_uri": "https://localhost:8080/"
        },
        "outputId": "aa418f24-1aa4-473b-e307-97caf66038da"
      },
      "source": [
        "!curl -L https://raw.githubusercontent.com/facebookresearch/habitat-sim/master/examples/colab_utils/colab_install.sh | NIGHTLY=false bash -s\n",
        "!wget -c http://dl.fbaipublicfiles.com/habitat/mp3d_example.zip && unzip -o mp3d_example.zip -d /content/habitat-sim/data/scene_datasets/mp3d/"
      ],
      "execution_count": null,
      "outputs": [
        {
          "output_type": "stream",
          "name": "stdout",
          "text": [
            "  % Total    % Received % Xferd  Average Speed   Time    Time     Time  Current\n",
            "                                 Dload  Upload   Total   Spent    Left  Speed\n",
            "100  2658  100  2658    0     0  14932      0 --:--:-- --:--:-- --:--:-- 14932\n",
            "--2021-11-04 15:57:30--  https://repo.continuum.io/miniconda/Miniconda3-latest-Linux-x86_64.sh\n",
            "Resolving repo.continuum.io (repo.continuum.io)... 104.18.200.79, 104.18.201.79, 2606:4700::6812:c94f, ...\n",
            "Connecting to repo.continuum.io (repo.continuum.io)|104.18.200.79|:443... connected.\n",
            "HTTP request sent, awaiting response... 301 Moved Permanently\n",
            "Location: https://repo.anaconda.com/miniconda/Miniconda3-latest-Linux-x86_64.sh [following]\n",
            "--2021-11-04 15:57:30--  https://repo.anaconda.com/miniconda/Miniconda3-latest-Linux-x86_64.sh\n",
            "Resolving repo.anaconda.com (repo.anaconda.com)... 104.16.131.3, 104.16.130.3, 2606:4700::6810:8303, ...\n",
            "Connecting to repo.anaconda.com (repo.anaconda.com)|104.16.131.3|:443... connected.\n",
            "HTTP request sent, awaiting response... 200 OK\n",
            "Length: 66709754 (64M) [application/x-sh]\n",
            "Saving to: ‘Miniconda3-latest-Linux-x86_64.sh’\n",
            "\n",
            "Miniconda3-latest-L 100%[===================>]  63.62M   158MB/s    in 0.4s    \n",
            "\n",
            "2021-11-04 15:57:31 (158 MB/s) - ‘Miniconda3-latest-Linux-x86_64.sh’ saved [66709754/66709754]\n",
            "\n",
            "PREFIX=/usr/local\n",
            "Unpacking payload ...\n",
            "Collecting package metadata (current_repodata.json): - \b\b\\ \b\b| \b\bdone\n",
            "Solving environment: - \b\b\\ \b\b| \b\bdone\n",
            "\n",
            "## Package Plan ##\n",
            "\n",
            "  environment location: /usr/local\n",
            "\n",
            "  added / updated specs:\n",
            "    - _libgcc_mutex==0.1=main\n",
            "    - _openmp_mutex==4.5=1_gnu\n",
            "    - brotlipy==0.7.0=py39h27cfd23_1003\n",
            "    - ca-certificates==2021.7.5=h06a4308_1\n",
            "    - certifi==2021.5.30=py39h06a4308_0\n",
            "    - cffi==1.14.6=py39h400218f_0\n",
            "    - chardet==4.0.0=py39h06a4308_1003\n",
            "    - conda-package-handling==1.7.3=py39h27cfd23_1\n",
            "    - conda==4.10.3=py39h06a4308_0\n",
            "    - cryptography==3.4.7=py39hd23ed53_0\n",
            "    - idna==2.10=pyhd3eb1b0_0\n",
            "    - ld_impl_linux-64==2.35.1=h7274673_9\n",
            "    - libffi==3.3=he6710b0_2\n",
            "    - libgcc-ng==9.3.0=h5101ec6_17\n",
            "    - libgomp==9.3.0=h5101ec6_17\n",
            "    - libstdcxx-ng==9.3.0=hd4cf53a_17\n",
            "    - ncurses==6.2=he6710b0_1\n",
            "    - openssl==1.1.1k=h27cfd23_0\n",
            "    - pip==21.1.3=py39h06a4308_0\n",
            "    - pycosat==0.6.3=py39h27cfd23_0\n",
            "    - pycparser==2.20=py_2\n",
            "    - pyopenssl==20.0.1=pyhd3eb1b0_1\n",
            "    - pysocks==1.7.1=py39h06a4308_0\n",
            "    - python==3.9.5=h12debd9_4\n",
            "    - readline==8.1=h27cfd23_0\n",
            "    - requests==2.25.1=pyhd3eb1b0_0\n",
            "    - ruamel_yaml==0.15.100=py39h27cfd23_0\n",
            "    - setuptools==52.0.0=py39h06a4308_0\n",
            "    - six==1.16.0=pyhd3eb1b0_0\n",
            "    - sqlite==3.36.0=hc218d9a_0\n",
            "    - tk==8.6.10=hbc83047_0\n",
            "    - tqdm==4.61.2=pyhd3eb1b0_1\n",
            "    - tzdata==2021a=h52ac0ba_0\n",
            "    - urllib3==1.26.6=pyhd3eb1b0_1\n",
            "    - wheel==0.36.2=pyhd3eb1b0_0\n",
            "    - xz==5.2.5=h7b6447c_0\n",
            "    - yaml==0.2.5=h7b6447c_0\n",
            "    - zlib==1.2.11=h7b6447c_3\n",
            "\n",
            "\n",
            "The following NEW packages will be INSTALLED:\n",
            "\n",
            "  _libgcc_mutex      pkgs/main/linux-64::_libgcc_mutex-0.1-main\n",
            "  _openmp_mutex      pkgs/main/linux-64::_openmp_mutex-4.5-1_gnu\n",
            "  brotlipy           pkgs/main/linux-64::brotlipy-0.7.0-py39h27cfd23_1003\n",
            "  ca-certificates    pkgs/main/linux-64::ca-certificates-2021.7.5-h06a4308_1\n",
            "  certifi            pkgs/main/linux-64::certifi-2021.5.30-py39h06a4308_0\n",
            "  cffi               pkgs/main/linux-64::cffi-1.14.6-py39h400218f_0\n",
            "  chardet            pkgs/main/linux-64::chardet-4.0.0-py39h06a4308_1003\n",
            "  conda              pkgs/main/linux-64::conda-4.10.3-py39h06a4308_0\n",
            "  conda-package-han~ pkgs/main/linux-64::conda-package-handling-1.7.3-py39h27cfd23_1\n",
            "  cryptography       pkgs/main/linux-64::cryptography-3.4.7-py39hd23ed53_0\n",
            "  idna               pkgs/main/noarch::idna-2.10-pyhd3eb1b0_0\n",
            "  ld_impl_linux-64   pkgs/main/linux-64::ld_impl_linux-64-2.35.1-h7274673_9\n",
            "  libffi             pkgs/main/linux-64::libffi-3.3-he6710b0_2\n",
            "  libgcc-ng          pkgs/main/linux-64::libgcc-ng-9.3.0-h5101ec6_17\n",
            "  libgomp            pkgs/main/linux-64::libgomp-9.3.0-h5101ec6_17\n",
            "  libstdcxx-ng       pkgs/main/linux-64::libstdcxx-ng-9.3.0-hd4cf53a_17\n",
            "  ncurses            pkgs/main/linux-64::ncurses-6.2-he6710b0_1\n",
            "  openssl            pkgs/main/linux-64::openssl-1.1.1k-h27cfd23_0\n",
            "  pip                pkgs/main/linux-64::pip-21.1.3-py39h06a4308_0\n",
            "  pycosat            pkgs/main/linux-64::pycosat-0.6.3-py39h27cfd23_0\n",
            "  pycparser          pkgs/main/noarch::pycparser-2.20-py_2\n",
            "  pyopenssl          pkgs/main/noarch::pyopenssl-20.0.1-pyhd3eb1b0_1\n",
            "  pysocks            pkgs/main/linux-64::pysocks-1.7.1-py39h06a4308_0\n",
            "  python             pkgs/main/linux-64::python-3.9.5-h12debd9_4\n",
            "  readline           pkgs/main/linux-64::readline-8.1-h27cfd23_0\n",
            "  requests           pkgs/main/noarch::requests-2.25.1-pyhd3eb1b0_0\n",
            "  ruamel_yaml        pkgs/main/linux-64::ruamel_yaml-0.15.100-py39h27cfd23_0\n",
            "  setuptools         pkgs/main/linux-64::setuptools-52.0.0-py39h06a4308_0\n",
            "  six                pkgs/main/noarch::six-1.16.0-pyhd3eb1b0_0\n",
            "  sqlite             pkgs/main/linux-64::sqlite-3.36.0-hc218d9a_0\n",
            "  tk                 pkgs/main/linux-64::tk-8.6.10-hbc83047_0\n",
            "  tqdm               pkgs/main/noarch::tqdm-4.61.2-pyhd3eb1b0_1\n",
            "  tzdata             pkgs/main/noarch::tzdata-2021a-h52ac0ba_0\n",
            "  urllib3            pkgs/main/noarch::urllib3-1.26.6-pyhd3eb1b0_1\n",
            "  wheel              pkgs/main/noarch::wheel-0.36.2-pyhd3eb1b0_0\n",
            "  xz                 pkgs/main/linux-64::xz-5.2.5-h7b6447c_0\n",
            "  yaml               pkgs/main/linux-64::yaml-0.2.5-h7b6447c_0\n",
            "  zlib               pkgs/main/linux-64::zlib-1.2.11-h7b6447c_3\n",
            "\n",
            "\n",
            "Preparing transaction: - \b\b\\ \b\b| \b\b/ \b\bdone\n",
            "Executing transaction: \\ \b\b| \b\b/ \b\b- \b\b\\ \b\b| \b\b/ \b\b- \b\b\\ \b\b| \b\b/ \b\b- \b\b\\ \b\b| \b\b/ \b\b- \b\b\\ \b\b| \b\bdone\n",
            "installation finished.\n",
            "WARNING:\n",
            "    You currently have a PYTHONPATH environment variable set. This may cause\n",
            "    unexpected behavior when running the Python interpreter in Miniconda3.\n",
            "    For best results, please verify that your PYTHONPATH only points to\n",
            "    directories of packages that are compatible with the Python interpreter\n",
            "    in Miniconda3: /usr/local\n",
            "Collecting package metadata (current_repodata.json): - \b\b\\ \b\b| \b\b/ \b\b- \b\b\\ \b\b| \b\b/ \b\b- \b\b\\ \b\b| \b\b/ \b\b- \b\b\\ \b\b| \b\b/ \b\b- \b\b\\ \b\b| \b\b/ \b\b- \b\b\\ \b\b| \b\b/ \b\b- \b\b\\ \b\b| \b\b/ \b\b- \b\b\\ \b\b| \b\b/ \b\b- \b\b\\ \b\b| \b\b/ \b\b- \b\b\\ \b\b| \b\b/ \b\b- \b\b\\ \b\b| \b\b/ \b\b- \b\b\\ \b\b| \b\b/ \b\b- \b\b\\ \b\b| \b\b/ \b\b- \b\b\\ \b\b| \b\b/ \b\b- \b\b\\ \b\b| \b\b/ \b\b- \b\b\\ \b\b| \b\b/ \b\b- \b\b\\ \b\b| \b\b/ \b\b- \b\b\\ \b\b| \b\b/ \b\b- \b\b\\ \b\b| \b\b/ \b\b- \b\b\\ \b\b| \b\b/ \b\b- \b\b\\ \b\b| \b\b/ \b\b- \b\b\\ \b\b| \b\b/ \b\b- \b\b\\ \b\b| \b\b/ \b\b- \b\b\\ \b\b| \b\b/ \b\b- \b\bdone\n",
            "Solving environment: | \b\bfailed with repodata from current_repodata.json, will retry with next repodata source.\n",
            "Collecting package metadata (repodata.json): - \b\b\\ \b\b| \b\b/ \b\b- \b\b\\ \b\b| \b\b/ \b\b- \b\b\\ \b\b| \b\b/ \b\b- \b\b\\ \b\b| \b\b/ \b\b- \b\b\\ \b\b| \b\b/ \b\b- \b\b\\ \b\b| \b\b/ \b\b- \b\b\\ \b\b| \b\b/ \b\b- \b\b\\ \b\b| \b\b/ \b\b- \b\b\\ \b\b| \b\b/ \b\b- \b\b\\ \b\b| \b\b/ \b\b- \b\b\\ \b\b| \b\b/ \b\b- \b\b\\ \b\b| \b\b/ \b\b- \b\b\\ \b\b| \b\b/ \b\b- \b\b\\ \b\b| \b\b/ \b\b- \b\b\\ \b\b| \b\b/ \b\b- \b\b\\ \b\b| \b\b/ \b\b- \b\b\\ \b\b| \b\b/ \b\b- \b\b\\ \b\b| \b\b/ \b\b- \b\b\\ \b\b| \b\b/ \b\b- \b\b\\ \b\b| \b\b/ \b\b- \b\b\\ \b\b| \b\b/ \b\b- \b\b\\ \b\b| \b\b/ \b\b- \b\b\\ \b\b| \b\b/ \b\b- \b\b\\ \b\b| \b\b/ \b\b- \b\b\\ \b\b| \b\b/ \b\b- \b\b\\ \b\b| \b\b/ \b\b- \b\b\\ \b\b| \b\b/ \b\b- \b\b\\ \b\b| \b\b/ \b\b- \b\b\\ \b\b| \b\b/ \b\b- \b\b\\ \b\b| \b\b/ \b\b- \b\b\\ \b\b| \b\b/ \b\b- \b\b\\ \b\b| \b\b/ \b\b- \b\b\\ \b\b| \b\b/ \b\b- \b\b\\ \b\b| \b\b/ \b\b- \b\b\\ \b\b| \b\b/ \b\b- \b\b\\ \b\b| \b\b/ \b\b- \b\b\\ \b\b| \b\b/ \b\b- \b\b\\ \b\b| \b\b/ \b\b- \b\b\\ \b\b| \b\b/ \b\b- \b\b\\ \b\b| \b\b/ \b\b- \b\b\\ \b\b| \b\b/ \b\b- \b\b\\ \b\b| \b\b/ \b\b- \b\b\\ \b\b| \b\b/ \b\b- \b\b\\ \b\b| \b\b/ \b\b- \b\b\\ \b\b| \b\b/ \b\b- \b\b\\ \b\b| \b\b/ \b\b- \b\b\\ \b\b| \b\b/ \b\b- \b\b\\ \b\b| \b\b/ \b\b- \b\b\\ \b\b| \b\b/ \b\b- \b\b\\ \b\b| \b\b/ \b\b- \b\b\\ \b\b| \b\b/ \b\b- \b\b\\ \b\b| \b\b/ \b\b- \b\b\\ \b\b| \b\b/ \b\b- \b\b\\ \b\b| \b\b/ \b\b- \b\b\\ \b\b| \b\b/ \b\b- \b\b\\ \b\b| \b\b/ \b\b- \b\b\\ \b\b| \b\b/ \b\b- \b\b\\ \b\b| \b\b/ \b\b- \b\b\\ \b\b| \b\b/ \b\b- \b\b\\ \b\b| \b\b/ \b\b- \b\b\\ \b\b| \b\b/ \b\b- \b\b\\ \b\b| \b\b/ \b\b- \b\b\\ \b\b| \b\b/ \b\b- \b\b\\ \b\b| \b\b/ \b\b- \b\b\\ \b\b| \b\b/ \b\b- \b\b\\ \b\b| \b\b/ \b\b- \b\b\\ \b\b| \b\b/ \b\b- \b\b\\ \b\b| \b\b/ \b\b- \b\b\\ \b\b| \b\b/ \b\b- \b\b\\ \b\b| \b\b/ \b\b- \b\b\\ \b\b| \b\b/ \b\b- \b\b\\ \b\b| \b\b/ \b\b- \b\b\\ \b\b| \b\b/ \b\b- \b\b\\ \b\b| \b\b/ \b\b- \b\b\\ \b\b| \b\b/ \b\b- \b\b\\ \b\b| \b\b/ \b\b- \b\b\\ \b\b| \b\b/ \b\b- \b\b\\ \b\b| \b\b/ \b\b- \b\b\\ \b\b| \b\b/ \b\b- \b\b\\ \b\b| \b\b/ \b\b- \b\b\\ \b\b| \b\b/ \b\b- \b\b\\ \b\b| \b\b/ \b\b- \b\b\\ \b\b| \b\b/ \b\b- \b\b\\ \b\b| \b\bdone\n",
            "Solving environment: - \b\b\\ \b\b| \b\b/ \b\b- \b\b\\ \b\b| \b\b/ \b\b- \b\b\\ \b\b| \b\b/ \b\b- \b\b\\ \b\b| \b\b/ \b\b- \b\b\\ \b\b| \b\b/ \b\b- \b\b\\ \b\b| \b\b/ \b\b- \b\b\\ \b\b| \b\b/ \b\b- \b\b\\ \b\b| \b\b/ \b\b- \b\b\\ \b\b| \b\b/ \b\b- \b\b\\ \b\b| \b\b/ \b\b- \b\b\\ \b\b| \b\b/ \b\b- \b\b\\ \b\b| \b\b/ \b\b- \b\b\\ \b\b| \b\b/ \b\b- \b\b\\ \b\b| \b\b/ \b\b- \b\b\\ \b\b| \b\b/ \b\b- \b\b\\ \b\b| \b\b/ \b\b- \b\b\\ \b\b| \b\b/ \b\b- \b\b\\ \b\b| \b\b/ \b\b- \b\b\\ \b\b| \b\b/ \b\b- \b\b\\ \b\b| \b\b/ \b\b- \b\b\\ \b\b| \b\b/ \b\b- \b\b\\ \b\b| \b\b/ \b\b- \b\b\\ \b\b| \b\b/ \b\b- \b\b\\ \b\b| \b\b/ \b\b- \b\b\\ \b\b| \b\b/ \b\b- \b\b\\ \b\b| \b\b/ \b\b- \b\b\\ \b\b| \b\b/ \b\b- \b\b\\ \b\b| \b\b/ \b\b- \b\b\\ \b\b| \b\b/ \b\b- \b\b\\ \b\b| \b\b/ \b\b- \b\b\\ \b\b| \b\b/ \b\b- \b\b\\ \b\b| \b\b/ \b\b- \b\b\\ \b\b| \b\b/ \b\b- \b\b\\ \b\b| \b\b/ \b\b- \b\b\\ \b\b| \b\b/ \b\b- \b\b\\ \b\b| \b\b/ \b\b- \b\b\\ \b\b| \b\b/ \b\b- \b\b\\ \b\b| \b\b/ \b\b- \b\b\\ \b\b| \b\b/ \b\b- \b\b\\ \b\b| \b\b/ \b\b- \b\b\\ \b\b| \b\b/ \b\b- \b\b\\ \b\b| \b\b/ \b\b- \b\b\\ \b\b| \b\b/ \b\b- \b\b\\ \b\b| \b\b/ \b\b- \b\b\\ \b\b| \b\b/ \b\b- \b\b\\ \b\b| \b\b/ \b\b- \b\b\\ \b\b| \b\b/ \b\b- \b\b\\ \b\b| \b\b/ \b\b- \b\b\\ \b\b| \b\b/ \b\b- \b\b\\ \b\b| \b\b/ \b\b- \b\b\\ \b\b| \b\b/ \b\b- \b\b\\ \b\b| \b\b/ \b\b- \b\b\\ \b\b| \b\b/ \b\b- \b\b\\ \b\b| \b\b/ \b\b- \b\b\\ \b\b| \b\b/ \b\b- \b\b\\ \b\b| \b\b/ \b\b- \b\b\\ \b\b| \b\b/ \b\b- \b\b\\ \b\b| \b\b/ \b\b- \b\b\\ \b\b| \b\b/ \b\b- \b\b\\ \b\b| \b\b/ \b\b- \b\b\\ \b\b| \b\b/ \b\b- \b\b\\ \b\b| \b\b/ \b\b- \b\b\\ \b\b| \b\b/ \b\b- \b\b\\ \b\b| \b\b/ \b\b- \b\b\\ \b\b| \b\b/ \b\b- \b\b\\ \b\b| \b\b/ \b\b- \b\b\\ \b\b| \b\b/ \b\b- \b\b\\ \b\b| \b\b/ \b\b- \b\b\\ \b\b| \b\b/ \b\b- \b\b\\ \b\b| \b\b/ \b\b- \b\b\\ \b\b| \b\b/ \b\b- \b\b\\ \b\b| \b\b/ \b\b- \b\b\\ \b\b| \b\b/ \b\b- \b\b\\ \b\b| \b\b/ \b\b- \b\b\\ \b\b| \b\b/ \b\b- \b\b\\ \b\b| \b\b/ \b\b- \b\b\\ \b\b| \b\b/ \b\b- \b\b\\ \b\b| \b\b/ \b\b- \b\b\\ \b\b| \b\b/ \b\b- \b\b\\ \b\b| \b\b/ \b\b- \b\b\\ \b\b| \b\b/ \b\b- \b\b\\ \b\b| \b\b/ \b\b- \b\b\\ \b\b| \b\b/ \b\b- \b\b\\ \b\b| \b\b/ \b\b- \b\b\\ \b\b| \b\b/ \b\b- \b\b\\ \b\b| \b\b/ \b\b- \b\b\\ \b\b| \b\b/ \b\b- \b\b\\ \b\b| \b\b/ \b\b- \b\b\\ \b\b| \b\b/ \b\b- \b\b\\ \b\b| \b\b/ \b\b- \b\b\\ \b\b| \b\b/ \b\b- \b\b\\ \b\b| \b\b/ \b\b- \b\b\\ \b\b| \b\b/ \b\b- \b\b\\ \b\b| \b\b/ \b\b- \b\b\\ \b\b| \b\b/ \b\b- \b\b\\ \b\b| \b\b/ \b\b- \b\b\\ \b\b| \b\b/ \b\b- \b\b\\ \b\b| \b\b/ \b\b- \b\b\\ \b\b| \b\b/ \b\b- \b\b\\ \b\b| \b\b/ \b\b- \b\b\\ \b\b| \b\b/ \b\b- \b\b\\ \b\b| \b\b/ \b\b- \b\b\\ \b\b| \b\b/ \b\b- \b\b\\ \b\b| \b\b/ \b\b- \b\b\\ \b\b| \b\b/ \b\b- \b\b\\ \b\b| \b\b/ \b\b- \b\b\\ \b\b| \b\b/ \b\b- \b\b\\ \b\b| \b\b/ \b\b- \b\b\\ \b\b| \b\b/ \b\b- \b\b\\ \b\b| \b\b/ \b\b- \b\b\\ \b\b| \b\b/ \b\b- \b\b\\ \b\b| \b\b/ \b\b- \b\b\\ \b\b| \b\b/ \b\b- \b\b\\ \b\b| \b\b/ \b\b- \b\b\\ \b\b| \b\b/ \b\b- \b\b\\ \b\b| \b\b/ \b\b- \b\b\\ \b\b| \b\b/ \b\b- \b\b\\ \b\b| \b\b/ \b\b- \b\b\\ \b\b| \b\b/ \b\b- \b\b\\ \b\b| \b\b/ \b\b- \b\b\\ \b\b| \b\b/ \b\b- \b\b\\ \b\b| \b\b/ \b\b- \b\b\\ \b\b| \b\b/ \b\b- \b\b\\ \b\b| \b\bdone\n",
            "\n",
            "## Package Plan ##\n",
            "\n",
            "  environment location: /usr/local\n",
            "\n",
            "  added / updated specs:\n",
            "    - cffi=1.14.6\n",
            "    - habitat-sim\n",
            "    - headless\n",
            "    - numba=0.51.2\n",
            "    - numpy=1.19.5\n",
            "    - pillow=7.1.2\n",
            "    - python=3.7\n",
            "    - scipy=1.4.1\n",
            "    - withbullet\n",
            "\n",
            "\n",
            "The following packages will be downloaded:\n",
            "\n",
            "    package                    |            build\n",
            "    ---------------------------|-----------------\n",
            "    _libgcc_mutex-0.1          |      conda_forge           3 KB  conda-forge\n",
            "    _openmp_mutex-4.5          |            1_gnu          22 KB  conda-forge\n",
            "    alsa-lib-1.2.3             |       h516909a_0         560 KB  conda-forge\n",
            "    aom-3.2.0                  |       h9c3ff4c_2         5.4 MB  conda-forge\n",
            "    attrs-21.2.0               |     pyhd8ed1ab_0          44 KB  conda-forge\n",
            "    brotlipy-0.7.0             |py37h5e8e339_1003         342 KB  conda-forge\n",
            "    bzip2-1.0.8                |       h7f98852_4         484 KB  conda-forge\n",
            "    ca-certificates-2021.10.8  |       ha878542_0         139 KB  conda-forge\n",
            "    certifi-2021.10.8          |   py37h89c1867_1         145 KB  conda-forge\n",
            "    cffi-1.14.6                |   py37h036bc23_2         225 KB  conda-forge\n",
            "    chardet-4.0.0              |   py37h89c1867_2         199 KB  conda-forge\n",
            "    colorama-0.4.4             |     pyh9f0ad1d_0          18 KB  conda-forge\n",
            "    conda-4.10.3               |   py37h89c1867_3         3.1 MB  conda-forge\n",
            "    conda-package-handling-1.7.3|   py37h5e8e339_1        1008 KB  conda-forge\n",
            "    cryptography-35.0.0        |   py37hf1a17b8_1         1.5 MB  conda-forge\n",
            "    cycler-0.11.0              |     pyhd8ed1ab_0          10 KB  conda-forge\n",
            "    dbus-1.13.6                |       h48d8840_2         572 KB  conda-forge\n",
            "    expat-2.4.1                |       h9c3ff4c_0         182 KB  conda-forge\n",
            "    ffmpeg-4.4.0               |       h6987444_5         9.9 MB  conda-forge\n",
            "    fontconfig-2.13.1          |    hba837de_1005         357 KB  conda-forge\n",
            "    freetype-2.10.4            |       h0708190_1         890 KB  conda-forge\n",
            "    gettext-0.19.8.1           |    h73d1719_1008         3.6 MB  conda-forge\n",
            "    gitdb-4.0.9                |     pyhd8ed1ab_0          46 KB  conda-forge\n",
            "    gitpython-3.1.24           |     pyhd8ed1ab_0         122 KB  conda-forge\n",
            "    glib-2.70.0                |       h780b84a_1         430 KB  conda-forge\n",
            "    glib-tools-2.70.0          |       h780b84a_1         107 KB  conda-forge\n",
            "    gmp-6.2.1                  |       h58526e2_0         806 KB  conda-forge\n",
            "    gnutls-3.6.13              |       h85f3911_1         2.0 MB  conda-forge\n",
            "    gst-plugins-base-1.18.5    |       hf529b03_1         2.6 MB  conda-forge\n",
            "    gstreamer-1.18.5           |       h9f60fe5_1         2.0 MB  conda-forge\n",
            "    habitat-sim-0.2.1          |py3.7_headless_bullet_linux_fc7fb11ccec407753a73ab810d1dbb5f57d0f9b9       147.3 MB  aihabitat\n",
            "    habitat-sim-mutex-1.0      |  headless_bullet           3 KB  aihabitat\n",
            "    headless-2.0               |                0           3 KB  aihabitat\n",
            "    icu-68.2                   |       h9c3ff4c_0        13.1 MB  conda-forge\n",
            "    idna-2.10                  |     pyh9f0ad1d_0          52 KB  conda-forge\n",
            "    imageio-2.9.0              |             py_0         3.1 MB  conda-forge\n",
            "    imageio-ffmpeg-0.4.5       |     pyhd8ed1ab_0          16 KB  conda-forge\n",
            "    jbig-2.1                   |    h7f98852_2003          43 KB  conda-forge\n",
            "    jpeg-9d                    |       h36c2ea0_0         264 KB  conda-forge\n",
            "    kiwisolver-1.3.2           |   py37h2527ec5_1          78 KB  conda-forge\n",
            "    krb5-1.19.2                |       hcc1bbae_3         1.4 MB  conda-forge\n",
            "    lame-3.100                 |    h7f98852_1001         496 KB  conda-forge\n",
            "    ld_impl_linux-64-2.36.1    |       hea4e1c9_2         667 KB  conda-forge\n",
            "    lerc-3.0                   |       h9c3ff4c_0         216 KB  conda-forge\n",
            "    libblas-3.9.0              |       8_openblas          11 KB  conda-forge\n",
            "    libcblas-3.9.0             |       8_openblas          11 KB  conda-forge\n",
            "    libclang-11.1.0            |default_ha53f305_1        19.2 MB  conda-forge\n",
            "    libdeflate-1.8             |       h7f98852_0          67 KB  conda-forge\n",
            "    libedit-3.1.20191231       |       he28a2e2_2         121 KB  conda-forge\n",
            "    libevent-2.1.10            |       h9b69904_4         1.1 MB  conda-forge\n",
            "    libffi-3.4.2               |       h9c3ff4c_4          57 KB  conda-forge\n",
            "    libgcc-ng-11.2.0           |      h1d223b6_11         887 KB  conda-forge\n",
            "    libgfortran-ng-7.5.0       |      h14aa051_19          22 KB  conda-forge\n",
            "    libgfortran4-7.5.0         |      h14aa051_19         1.3 MB  conda-forge\n",
            "    libglib-2.70.0             |       h174f98d_1         3.0 MB  conda-forge\n",
            "    libgomp-11.2.0             |      h1d223b6_11         427 KB  conda-forge\n",
            "    libiconv-1.16              |       h516909a_0         1.4 MB  conda-forge\n",
            "    liblapack-3.9.0            |       8_openblas          11 KB  conda-forge\n",
            "    libllvm10-10.0.1           |       he513fc3_3        26.4 MB  conda-forge\n",
            "    libllvm11-11.1.0           |       hf817b99_2        29.1 MB  conda-forge\n",
            "    libnsl-2.0.0               |       h7f98852_0          31 KB  conda-forge\n",
            "    libogg-1.3.4               |       h7f98852_1         206 KB  conda-forge\n",
            "    libopenblas-0.3.12         |pthreads_hb3c22a3_1         8.2 MB  conda-forge\n",
            "    libopus-1.3.1              |       h7f98852_1         255 KB  conda-forge\n",
            "    libpng-1.6.37              |       h21135ba_2         306 KB  conda-forge\n",
            "    libpq-13.3                 |       hd57d9b9_3         2.7 MB  conda-forge\n",
            "    libstdcxx-ng-11.2.0        |      he4da1e4_11         4.2 MB  conda-forge\n",
            "    libtiff-4.3.0              |       h6f004c6_2         614 KB  conda-forge\n",
            "    libuuid-2.32.1             |    h7f98852_1000          28 KB  conda-forge\n",
            "    libvorbis-1.3.7            |       h9c3ff4c_0         280 KB  conda-forge\n",
            "    libvpx-1.11.0              |       h9c3ff4c_3         1.1 MB  conda-forge\n",
            "    libwebp-base-1.2.1         |       h7f98852_0         845 KB  conda-forge\n",
            "    libxcb-1.13                |    h7f98852_1003         395 KB  conda-forge\n",
            "    libxkbcommon-1.0.3         |       he3ba5ed_0         581 KB  conda-forge\n",
            "    libxml2-2.9.12             |       h72842e0_0         772 KB  conda-forge\n",
            "    libzlib-1.2.11             |    h36c2ea0_1013          59 KB  conda-forge\n",
            "    llvmlite-0.34.0            |   py37h5202443_2         322 KB  conda-forge\n",
            "    lz4-c-1.9.3                |       h9c3ff4c_1         179 KB  conda-forge\n",
            "    matplotlib-3.4.3           |   py37h89c1867_1           7 KB  conda-forge\n",
            "    matplotlib-base-3.4.3      |   py37h1058ff1_1         7.3 MB  conda-forge\n",
            "    mysql-common-8.0.27        |       ha770c72_1         1.8 MB  conda-forge\n",
            "    mysql-libs-8.0.27          |       hfa10184_1         1.9 MB  conda-forge\n",
            "    ncurses-6.2                |       h58526e2_4         985 KB  conda-forge\n",
            "    nettle-3.6                 |       he412f7d_0         6.5 MB  conda-forge\n",
            "    nspr-4.32                  |       h9c3ff4c_0         231 KB  conda-forge\n",
            "    nss-3.71                   |       hb5efdd6_0         2.1 MB  conda-forge\n",
            "    numba-0.51.2               |   py37h9fdb41a_0         3.6 MB  conda-forge\n",
            "    numpy-1.19.5               |   py37h038b26d_2         5.3 MB  conda-forge\n",
            "    olefile-0.46               |     pyh9f0ad1d_1          32 KB  conda-forge\n",
            "    openh264-2.1.1             |       h780b84a_0         1.5 MB  conda-forge\n",
            "    openssl-1.1.1l             |       h7f98852_0         2.1 MB  conda-forge\n",
            "    pcre-8.45                  |       h9c3ff4c_0         253 KB  conda-forge\n",
            "    pillow-7.1.2               |   py37h718be6c_0         658 KB  conda-forge\n",
            "    pip-21.3.1                 |     pyhd8ed1ab_0         1.2 MB  conda-forge\n",
            "    pthread-stubs-0.4          |    h36c2ea0_1001           5 KB  conda-forge\n",
            "    pycosat-0.6.3              |py37h5e8e339_1009         107 KB  conda-forge\n",
            "    pycparser-2.20             |     pyh9f0ad1d_2          94 KB  conda-forge\n",
            "    pyopenssl-21.0.0           |     pyhd8ed1ab_0          48 KB  conda-forge\n",
            "    pyparsing-3.0.4            |     pyhd8ed1ab_0          78 KB  conda-forge\n",
            "    pyqt-5.12.3                |   py37h89c1867_7          21 KB  conda-forge\n",
            "    pyqt-impl-5.12.3           |   py37he336c9b_7         5.9 MB  conda-forge\n",
            "    pyqt5-sip-4.19.18          |   py37hcd2ae1e_7         310 KB  conda-forge\n",
            "    pyqtchart-5.12             |   py37he336c9b_7         256 KB  conda-forge\n",
            "    pyqtwebengine-5.12.1       |   py37he336c9b_7         175 KB  conda-forge\n",
            "    pysocks-1.7.1              |   py37h89c1867_4          28 KB  conda-forge\n",
            "    python-3.7.12              |hb7a2778_100_cpython        57.3 MB  conda-forge\n",
            "    python-dateutil-2.8.2      |     pyhd8ed1ab_0         240 KB  conda-forge\n",
            "    python_abi-3.7             |          2_cp37m           4 KB  conda-forge\n",
            "    qt-5.12.9                  |       hda022c4_4        99.5 MB  conda-forge\n",
            "    quaternion-2021.3.11.10.32.22|   py37h902c9e0_0          88 KB  conda-forge\n",
            "    readline-8.1               |       h46c0cb4_0         295 KB  conda-forge\n",
            "    requests-2.25.1            |     pyhd3deb0d_0          51 KB  conda-forge\n",
            "    ruamel_yaml-0.15.80        |py37h5e8e339_1006         270 KB  conda-forge\n",
            "    scipy-1.4.1                |   py37ha3d9a3c_3        18.8 MB  conda-forge\n",
            "    setuptools-58.5.2          |   py37h89c1867_0        1007 KB  conda-forge\n",
            "    six-1.16.0                 |     pyh6c4a22f_0          14 KB  conda-forge\n",
            "    smmap-3.0.5                |     pyh44b312d_0          22 KB  conda-forge\n",
            "    sqlite-3.36.0              |       h9cd32fc_2         1.4 MB  conda-forge\n",
            "    tk-8.6.11                  |       h27826a3_1         3.3 MB  conda-forge\n",
            "    tornado-6.1                |   py37h5e8e339_2         642 KB  conda-forge\n",
            "    tqdm-4.62.3                |     pyhd8ed1ab_0          80 KB  conda-forge\n",
            "    typing_extensions-3.10.0.2 |     pyha770c72_0          28 KB  conda-forge\n",
            "    urllib3-1.26.7             |     pyhd8ed1ab_0         100 KB  conda-forge\n",
            "    wheel-0.37.0               |     pyhd8ed1ab_1          31 KB  conda-forge\n",
            "    withbullet-2.0             |                0           3 KB  aihabitat\n",
            "    x264-1!161.3030            |       h7f98852_1         2.5 MB  conda-forge\n",
            "    x265-3.5                   |       h4bd325d_1         6.7 MB  conda-forge\n",
            "    xorg-fixesproto-5.0        |    h7f98852_1002           9 KB  conda-forge\n",
            "    xorg-inputproto-2.3.2      |    h7f98852_1002          19 KB  conda-forge\n",
            "    xorg-kbproto-1.0.7         |    h7f98852_1002          27 KB  conda-forge\n",
            "    xorg-libx11-1.7.2          |       h7f98852_0         941 KB  conda-forge\n",
            "    xorg-libxau-1.0.9          |       h7f98852_0          13 KB  conda-forge\n",
            "    xorg-libxcursor-1.2.0      |       h7f98852_0          30 KB  conda-forge\n",
            "    xorg-libxdmcp-1.1.3        |       h7f98852_0          19 KB  conda-forge\n",
            "    xorg-libxext-1.3.4         |       h7f98852_1          54 KB  conda-forge\n",
            "    xorg-libxfixes-5.0.3       |    h7f98852_1004          18 KB  conda-forge\n",
            "    xorg-libxi-1.7.10          |       h7f98852_0          46 KB  conda-forge\n",
            "    xorg-libxinerama-1.1.4     |    h9c3ff4c_1001          13 KB  conda-forge\n",
            "    xorg-libxrandr-1.5.2       |       h7f98852_1          29 KB  conda-forge\n",
            "    xorg-libxrender-0.9.10     |    h7f98852_1003          32 KB  conda-forge\n",
            "    xorg-randrproto-1.5.0      |    h7f98852_1001          32 KB  conda-forge\n",
            "    xorg-renderproto-0.11.1    |    h7f98852_1002           9 KB  conda-forge\n",
            "    xorg-xextproto-7.3.0       |    h7f98852_1002          28 KB  conda-forge\n",
            "    xorg-xproto-7.0.31         |    h7f98852_1007          73 KB  conda-forge\n",
            "    xz-5.2.5                   |       h516909a_1         343 KB  conda-forge\n",
            "    yaml-0.2.5                 |       h516909a_0          82 KB  conda-forge\n",
            "    zlib-1.2.11                |    h36c2ea0_1013          86 KB  conda-forge\n",
            "    zstd-1.5.0                 |       ha95c52a_0         490 KB  conda-forge\n",
            "    ------------------------------------------------------------\n",
            "                                           Total:       544.7 MB\n",
            "\n",
            "The following NEW packages will be INSTALLED:\n",
            "\n",
            "  alsa-lib           conda-forge/linux-64::alsa-lib-1.2.3-h516909a_0\n",
            "  aom                conda-forge/linux-64::aom-3.2.0-h9c3ff4c_2\n",
            "  attrs              conda-forge/noarch::attrs-21.2.0-pyhd8ed1ab_0\n",
            "  bzip2              conda-forge/linux-64::bzip2-1.0.8-h7f98852_4\n",
            "  colorama           conda-forge/noarch::colorama-0.4.4-pyh9f0ad1d_0\n",
            "  cycler             conda-forge/noarch::cycler-0.11.0-pyhd8ed1ab_0\n",
            "  dbus               conda-forge/linux-64::dbus-1.13.6-h48d8840_2\n",
            "  expat              conda-forge/linux-64::expat-2.4.1-h9c3ff4c_0\n",
            "  ffmpeg             conda-forge/linux-64::ffmpeg-4.4.0-h6987444_5\n",
            "  fontconfig         conda-forge/linux-64::fontconfig-2.13.1-hba837de_1005\n",
            "  freetype           conda-forge/linux-64::freetype-2.10.4-h0708190_1\n",
            "  gettext            conda-forge/linux-64::gettext-0.19.8.1-h73d1719_1008\n",
            "  gitdb              conda-forge/noarch::gitdb-4.0.9-pyhd8ed1ab_0\n",
            "  gitpython          conda-forge/noarch::gitpython-3.1.24-pyhd8ed1ab_0\n",
            "  glib               conda-forge/linux-64::glib-2.70.0-h780b84a_1\n",
            "  glib-tools         conda-forge/linux-64::glib-tools-2.70.0-h780b84a_1\n",
            "  gmp                conda-forge/linux-64::gmp-6.2.1-h58526e2_0\n",
            "  gnutls             conda-forge/linux-64::gnutls-3.6.13-h85f3911_1\n",
            "  gst-plugins-base   conda-forge/linux-64::gst-plugins-base-1.18.5-hf529b03_1\n",
            "  gstreamer          conda-forge/linux-64::gstreamer-1.18.5-h9f60fe5_1\n",
            "  habitat-sim        aihabitat/linux-64::habitat-sim-0.2.1-py3.7_headless_bullet_linux_fc7fb11ccec407753a73ab810d1dbb5f57d0f9b9\n",
            "  habitat-sim-mutex  aihabitat/noarch::habitat-sim-mutex-1.0-headless_bullet\n",
            "  headless           aihabitat/noarch::headless-2.0-0\n",
            "  icu                conda-forge/linux-64::icu-68.2-h9c3ff4c_0\n",
            "  imageio            conda-forge/noarch::imageio-2.9.0-py_0\n",
            "  imageio-ffmpeg     conda-forge/noarch::imageio-ffmpeg-0.4.5-pyhd8ed1ab_0\n",
            "  jbig               conda-forge/linux-64::jbig-2.1-h7f98852_2003\n",
            "  jpeg               conda-forge/linux-64::jpeg-9d-h36c2ea0_0\n",
            "  kiwisolver         conda-forge/linux-64::kiwisolver-1.3.2-py37h2527ec5_1\n",
            "  krb5               conda-forge/linux-64::krb5-1.19.2-hcc1bbae_3\n",
            "  lame               conda-forge/linux-64::lame-3.100-h7f98852_1001\n",
            "  lerc               conda-forge/linux-64::lerc-3.0-h9c3ff4c_0\n",
            "  libblas            conda-forge/linux-64::libblas-3.9.0-8_openblas\n",
            "  libcblas           conda-forge/linux-64::libcblas-3.9.0-8_openblas\n",
            "  libclang           conda-forge/linux-64::libclang-11.1.0-default_ha53f305_1\n",
            "  libdeflate         conda-forge/linux-64::libdeflate-1.8-h7f98852_0\n",
            "  libedit            conda-forge/linux-64::libedit-3.1.20191231-he28a2e2_2\n",
            "  libevent           conda-forge/linux-64::libevent-2.1.10-h9b69904_4\n",
            "  libgfortran-ng     conda-forge/linux-64::libgfortran-ng-7.5.0-h14aa051_19\n",
            "  libgfortran4       conda-forge/linux-64::libgfortran4-7.5.0-h14aa051_19\n",
            "  libglib            conda-forge/linux-64::libglib-2.70.0-h174f98d_1\n",
            "  libiconv           conda-forge/linux-64::libiconv-1.16-h516909a_0\n",
            "  liblapack          conda-forge/linux-64::liblapack-3.9.0-8_openblas\n",
            "  libllvm10          conda-forge/linux-64::libllvm10-10.0.1-he513fc3_3\n",
            "  libllvm11          conda-forge/linux-64::libllvm11-11.1.0-hf817b99_2\n",
            "  libnsl             conda-forge/linux-64::libnsl-2.0.0-h7f98852_0\n",
            "  libogg             conda-forge/linux-64::libogg-1.3.4-h7f98852_1\n",
            "  libopenblas        conda-forge/linux-64::libopenblas-0.3.12-pthreads_hb3c22a3_1\n",
            "  libopus            conda-forge/linux-64::libopus-1.3.1-h7f98852_1\n",
            "  libpng             conda-forge/linux-64::libpng-1.6.37-h21135ba_2\n",
            "  libpq              conda-forge/linux-64::libpq-13.3-hd57d9b9_3\n",
            "  libtiff            conda-forge/linux-64::libtiff-4.3.0-h6f004c6_2\n",
            "  libuuid            conda-forge/linux-64::libuuid-2.32.1-h7f98852_1000\n",
            "  libvorbis          conda-forge/linux-64::libvorbis-1.3.7-h9c3ff4c_0\n",
            "  libvpx             conda-forge/linux-64::libvpx-1.11.0-h9c3ff4c_3\n",
            "  libwebp-base       conda-forge/linux-64::libwebp-base-1.2.1-h7f98852_0\n",
            "  libxcb             conda-forge/linux-64::libxcb-1.13-h7f98852_1003\n",
            "  libxkbcommon       conda-forge/linux-64::libxkbcommon-1.0.3-he3ba5ed_0\n",
            "  libxml2            conda-forge/linux-64::libxml2-2.9.12-h72842e0_0\n",
            "  libzlib            conda-forge/linux-64::libzlib-1.2.11-h36c2ea0_1013\n",
            "  llvmlite           conda-forge/linux-64::llvmlite-0.34.0-py37h5202443_2\n",
            "  lz4-c              conda-forge/linux-64::lz4-c-1.9.3-h9c3ff4c_1\n",
            "  matplotlib         conda-forge/linux-64::matplotlib-3.4.3-py37h89c1867_1\n",
            "  matplotlib-base    conda-forge/linux-64::matplotlib-base-3.4.3-py37h1058ff1_1\n",
            "  mysql-common       conda-forge/linux-64::mysql-common-8.0.27-ha770c72_1\n",
            "  mysql-libs         conda-forge/linux-64::mysql-libs-8.0.27-hfa10184_1\n",
            "  nettle             conda-forge/linux-64::nettle-3.6-he412f7d_0\n",
            "  nspr               conda-forge/linux-64::nspr-4.32-h9c3ff4c_0\n",
            "  nss                conda-forge/linux-64::nss-3.71-hb5efdd6_0\n",
            "  numba              conda-forge/linux-64::numba-0.51.2-py37h9fdb41a_0\n",
            "  numpy              conda-forge/linux-64::numpy-1.19.5-py37h038b26d_2\n",
            "  olefile            conda-forge/noarch::olefile-0.46-pyh9f0ad1d_1\n",
            "  openh264           conda-forge/linux-64::openh264-2.1.1-h780b84a_0\n",
            "  pcre               conda-forge/linux-64::pcre-8.45-h9c3ff4c_0\n",
            "  pillow             conda-forge/linux-64::pillow-7.1.2-py37h718be6c_0\n",
            "  pthread-stubs      conda-forge/linux-64::pthread-stubs-0.4-h36c2ea0_1001\n",
            "  pyparsing          conda-forge/noarch::pyparsing-3.0.4-pyhd8ed1ab_0\n",
            "  pyqt               conda-forge/linux-64::pyqt-5.12.3-py37h89c1867_7\n",
            "  pyqt-impl          conda-forge/linux-64::pyqt-impl-5.12.3-py37he336c9b_7\n",
            "  pyqt5-sip          conda-forge/linux-64::pyqt5-sip-4.19.18-py37hcd2ae1e_7\n",
            "  pyqtchart          conda-forge/linux-64::pyqtchart-5.12-py37he336c9b_7\n",
            "  pyqtwebengine      conda-forge/linux-64::pyqtwebengine-5.12.1-py37he336c9b_7\n",
            "  python-dateutil    conda-forge/noarch::python-dateutil-2.8.2-pyhd8ed1ab_0\n",
            "  python_abi         conda-forge/linux-64::python_abi-3.7-2_cp37m\n",
            "  qt                 conda-forge/linux-64::qt-5.12.9-hda022c4_4\n",
            "  quaternion         conda-forge/linux-64::quaternion-2021.3.11.10.32.22-py37h902c9e0_0\n",
            "  scipy              conda-forge/linux-64::scipy-1.4.1-py37ha3d9a3c_3\n",
            "  smmap              conda-forge/noarch::smmap-3.0.5-pyh44b312d_0\n",
            "  tornado            conda-forge/linux-64::tornado-6.1-py37h5e8e339_2\n",
            "  typing_extensions  conda-forge/noarch::typing_extensions-3.10.0.2-pyha770c72_0\n",
            "  withbullet         aihabitat/noarch::withbullet-2.0-0\n",
            "  x264               conda-forge/linux-64::x264-1!161.3030-h7f98852_1\n",
            "  x265               conda-forge/linux-64::x265-3.5-h4bd325d_1\n",
            "  xorg-fixesproto    conda-forge/linux-64::xorg-fixesproto-5.0-h7f98852_1002\n",
            "  xorg-inputproto    conda-forge/linux-64::xorg-inputproto-2.3.2-h7f98852_1002\n",
            "  xorg-kbproto       conda-forge/linux-64::xorg-kbproto-1.0.7-h7f98852_1002\n",
            "  xorg-libx11        conda-forge/linux-64::xorg-libx11-1.7.2-h7f98852_0\n",
            "  xorg-libxau        conda-forge/linux-64::xorg-libxau-1.0.9-h7f98852_0\n",
            "  xorg-libxcursor    conda-forge/linux-64::xorg-libxcursor-1.2.0-h7f98852_0\n",
            "  xorg-libxdmcp      conda-forge/linux-64::xorg-libxdmcp-1.1.3-h7f98852_0\n",
            "  xorg-libxext       conda-forge/linux-64::xorg-libxext-1.3.4-h7f98852_1\n",
            "  xorg-libxfixes     conda-forge/linux-64::xorg-libxfixes-5.0.3-h7f98852_1004\n",
            "  xorg-libxi         conda-forge/linux-64::xorg-libxi-1.7.10-h7f98852_0\n",
            "  xorg-libxinerama   conda-forge/linux-64::xorg-libxinerama-1.1.4-h9c3ff4c_1001\n",
            "  xorg-libxrandr     conda-forge/linux-64::xorg-libxrandr-1.5.2-h7f98852_1\n",
            "  xorg-libxrender    conda-forge/linux-64::xorg-libxrender-0.9.10-h7f98852_1003\n",
            "  xorg-randrproto    conda-forge/linux-64::xorg-randrproto-1.5.0-h7f98852_1001\n",
            "  xorg-renderproto   conda-forge/linux-64::xorg-renderproto-0.11.1-h7f98852_1002\n",
            "  xorg-xextproto     conda-forge/linux-64::xorg-xextproto-7.3.0-h7f98852_1002\n",
            "  xorg-xproto        conda-forge/linux-64::xorg-xproto-7.0.31-h7f98852_1007\n",
            "  zstd               conda-forge/linux-64::zstd-1.5.0-ha95c52a_0\n",
            "\n",
            "The following packages will be REMOVED:\n",
            "\n",
            "  tzdata-2021a-h52ac0ba_0\n",
            "\n",
            "The following packages will be UPDATED:\n",
            "\n",
            "  ca-certificates    pkgs/main::ca-certificates-2021.7.5-h~ --> conda-forge::ca-certificates-2021.10.8-ha878542_0\n",
            "  certifi            pkgs/main::certifi-2021.5.30-py39h06a~ --> conda-forge::certifi-2021.10.8-py37h89c1867_1\n",
            "  cffi                pkgs/main::cffi-1.14.6-py39h400218f_0 --> conda-forge::cffi-1.14.6-py37h036bc23_2\n",
            "  conda              pkgs/main::conda-4.10.3-py39h06a4308_0 --> conda-forge::conda-4.10.3-py37h89c1867_3\n",
            "  cryptography       pkgs/main::cryptography-3.4.7-py39hd2~ --> conda-forge::cryptography-35.0.0-py37hf1a17b8_1\n",
            "  ld_impl_linux-64   pkgs/main::ld_impl_linux-64-2.35.1-h7~ --> conda-forge::ld_impl_linux-64-2.36.1-hea4e1c9_2\n",
            "  libffi                   pkgs/main::libffi-3.3-he6710b0_2 --> conda-forge::libffi-3.4.2-h9c3ff4c_4\n",
            "  libgcc-ng          pkgs/main::libgcc-ng-9.3.0-h5101ec6_17 --> conda-forge::libgcc-ng-11.2.0-h1d223b6_11\n",
            "  libgomp              pkgs/main::libgomp-9.3.0-h5101ec6_17 --> conda-forge::libgomp-11.2.0-h1d223b6_11\n",
            "  libstdcxx-ng       pkgs/main::libstdcxx-ng-9.3.0-hd4cf53~ --> conda-forge::libstdcxx-ng-11.2.0-he4da1e4_11\n",
            "  ncurses                 pkgs/main::ncurses-6.2-he6710b0_1 --> conda-forge::ncurses-6.2-h58526e2_4\n",
            "  openssl              pkgs/main::openssl-1.1.1k-h27cfd23_0 --> conda-forge::openssl-1.1.1l-h7f98852_0\n",
            "  pip                pkgs/main/linux-64::pip-21.1.3-py39h0~ --> conda-forge/noarch::pip-21.3.1-pyhd8ed1ab_0\n",
            "  pycosat            pkgs/main::pycosat-0.6.3-py39h27cfd23~ --> conda-forge::pycosat-0.6.3-py37h5e8e339_1009\n",
            "  pyopenssl          pkgs/main::pyopenssl-20.0.1-pyhd3eb1b~ --> conda-forge::pyopenssl-21.0.0-pyhd8ed1ab_0\n",
            "  pysocks            pkgs/main::pysocks-1.7.1-py39h06a4308~ --> conda-forge::pysocks-1.7.1-py37h89c1867_4\n",
            "  setuptools         pkgs/main::setuptools-52.0.0-py39h06a~ --> conda-forge::setuptools-58.5.2-py37h89c1867_0\n",
            "  sqlite                pkgs/main::sqlite-3.36.0-hc218d9a_0 --> conda-forge::sqlite-3.36.0-h9cd32fc_2\n",
            "  tk                        pkgs/main::tk-8.6.10-hbc83047_0 --> conda-forge::tk-8.6.11-h27826a3_1\n",
            "  tqdm                  pkgs/main::tqdm-4.61.2-pyhd3eb1b0_1 --> conda-forge::tqdm-4.62.3-pyhd8ed1ab_0\n",
            "  urllib3            pkgs/main::urllib3-1.26.6-pyhd3eb1b0_1 --> conda-forge::urllib3-1.26.7-pyhd8ed1ab_0\n",
            "  wheel                pkgs/main::wheel-0.36.2-pyhd3eb1b0_0 --> conda-forge::wheel-0.37.0-pyhd8ed1ab_1\n",
            "  xz                         pkgs/main::xz-5.2.5-h7b6447c_0 --> conda-forge::xz-5.2.5-h516909a_1\n",
            "  zlib                    pkgs/main::zlib-1.2.11-h7b6447c_3 --> conda-forge::zlib-1.2.11-h36c2ea0_1013\n",
            "\n",
            "The following packages will be SUPERSEDED by a higher-priority channel:\n",
            "\n",
            "  _libgcc_mutex           pkgs/main::_libgcc_mutex-0.1-main --> conda-forge::_libgcc_mutex-0.1-conda_forge\n",
            "  _openmp_mutex                                   pkgs/main --> conda-forge\n",
            "  brotlipy           pkgs/main::brotlipy-0.7.0-py39h27cfd2~ --> conda-forge::brotlipy-0.7.0-py37h5e8e339_1003\n",
            "  chardet            pkgs/main::chardet-4.0.0-py39h06a4308~ --> conda-forge::chardet-4.0.0-py37h89c1867_2\n",
            "  conda-package-han~ pkgs/main::conda-package-handling-1.7~ --> conda-forge::conda-package-handling-1.7.3-py37h5e8e339_1\n",
            "  idna                    pkgs/main::idna-2.10-pyhd3eb1b0_0 --> conda-forge::idna-2.10-pyh9f0ad1d_0\n",
            "  pycparser                  pkgs/main::pycparser-2.20-py_2 --> conda-forge::pycparser-2.20-pyh9f0ad1d_2\n",
            "  python                 pkgs/main::python-3.9.5-h12debd9_4 --> conda-forge::python-3.7.12-hb7a2778_100_cpython\n",
            "  readline               pkgs/main::readline-8.1-h27cfd23_0 --> conda-forge::readline-8.1-h46c0cb4_0\n",
            "  requests           pkgs/main::requests-2.25.1-pyhd3eb1b0~ --> conda-forge::requests-2.25.1-pyhd3deb0d_0\n",
            "  ruamel_yaml        pkgs/main::ruamel_yaml-0.15.100-py39h~ --> conda-forge::ruamel_yaml-0.15.80-py37h5e8e339_1006\n",
            "  six                    pkgs/main::six-1.16.0-pyhd3eb1b0_0 --> conda-forge::six-1.16.0-pyh6c4a22f_0\n",
            "  yaml                     pkgs/main::yaml-0.2.5-h7b6447c_0 --> conda-forge::yaml-0.2.5-h516909a_0\n",
            "\n",
            "\n",
            "\n",
            "Downloading and Extracting Packages\n",
            "python_abi-3.7       | 4 KB      | : 100% 1.0/1 [00:00<00:00,  6.13it/s]\n",
            "libnsl-2.0.0         | 31 KB     | : 100% 1.0/1 [00:00<00:00, 10.66it/s]\n",
            "olefile-0.46         | 32 KB     | : 100% 1.0/1 [00:00<00:00, 16.67it/s]\n",
            "gitdb-4.0.9          | 46 KB     | : 100% 1.0/1 [00:00<00:00, 17.87it/s]\n",
            "withbullet-2.0       | 3 KB      | : 100% 1.0/1 [00:00<00:00,  3.03it/s]\n",
            "lerc-3.0             | 216 KB    | : 100% 1.0/1 [00:00<00:00, 10.13it/s]\n",
            "libxkbcommon-1.0.3   | 581 KB    | : 100% 1.0/1 [00:00<00:00,  7.34it/s]\n",
            "tornado-6.1          | 642 KB    | : 100% 1.0/1 [00:00<00:00,  4.30it/s]\n",
            "matplotlib-base-3.4. | 7.3 MB    | : 100% 1.0/1 [00:01<00:00,  1.45s/it]               \n",
            "libllvm10-10.0.1     | 26.4 MB   | : 100% 1.0/1 [00:04<00:00,  4.63s/it]               \n",
            "requests-2.25.1      | 51 KB     | : 100% 1.0/1 [00:00<00:00, 16.19it/s]\n",
            "tqdm-4.62.3          | 80 KB     | : 100% 1.0/1 [00:00<00:00, 14.20it/s]\n",
            "aom-3.2.0            | 5.4 MB    | : 100% 1.0/1 [00:00<00:00,  1.05it/s]               \n",
            "libvpx-1.11.0        | 1.1 MB    | : 100% 1.0/1 [00:00<00:00,  5.35it/s]\n",
            "gstreamer-1.18.5     | 2.0 MB    | : 100% 1.0/1 [00:00<00:00,  2.07it/s]\n",
            "ca-certificates-2021 | 139 KB    | : 100% 1.0/1 [00:00<00:00, 14.54it/s]\n",
            "yaml-0.2.5           | 82 KB     | : 100% 1.0/1 [00:00<00:00, 16.84it/s]\n",
            "ffmpeg-4.4.0         | 9.9 MB    | : 100% 1.0/1 [00:01<00:00,  1.61s/it]               \n",
            "xorg-libxau-1.0.9    | 13 KB     | : 100% 1.0/1 [00:00<00:00, 20.71it/s]\n",
            "mysql-libs-8.0.27    | 1.9 MB    | : 100% 1.0/1 [00:00<00:00,  2.92it/s]\n",
            "cycler-0.11.0        | 10 KB     | : 100% 1.0/1 [00:00<00:00, 23.33it/s]\n",
            "lz4-c-1.9.3          | 179 KB    | : 100% 1.0/1 [00:00<00:00, 12.66it/s]\n",
            "xorg-xproto-7.0.31   | 73 KB     | : 100% 1.0/1 [00:00<00:00, 15.96it/s]\n",
            "openh264-2.1.1       | 1.5 MB    | : 100% 1.0/1 [00:00<00:00,  3.60it/s]\n",
            "idna-2.10            | 52 KB     | : 100% 1.0/1 [00:00<00:00, 21.73it/s]\n",
            "xorg-xextproto-7.3.0 | 28 KB     | : 100% 1.0/1 [00:00<00:00, 18.29it/s]\n",
            "libedit-3.1.20191231 | 121 KB    | : 100% 1.0/1 [00:00<00:00, 12.12it/s]\n",
            "libevent-2.1.10      | 1.1 MB    | : 100% 1.0/1 [00:00<00:00,  3.19it/s]\n",
            "kiwisolver-1.3.2     | 78 KB     | : 100% 1.0/1 [00:00<00:00, 19.11it/s]\n",
            "habitat-sim-mutex-1. | 3 KB      | : 100% 1.0/1 [00:00<00:00,  2.99it/s]\n",
            "xorg-libxcursor-1.2. | 30 KB     | : 100% 1.0/1 [00:00<00:00, 22.51it/s]\n",
            "libstdcxx-ng-11.2.0  | 4.2 MB    | : 100% 1.0/1 [00:00<00:00,  1.32it/s]\n",
            "nettle-3.6           | 6.5 MB    | : 100% 1.0/1 [00:01<00:00,  1.06s/it]               \n",
            "xorg-kbproto-1.0.7   | 27 KB     | : 100% 1.0/1 [00:00<00:00, 15.99it/s]\n",
            "libuuid-2.32.1       | 28 KB     | : 100% 1.0/1 [00:00<00:00, 19.35it/s]\n",
            "pcre-8.45            | 253 KB    | : 100% 1.0/1 [00:00<00:00, 10.60it/s]\n",
            "urllib3-1.26.7       | 100 KB    | : 100% 1.0/1 [00:00<00:00, 14.47it/s]\n",
            "pyqt5-sip-4.19.18    | 310 KB    | : 100% 1.0/1 [00:00<00:00, 10.61it/s]\n",
            "alsa-lib-1.2.3       | 560 KB    | : 100% 1.0/1 [00:00<00:00,  6.28it/s]\n",
            "quaternion-2021.3.11 | 88 KB     | : 100% 1.0/1 [00:00<00:00, 16.33it/s]\n",
            "sqlite-3.36.0        | 1.4 MB    | : 100% 1.0/1 [00:00<00:00,  3.95it/s]\n",
            "xorg-libxrandr-1.5.2 | 29 KB     | : 100% 1.0/1 [00:00<00:00, 21.86it/s]\n",
            "imageio-ffmpeg-0.4.5 | 16 KB     | : 100% 1.0/1 [00:00<00:00, 24.65it/s]\n",
            "fontconfig-2.13.1    | 357 KB    | : 100% 1.0/1 [00:00<00:00, 10.07it/s]\n",
            "libgfortran-ng-7.5.0 | 22 KB     | : 100% 1.0/1 [00:00<00:00, 15.50it/s]\n",
            "_openmp_mutex-4.5    | 22 KB     | : 100% 1.0/1 [00:00<00:00, 10.58it/s]\n",
            "smmap-3.0.5          | 22 KB     | : 100% 1.0/1 [00:00<00:00, 23.51it/s]\n",
            "libffi-3.4.2         | 57 KB     | : 100% 1.0/1 [00:00<00:00, 14.97it/s]\n",
            "x265-3.5             | 6.7 MB    | : 100% 1.0/1 [00:01<00:00,  1.51s/it]\n",
            "headless-2.0         | 3 KB      | : 100% 1.0/1 [00:00<00:00,  3.61it/s]\n",
            "xorg-libxrender-0.9. | 32 KB     | : 100% 1.0/1 [00:00<00:00, 19.34it/s]\n",
            "libiconv-1.16        | 1.4 MB    | : 100% 1.0/1 [00:00<00:00,  4.14it/s]\n",
            "qt-5.12.9            | 99.5 MB   | : 100% 1.0/1 [00:17<00:00, 17.63s/it]               \n",
            "pyqtwebengine-5.12.1 | 175 KB    | : 100% 1.0/1 [00:00<00:00, 10.36it/s]\n",
            "xorg-libxi-1.7.10    | 46 KB     | : 100% 1.0/1 [00:00<00:00, 20.49it/s]\n",
            "glib-2.70.0          | 430 KB    | : 100% 1.0/1 [00:00<00:00,  5.65it/s]\n",
            "icu-68.2             | 13.1 MB   | : 100% 1.0/1 [00:02<00:00,  2.15s/it]               \n",
            "nspr-4.32            | 231 KB    | : 100% 1.0/1 [00:00<00:00,  9.53it/s]\n",
            "gitpython-3.1.24     | 122 KB    | : 100% 1.0/1 [00:00<00:00, 11.10it/s]\n",
            "wheel-0.37.0         | 31 KB     | : 100% 1.0/1 [00:00<00:00, 22.81it/s]\n",
            "libglib-2.70.0       | 3.0 MB    | : 100% 1.0/1 [00:00<00:00,  1.50it/s]\n",
            "pthread-stubs-0.4    | 5 KB      | : 100% 1.0/1 [00:00<00:00, 17.80it/s]\n",
            "chardet-4.0.0        | 199 KB    | : 100% 1.0/1 [00:00<00:00, 10.62it/s]\n",
            "tk-8.6.11            | 3.3 MB    | : 100% 1.0/1 [00:00<00:00,  1.63it/s]\n",
            "cffi-1.14.6          | 225 KB    | : 100% 1.0/1 [00:00<00:00, 10.86it/s]\n",
            "pyparsing-3.0.4      | 78 KB     | : 100% 1.0/1 [00:00<00:00, 17.43it/s]\n",
            "xorg-libx11-1.7.2    | 941 KB    | : 100% 1.0/1 [00:00<00:00,  3.29it/s]\n",
            "cryptography-35.0.0  | 1.5 MB    | : 100% 1.0/1 [00:00<00:00,  2.72it/s]\n",
            "ld_impl_linux-64-2.3 | 667 KB    | : 100% 1.0/1 [00:00<00:00,  5.59it/s]\n",
            "xorg-inputproto-2.3. | 19 KB     | : 100% 1.0/1 [00:00<00:00, 20.96it/s]\n",
            "brotlipy-0.7.0       | 342 KB    | : 100% 1.0/1 [00:00<00:00, 10.97it/s]\n",
            "libgomp-11.2.0       | 427 KB    | : 100% 1.0/1 [00:00<00:00,  9.07it/s]\n",
            "xz-5.2.5             | 343 KB    | : 100% 1.0/1 [00:00<00:00,  8.91it/s]\n",
            "pillow-7.1.2         | 658 KB    | : 100% 1.0/1 [00:00<00:00,  6.02it/s]\n",
            "lame-3.100           | 496 KB    | : 100% 1.0/1 [00:00<00:00,  7.83it/s]\n",
            "python-3.7.12        | 57.3 MB   | : 100% 1.0/1 [00:07<00:00,  7.91s/it]\n",
            "dbus-1.13.6          | 572 KB    | : 100% 1.0/1 [00:00<00:00,  7.05it/s]\n",
            "gnutls-3.6.13        | 2.0 MB    | : 100% 1.0/1 [00:00<00:00,  1.96it/s]\n",
            "imageio-2.9.0        | 3.1 MB    | : 100% 1.0/1 [00:00<00:00,  2.55it/s]\n",
            "pip-21.3.1           | 1.2 MB    | : 100% 1.0/1 [00:00<00:00,  3.31it/s]\n",
            "conda-4.10.3         | 3.1 MB    | : 100% 1.0/1 [00:00<00:00,  1.40it/s]               \n",
            "gmp-6.2.1            | 806 KB    | : 100% 1.0/1 [00:00<00:00,  5.46it/s]\n",
            "libclang-11.1.0      | 19.2 MB   | : 100% 1.0/1 [00:03<00:00,  3.36s/it]               \n",
            "glib-tools-2.70.0    | 107 KB    | : 100% 1.0/1 [00:00<00:00, 17.78it/s]\n",
            "pyopenssl-21.0.0     | 48 KB     | : 100% 1.0/1 [00:00<00:00, 18.29it/s]\n",
            "pysocks-1.7.1        | 28 KB     | : 100% 1.0/1 [00:00<00:00, 21.79it/s]\n",
            "libgfortran4-7.5.0   | 1.3 MB    | : 100% 1.0/1 [00:00<00:00,  3.67it/s]\n",
            "libogg-1.3.4         | 206 KB    | : 100% 1.0/1 [00:00<00:00, 14.01it/s]\n",
            "xorg-fixesproto-5.0  | 9 KB      | : 100% 1.0/1 [00:00<00:00, 24.72it/s]\n",
            "numba-0.51.2         | 3.6 MB    | : 100% 1.0/1 [00:00<00:00,  1.09it/s]\n",
            "libgcc-ng-11.2.0     | 887 KB    | : 100% 1.0/1 [00:00<00:00,  6.28it/s]\n",
            "pyqt-5.12.3          | 21 KB     | : 100% 1.0/1 [00:00<00:00, 20.90it/s]\n",
            "pyqt-impl-5.12.3     | 5.9 MB    | : 100% 1.0/1 [00:01<00:00,  1.87s/it]               \n",
            "pyqtchart-5.12       | 256 KB    | : 100% 1.0/1 [00:00<00:00,  9.49it/s]\n",
            "expat-2.4.1          | 182 KB    | : 100% 1.0/1 [00:00<00:00, 15.30it/s]\n",
            "libwebp-base-1.2.1   | 845 KB    | : 100% 1.0/1 [00:00<00:00,  5.18it/s]\n",
            "xorg-randrproto-1.5. | 32 KB     | : 100% 1.0/1 [00:00<00:00, 19.30it/s]\n",
            "six-1.16.0           | 14 KB     | : 100% 1.0/1 [00:00<00:00, 22.62it/s]\n",
            "setuptools-58.5.2    | 1007 KB   | : 100% 1.0/1 [00:00<00:00,  3.49it/s]\n",
            "typing_extensions-3. | 28 KB     | : 100% 1.0/1 [00:00<00:00, 21.54it/s]\n",
            "libzlib-1.2.11       | 59 KB     | : 100% 1.0/1 [00:00<00:00, 16.25it/s]\n",
            "attrs-21.2.0         | 44 KB     | : 100% 1.0/1 [00:00<00:00, 21.06it/s]\n",
            "python-dateutil-2.8. | 240 KB    | : 100% 1.0/1 [00:00<00:00,  9.60it/s]\n",
            "libxml2-2.9.12       | 772 KB    | : 100% 1.0/1 [00:00<00:00,  5.68it/s]\n",
            "xorg-renderproto-0.1 | 9 KB      | : 100% 1.0/1 [00:00<00:00, 25.19it/s]\n",
            "certifi-2021.10.8    | 145 KB    | : 100% 1.0/1 [00:00<00:00, 17.10it/s]\n",
            "libdeflate-1.8       | 67 KB     | : 100% 1.0/1 [00:00<00:00, 20.20it/s]\n",
            "openssl-1.1.1l       | 2.1 MB    | : 100% 1.0/1 [00:00<00:00,  2.40it/s]\n",
            "libtiff-4.3.0        | 614 KB    | : 100% 1.0/1 [00:00<00:00,  6.33it/s]\n",
            "libllvm11-11.1.0     | 29.1 MB   | : 100% 1.0/1 [00:05<00:00,  5.12s/it]               \n",
            "libblas-3.9.0        | 11 KB     | : 100% 1.0/1 [00:00<00:00, 19.64it/s]\n",
            "jbig-2.1             | 43 KB     | : 100% 1.0/1 [00:00<00:00, 14.67it/s]\n",
            "gst-plugins-base-1.1 | 2.6 MB    | : 100% 1.0/1 [00:00<00:00,  1.76it/s]\n",
            "libopenblas-0.3.12   | 8.2 MB    | : 100% 1.0/1 [00:01<00:00,  1.63s/it]\n",
            "scipy-1.4.1          | 18.8 MB   | : 100% 1.0/1 [00:03<00:00,  3.52s/it]               \n",
            "numpy-1.19.5         | 5.3 MB    | : 100% 1.0/1 [00:01<00:00,  1.10s/it]               \n",
            "habitat-sim-0.2.1    | 147.3 MB  | : 100% 1.0/1 [00:28<00:00, 28.66s/it]\n",
            "libopus-1.3.1        | 255 KB    | : 100% 1.0/1 [00:00<00:00, 11.47it/s]\n",
            "libvorbis-1.3.7      | 280 KB    | : 100% 1.0/1 [00:00<00:00, 11.93it/s]\n",
            "xorg-libxinerama-1.1 | 13 KB     | : 100% 1.0/1 [00:00<00:00, 21.71it/s]\n",
            "bzip2-1.0.8          | 484 KB    | : 100% 1.0/1 [00:00<00:00,  7.63it/s]\n",
            "pycparser-2.20       | 94 KB     | : 100% 1.0/1 [00:00<00:00, 14.18it/s]\n",
            "zlib-1.2.11          | 86 KB     | : 100% 1.0/1 [00:00<00:00, 17.18it/s]\n",
            "libxcb-1.13          | 395 KB    | : 100% 1.0/1 [00:00<00:00,  5.94it/s]\n",
            "freetype-2.10.4      | 890 KB    | : 100% 1.0/1 [00:00<00:00,  4.95it/s]\n",
            "llvmlite-0.34.0      | 322 KB    | : 100% 1.0/1 [00:00<00:00,  8.52it/s]\n",
            "readline-8.1         | 295 KB    | : 100% 1.0/1 [00:00<00:00,  8.95it/s]\n",
            "ruamel_yaml-0.15.80  | 270 KB    | : 100% 1.0/1 [00:00<00:00,  9.65it/s]\n",
            "mysql-common-8.0.27  | 1.8 MB    | : 100% 1.0/1 [00:00<00:00,  2.13it/s]\n",
            "liblapack-3.9.0      | 11 KB     | : 100% 1.0/1 [00:00<00:00, 23.23it/s]\n",
            "libcblas-3.9.0       | 11 KB     | : 100% 1.0/1 [00:00<00:00, 22.10it/s]\n",
            "conda-package-handli | 1008 KB   | : 100% 1.0/1 [00:00<00:00,  5.59it/s]\n",
            "x264-1!161.3030      | 2.5 MB    | : 100% 1.0/1 [00:00<00:00,  2.30it/s]\n",
            "xorg-libxdmcp-1.1.3  | 19 KB     | : 100% 1.0/1 [00:00<00:00, 16.32it/s]\n",
            "ncurses-6.2          | 985 KB    | : 100% 1.0/1 [00:00<00:00,  2.25it/s]\n",
            "pycosat-0.6.3        | 107 KB    | : 100% 1.0/1 [00:00<00:00, 15.71it/s]\n",
            "xorg-libxfixes-5.0.3 | 18 KB     | : 100% 1.0/1 [00:00<00:00, 23.16it/s]\n",
            "matplotlib-3.4.3     | 7 KB      | : 100% 1.0/1 [00:00<00:00, 22.28it/s]\n",
            "jpeg-9d              | 264 KB    | : 100% 1.0/1 [00:00<00:00, 11.02it/s]\n",
            "krb5-1.19.2          | 1.4 MB    | : 100% 1.0/1 [00:00<00:00,  3.50it/s]\n",
            "colorama-0.4.4       | 18 KB     | : 100% 1.0/1 [00:00<00:00, 18.55it/s]\n",
            "xorg-libxext-1.3.4   | 54 KB     | : 100% 1.0/1 [00:00<00:00, 17.48it/s]\n",
            "libpng-1.6.37        | 306 KB    | : 100% 1.0/1 [00:00<00:00, 10.13it/s]\n",
            "_libgcc_mutex-0.1    | 3 KB      | : 100% 1.0/1 [00:00<00:00, 22.55it/s]\n",
            "libpq-13.3           | 2.7 MB    | : 100% 1.0/1 [00:00<00:00,  1.69it/s]\n",
            "gettext-0.19.8.1     | 3.6 MB    | : 100% 1.0/1 [00:01<00:00,  1.04s/it]               \n",
            "nss-3.71             | 2.1 MB    | : 100% 1.0/1 [00:00<00:00,  2.22it/s]\n",
            "zstd-1.5.0           | 490 KB    | : 100% 1.0/1 [00:00<00:00,  7.48it/s]\n",
            "Preparing transaction: - \b\b\\ \b\b| \b\b/ \b\b- \b\b\\ \b\b| \b\b/ \b\b- \b\b\\ \b\b| \b\b/ \b\b- \b\bdone\n",
            "Verifying transaction: | \b\b/ \b\b- \b\b\\ \b\b| \b\b/ \b\b- \b\b\\ \b\b| \b\b/ \b\b- \b\b\\ \b\b| \b\b/ \b\b- \b\b\\ \b\b| \b\b/ \b\b- \b\b\\ \b\b| \b\b/ \b\b- \b\b\\ \b\b| \b\b/ \b\b- \b\b\\ \b\b| \b\b/ \b\b- \b\b\\ \b\b| \b\b/ \b\b- \b\b\\ \b\b| \b\b/ \b\b- \b\b\\ \b\b| \b\b/ \b\b- \b\b\\ \b\b| \b\b/ \b\b- \b\b\\ \b\b| \b\b/ \b\b- \b\b\\ \b\b| \b\b/ \b\b- \b\b\\ \b\b| \b\b/ \b\b- \b\b\\ \b\b| \b\b/ \b\b- \b\b\\ \b\b| \b\b/ \b\b- \b\b\\ \b\b| \b\b/ \b\b- \b\b\\ \b\bdone\n",
            "Executing transaction: / \b\b- \b\b\\ \b\b| \b\b/ \b\b- \b\b\\ \b\b| \b\b/ \b\b- \b\b\\ \b\b| \b\b/ \b\b- \b\b\\ \b\b| \b\b/ \b\b- \b\b\\ \b\b| \b\b/ \b\b- \b\b\\ \b\b| \b\b/ \b\b- \b\b\\ \b\b| \b\b/ \b\b- \b\b\\ \b\b| \b\b/ \b\b- \b\b\\ \b\b| \b\b/ \b\b- \b\b\\ \b\b| \b\b/ \b\b- \b\b\\ \b\b| \b\b/ \b\b- \b\b\\ \b\b| \b\b/ \b\b- \b\b\\ \b\b| \b\b/ \b\b- \b\b\\ \b\b| \b\b/ \b\b- \b\b\\ \b\b| \b\b/ \b\b- \b\b\\ \b\b| \b\b/ \b\b- \b\b\\ \b\b| \b\b/ \b\b- \b\b\\ \b\b| \b\b/ \b\b- \b\b\\ \b\b| \b\b/ \b\b- \b\b\\ \b\b| \b\b/ \b\b- \b\b\\ \b\b| \b\b/ \b\b- \b\b\\ \b\b| \b\b/ \b\b- \b\b\\ \b\b| \b\b/ \b\b- \b\b\\ \b\b| \b\b/ \b\b- \b\b\\ \b\b| \b\b/ \b\b- \b\b\\ \b\b| \b\b/ \b\b- \b\b\\ \b\b| \b\b/ \b\b- \b\b\\ \b\b| \b\b/ \b\b- \b\b\\ \b\b| \b\b/ \b\b- \b\b\\ \b\b| \b\b/ \b\b- \b\b\\ \b\b| \b\b/ \b\b- \b\b\\ \b\b| \b\b/ \b\b- \b\b\\ \b\b| \b\b/ \b\b- \b\b\\ \b\b| \b\b/ \b\b- \b\b\\ \b\b| \b\b/ \b\b- \b\b\\ \b\b| \b\b/ \b\b- \b\b\\ \b\b| \b\b/ \b\b- \b\b\\ \b\b| \b\b/ \b\b- \b\b\\ \b\b| \b\b/ \b\b- \b\b\\ \b\b| \b\b/ \b\b- \b\b\\ \b\b| \b\b/ \b\b- \b\b\\ \b\b| \b\b/ \b\b- \b\b\\ \b\b| \b\b/ \b\b- \b\b\\ \b\b| \b\b/ \b\b- \b\b\\ \b\b| \b\b/ \b\b- \b\b\\ \b\b| \b\b/ \b\b- \b\b\\ \b\b| \b\b/ \b\b- \b\b\\ \b\b| \b\b/ \b\b- \b\b\\ \b\b| \b\b/ \b\b- \b\b\\ \b\b| \b\b/ \b\b- \b\b\\ \b\b| \b\b/ \b\b- \b\b\\ \b\b| \b\b/ \b\b- \b\b\\ \b\b| \b\b/ \b\b- \b\b\\ \b\b| \b\b/ \b\b- \b\b\\ \b\b| \b\b/ \b\b- \b\b\\ \b\b| \b\b/ \b\b- \b\b\\ \b\b| \b\b/ \b\b- \b\b\\ \b\b| \b\b/ \b\b- \b\b\\ \b\b| \b\b/ \b\b- \b\b\\ \b\b| \b\b/ \b\b- \b\b\\ \b\b| \b\b/ \b\b- \b\b\\ \b\b| \b\b/ \b\b- \b\b\\ \b\b| \b\b/ \b\b- \b\b\\ \b\b| \b\b/ \b\b- \b\b\\ \b\b| \b\b/ \b\b- \b\b\\ \b\b| \b\b/ \b\b- \b\b\\ \b\b| \b\b/ \b\b- \b\b\\ \b\b| \b\b/ \b\b- \b\b\\ \b\b| \b\b/ \b\b- \b\b\\ \b\b| \b\b/ \b\b- \b\b\\ \b\b| \b\b/ \b\b- \b\b\\ \b\b| \b\b/ \b\b- \b\b\\ \b\b| \b\b/ \b\b- \b\b\\ \b\b| \b\b/ \b\b- \b\b\\ \b\b| \b\b/ \b\b- \b\b\\ \b\b| \b\b/ \b\b- \b\b\\ \b\b| \b\b/ \b\b- \b\b\\ \b\b| \b\b/ \b\b- \b\b\\ \b\b| \b\b/ \b\b- \b\b\\ \b\b| \b\b/ \b\b- \b\b\\ \b\b| \b\b/ \b\b- \b\b\\ \b\b| \b\b/ \b\b- \b\b\\ \b\b| \b\b/ \b\b- \b\b\\ \b\b| \b\b/ \b\b- \b\b\\ \b\b| \b\b/ \b\b- \b\b\\ \b\b| \b\b/ \b\b- \b\b\\ \b\b| \b\b/ \b\b- \b\b\\ \b\b| \b\b/ \b\b- \b\b\\ \b\b| \b\b/ \b\b- \b\b\\ \b\b| \b\b/ \b\b- \b\b\\ \b\b| \b\b/ \b\b- \b\b\\ \b\b| \b\b/ \b\b- \b\bdone\n",
            "Cloning into 'habitat-lab'...\n",
            "remote: Enumerating objects: 344, done.\u001b[K\n",
            "remote: Counting objects: 100% (344/344), done.\u001b[K\n",
            "remote: Compressing objects: 100% (317/317), done.\u001b[K\n",
            "remote: Total 344 (delta 64), reused 108 (delta 12), pack-reused 0\u001b[K\n",
            "Receiving objects: 100% (344/344), 15.25 MiB | 28.75 MiB/s, done.\n",
            "Resolving deltas: 100% (64/64), done.\n",
            "Cloning into 'habitat-sim'...\n",
            "remote: Enumerating objects: 879, done.\u001b[K\n",
            "remote: Counting objects: 100% (879/879), done.\u001b[K\n",
            "remote: Compressing objects: 100% (819/819), done.\u001b[K\n",
            "remote: Total 879 (delta 84), reused 444 (delta 46), pack-reused 0\u001b[K\n",
            "Receiving objects: 100% (879/879), 42.94 MiB | 29.28 MiB/s, done.\n",
            "Resolving deltas: 100% (84/84), done.\n",
            "Requirement already satisfied: gym>=0.17.3 in /usr/local/lib/python3.7/dist-packages (from -r ./requirements.txt (line 1)) (0.17.3)\n",
            "Requirement already satisfied: numpy>=1.16.1 in /usr/local/lib/python3.7/dist-packages (from -r ./requirements.txt (line 2)) (1.19.5)\n",
            "Collecting yacs>=0.1.8\n",
            "  Downloading yacs-0.1.8-py3-none-any.whl (14 kB)\n",
            "Requirement already satisfied: numpy-quaternion>=2019.3.18.14.33.20 in /usr/local/lib/python3.7/dist-packages (from -r ./requirements.txt (line 4)) (2021.3.11.10.32.22)\n",
            "Requirement already satisfied: attrs>=19.1.0 in /usr/local/lib/python3.7/dist-packages (from -r ./requirements.txt (line 5)) (21.2.0)\n",
            "Requirement already satisfied: opencv-python>=3.3.0 in /usr/local/lib/python3.7/dist-packages (from -r ./requirements.txt (line 6)) (4.1.2.30)\n",
            "Collecting pickle5\n",
            "  Downloading pickle5-0.0.11.tar.gz (132 kB)\n",
            "     |████████████████████████████████| 132 kB 5.6 MB/s            \n",
            "\u001b[?25h  Preparing metadata (setup.py) ... \u001b[?25l\u001b[?25hdone\n",
            "Requirement already satisfied: imageio>=2.2.0 in /usr/local/lib/python3.7/dist-packages (from -r ./requirements.txt (line 9)) (2.9.0)\n",
            "Requirement already satisfied: imageio-ffmpeg>=0.2.0 in /usr/local/lib/python3.7/dist-packages (from -r ./requirements.txt (line 10)) (0.4.5)\n",
            "Requirement already satisfied: scipy>=1.0.0 in /usr/local/lib/python3.7/dist-packages (from -r ./requirements.txt (line 11)) (1.4.1)\n",
            "Requirement already satisfied: tqdm>=4.0.0 in /usr/local/lib/python3.7/dist-packages (from -r ./requirements.txt (line 12)) (4.62.3)\n",
            "Requirement already satisfied: numba>=0.44.0 in /usr/local/lib/python3.7/dist-packages (from -r ./requirements.txt (line 13)) (0.51.2)\n",
            "Requirement already satisfied: pyglet<=1.5.0,>=1.4.0 in /usr/local/lib/python3.7/dist-packages (from gym>=0.17.3->-r ./requirements.txt (line 1)) (1.5.0)\n",
            "Requirement already satisfied: cloudpickle<1.7.0,>=1.2.0 in /usr/local/lib/python3.7/dist-packages (from gym>=0.17.3->-r ./requirements.txt (line 1)) (1.3.0)\n",
            "Requirement already satisfied: PyYAML in /usr/local/lib/python3.7/dist-packages (from yacs>=0.1.8->-r ./requirements.txt (line 3)) (3.13)\n",
            "Requirement already satisfied: pillow in /usr/local/lib/python3.7/dist-packages (from imageio>=2.2.0->-r ./requirements.txt (line 9)) (7.1.2)\n",
            "Requirement already satisfied: llvmlite<0.35,>=0.34.0.dev0 in /usr/local/lib/python3.7/dist-packages (from numba>=0.44.0->-r ./requirements.txt (line 13)) (0.34.0)\n",
            "Requirement already satisfied: setuptools in /usr/local/lib/python3.7/dist-packages (from numba>=0.44.0->-r ./requirements.txt (line 13)) (58.5.2)\n",
            "Requirement already satisfied: future in /usr/local/lib/python3.7/dist-packages (from pyglet<=1.5.0,>=1.4.0->gym>=0.17.3->-r ./requirements.txt (line 1)) (0.16.0)\n",
            "Building wheels for collected packages: pickle5\n",
            "  Building wheel for pickle5 (setup.py) ... \u001b[?25l\u001b[?25hdone\n",
            "  Created wheel for pickle5: filename=pickle5-0.0.11-cp37-cp37m-linux_x86_64.whl size=245789 sha256=3d1082fa50b86a5d9c04656cfa915dfb89587d379a56eee0451e2e0dc4c4b2da\n",
            "  Stored in directory: /root/.cache/pip/wheels/7e/6a/00/67136a90d6aca437d806d1d3cedf98106e840c97a3e5188198\n",
            "Successfully built pickle5\n",
            "Installing collected packages: yacs, pickle5\n",
            "Successfully installed pickle5-0.0.11 yacs-0.1.8\n",
            "\u001b[33mWARNING: Running pip as the 'root' user can result in broken permissions and conflicting behaviour with the system package manager. It is recommended to use a virtual environment instead: https://pip.pypa.io/warnings/venv\u001b[0m\n",
            "Requirement already satisfied: lmdb>=0.98 in /usr/local/lib/python3.7/dist-packages (from -r ./habitat_baselines/il/requirements.txt (line 1)) (0.99)\n",
            "Collecting webdataset==0.1.40\n",
            "  Downloading webdataset-0.1.40-py3-none-any.whl (32 kB)\n",
            "Collecting ifcfg\n",
            "  Downloading ifcfg-0.22-py2.py3-none-any.whl (10 kB)\n",
            "Collecting moviepy>=1.0.1\n",
            "  Downloading moviepy-1.0.3.tar.gz (388 kB)\n",
            "     |████████████████████████████████| 388 kB 10.1 MB/s            \n",
            "\u001b[?25h  Preparing metadata (setup.py) ... \u001b[?25l\u001b[?25hdone\n",
            "Requirement already satisfied: torch>=1.3.1 in /usr/local/lib/python3.7/dist-packages (from -r ./habitat_baselines/rl/requirements.txt (line 2)) (1.9.0+cu111)\n",
            "Requirement already satisfied: tensorboard in /tensorflow-1.15.2/python3.7 (from -r ./habitat_baselines/rl/requirements.txt (line 3)) (1.15.0)\n",
            "Requirement already satisfied: Pillow in /usr/local/lib/python3.7/dist-packages (from webdataset==0.1.40->-r ./habitat_baselines/il/requirements.txt (line 2)) (7.1.2)\n",
            "Requirement already satisfied: pyyaml in /usr/local/lib/python3.7/dist-packages (from webdataset==0.1.40->-r ./habitat_baselines/il/requirements.txt (line 2)) (3.13)\n",
            "Collecting simplejson\n",
            "  Downloading simplejson-3.17.5-cp37-cp37m-manylinux_2_5_x86_64.manylinux1_x86_64.manylinux_2_12_x86_64.manylinux2010_x86_64.whl (129 kB)\n",
            "     |████████████████████████████████| 129 kB 42.4 MB/s            \n",
            "\u001b[?25hRequirement already satisfied: msgpack in /usr/local/lib/python3.7/dist-packages (from webdataset==0.1.40->-r ./habitat_baselines/il/requirements.txt (line 2)) (1.0.2)\n",
            "Collecting braceexpand\n",
            "  Downloading braceexpand-0.1.7-py2.py3-none-any.whl (5.9 kB)\n",
            "Requirement already satisfied: numpy in /usr/local/lib/python3.7/dist-packages (from webdataset==0.1.40->-r ./habitat_baselines/il/requirements.txt (line 2)) (1.19.5)\n",
            "Collecting objectio\n",
            "  Downloading objectio-0.2.29-py3-none-any.whl (7.8 kB)\n",
            "Requirement already satisfied: decorator<5.0,>=4.0.2 in /usr/local/lib/python3.7/dist-packages (from moviepy>=1.0.1->-r ./habitat_baselines/rl/requirements.txt (line 1)) (4.4.2)\n",
            "Requirement already satisfied: tqdm<5.0,>=4.11.2 in /usr/local/lib/python3.7/dist-packages (from moviepy>=1.0.1->-r ./habitat_baselines/rl/requirements.txt (line 1)) (4.62.3)\n",
            "Requirement already satisfied: requests<3.0,>=2.8.1 in /usr/local/lib/python3.7/dist-packages (from moviepy>=1.0.1->-r ./habitat_baselines/rl/requirements.txt (line 1)) (2.25.1)\n",
            "Collecting proglog<=1.0.0\n",
            "  Downloading proglog-0.1.9.tar.gz (10 kB)\n",
            "  Preparing metadata (setup.py) ... \u001b[?25l\u001b[?25hdone\n",
            "Requirement already satisfied: imageio<3.0,>=2.5 in /usr/local/lib/python3.7/dist-packages (from moviepy>=1.0.1->-r ./habitat_baselines/rl/requirements.txt (line 1)) (2.9.0)\n",
            "Requirement already satisfied: imageio_ffmpeg>=0.2.0 in /usr/local/lib/python3.7/dist-packages (from moviepy>=1.0.1->-r ./habitat_baselines/rl/requirements.txt (line 1)) (0.4.5)\n",
            "Requirement already satisfied: typing-extensions in /usr/local/lib/python3.7/dist-packages (from torch>=1.3.1->-r ./habitat_baselines/rl/requirements.txt (line 2)) (3.10.0.2)\n",
            "Requirement already satisfied: protobuf>=3.6.0 in /usr/local/lib/python3.7/dist-packages (from tensorboard->-r ./habitat_baselines/rl/requirements.txt (line 3)) (3.17.3)\n",
            "Requirement already satisfied: setuptools>=41.0.0 in /usr/local/lib/python3.7/dist-packages (from tensorboard->-r ./habitat_baselines/rl/requirements.txt (line 3)) (58.5.2)\n",
            "Requirement already satisfied: six>=1.10.0 in /usr/local/lib/python3.7/dist-packages (from tensorboard->-r ./habitat_baselines/rl/requirements.txt (line 3)) (1.16.0)\n",
            "Requirement already satisfied: wheel>=0.26 in /usr/local/lib/python3.7/dist-packages (from tensorboard->-r ./habitat_baselines/rl/requirements.txt (line 3)) (0.37.0)\n",
            "Requirement already satisfied: markdown>=2.6.8 in /usr/local/lib/python3.7/dist-packages (from tensorboard->-r ./habitat_baselines/rl/requirements.txt (line 3)) (3.3.4)\n",
            "Requirement already satisfied: absl-py>=0.4 in /usr/local/lib/python3.7/dist-packages (from tensorboard->-r ./habitat_baselines/rl/requirements.txt (line 3)) (0.12.0)\n",
            "Requirement already satisfied: grpcio>=1.6.3 in /usr/local/lib/python3.7/dist-packages (from tensorboard->-r ./habitat_baselines/rl/requirements.txt (line 3)) (1.41.0)\n",
            "Requirement already satisfied: werkzeug>=0.11.15 in /usr/local/lib/python3.7/dist-packages (from tensorboard->-r ./habitat_baselines/rl/requirements.txt (line 3)) (1.0.1)\n",
            "Requirement already satisfied: importlib-metadata in /usr/local/lib/python3.7/dist-packages (from markdown>=2.6.8->tensorboard->-r ./habitat_baselines/rl/requirements.txt (line 3)) (4.8.1)\n",
            "Requirement already satisfied: chardet<5,>=3.0.2 in /usr/local/lib/python3.7/dist-packages (from requests<3.0,>=2.8.1->moviepy>=1.0.1->-r ./habitat_baselines/rl/requirements.txt (line 1)) (4.0.0)\n",
            "Requirement already satisfied: idna<3,>=2.5 in /usr/local/lib/python3.7/dist-packages (from requests<3.0,>=2.8.1->moviepy>=1.0.1->-r ./habitat_baselines/rl/requirements.txt (line 1)) (2.10)\n",
            "Requirement already satisfied: certifi>=2017.4.17 in /usr/local/lib/python3.7/dist-packages (from requests<3.0,>=2.8.1->moviepy>=1.0.1->-r ./habitat_baselines/rl/requirements.txt (line 1)) (2021.10.8)\n",
            "Requirement already satisfied: urllib3<1.27,>=1.21.1 in /usr/local/lib/python3.7/dist-packages (from requests<3.0,>=2.8.1->moviepy>=1.0.1->-r ./habitat_baselines/rl/requirements.txt (line 1)) (1.26.7)\n",
            "Collecting typer\n",
            "  Downloading typer-0.4.0-py3-none-any.whl (27 kB)\n",
            "Requirement already satisfied: zipp>=0.5 in /usr/local/lib/python3.7/dist-packages (from importlib-metadata->markdown>=2.6.8->tensorboard->-r ./habitat_baselines/rl/requirements.txt (line 3)) (3.6.0)\n",
            "Requirement already satisfied: click<9.0.0,>=7.1.1 in /usr/local/lib/python3.7/dist-packages (from typer->objectio->webdataset==0.1.40->-r ./habitat_baselines/il/requirements.txt (line 2)) (7.1.2)\n",
            "Building wheels for collected packages: moviepy, proglog\n",
            "  Building wheel for moviepy (setup.py) ... \u001b[?25l\u001b[?25hdone\n",
            "  Created wheel for moviepy: filename=moviepy-1.0.3-py3-none-any.whl size=110744 sha256=6921435733a8df75201db0d5f864b7875221b92fbb04ae26cc8af6a89f2fac94\n",
            "  Stored in directory: /root/.cache/pip/wheels/56/dc/2b/9cd600d483c04af3353d66623056fc03faed76b7518faae4df\n",
            "  Building wheel for proglog (setup.py) ... \u001b[?25l\u001b[?25hdone\n",
            "  Created wheel for proglog: filename=proglog-0.1.9-py3-none-any.whl size=6157 sha256=4c1a6ca97e87ff3470b805e8152ab6a39479d85815e36680ffd9672e8893e2e4\n",
            "  Stored in directory: /root/.cache/pip/wheels/12/36/1f/dc61e6ac10781d63cf6fa045eb09fa613a667384e12cb6e6e0\n",
            "Successfully built moviepy proglog\n",
            "Installing collected packages: typer, simplejson, braceexpand, proglog, objectio, webdataset, moviepy, ifcfg\n",
            "  Attempting uninstall: moviepy\n",
            "    Found existing installation: moviepy 0.2.3.5\n",
            "    Uninstalling moviepy-0.2.3.5:\n",
            "      Successfully uninstalled moviepy-0.2.3.5\n",
            "Successfully installed braceexpand-0.1.7 ifcfg-0.22 moviepy-1.0.3 objectio-0.2.29 proglog-0.1.9 simplejson-3.17.5 typer-0.4.0 webdataset-0.1.40\n",
            "\u001b[33mWARNING: Running pip as the 'root' user can result in broken permissions and conflicting behaviour with the system package manager. It is recommended to use a virtual environment instead: https://pip.pypa.io/warnings/venv\u001b[0m\n",
            "/usr/local/lib/python3.7/site-packages/setuptools/__init__.py:151: SetuptoolsDeprecationWarning: setup_requires is deprecated. Supply build dependencies using PEP 517 pyproject.toml build-requires.\n",
            "  SetuptoolsDeprecationWarning,\n",
            "running develop\n",
            "/usr/local/lib/python3.7/site-packages/setuptools/command/easy_install.py:159: EasyInstallDeprecationWarning: easy_install command is deprecated. Use build and pip and other standards-based tools.\n",
            "  EasyInstallDeprecationWarning,\n",
            "/usr/local/lib/python3.7/site-packages/setuptools/command/install.py:37: SetuptoolsDeprecationWarning: setup.py install is deprecated. Use build and pip and other standards-based tools.\n",
            "  setuptools.SetuptoolsDeprecationWarning,\n",
            "running egg_info\n",
            "creating habitat.egg-info\n",
            "writing habitat.egg-info/PKG-INFO\n",
            "writing dependency_links to habitat.egg-info/dependency_links.txt\n",
            "writing requirements to habitat.egg-info/requires.txt\n",
            "writing top-level names to habitat.egg-info/top_level.txt\n",
            "writing manifest file 'habitat.egg-info/SOURCES.txt'\n",
            "reading manifest template 'MANIFEST.in'\n",
            "adding license file 'LICENSE'\n",
            "writing manifest file 'habitat.egg-info/SOURCES.txt'\n",
            "running build_ext\n",
            "Creating /usr/local/lib/python3.7/dist-packages/habitat.egg-link (link to .)\n",
            "Adding habitat 0.2.1 to easy-install.pth file\n",
            "\n",
            "Installed /content/habitat-lab\n",
            "Processing dependencies for habitat==0.2.1\n",
            "Searching for pickle5==0.0.11\n",
            "Best match: pickle5 0.0.11\n",
            "Adding pickle5 0.0.11 to easy-install.pth file\n",
            "\n",
            "Using /usr/local/lib/python3.7/dist-packages\n",
            "Searching for lmdb==0.99\n",
            "Best match: lmdb 0.99\n",
            "Adding lmdb 0.99 to easy-install.pth file\n",
            "\n",
            "Using /usr/local/lib/python3.7/dist-packages\n",
            "Searching for imageio-ffmpeg==0.4.5\n",
            "Best match: imageio-ffmpeg 0.4.5\n",
            "Adding imageio-ffmpeg 0.4.5 to easy-install.pth file\n",
            "\n",
            "Using /usr/local/lib/python3.7/dist-packages\n",
            "Searching for numpy==1.19.5\n",
            "Best match: numpy 1.19.5\n",
            "Adding numpy 1.19.5 to easy-install.pth file\n",
            "Installing f2py script to /usr/local/bin\n",
            "Installing f2py3 script to /usr/local/bin\n",
            "Installing f2py3.7 script to /usr/local/bin\n",
            "\n",
            "Using /usr/local/lib/python3.7/dist-packages\n",
            "Searching for tqdm==4.62.3\n",
            "Best match: tqdm 4.62.3\n",
            "Adding tqdm 4.62.3 to easy-install.pth file\n",
            "Installing tqdm script to /usr/local/bin\n",
            "\n",
            "Using /usr/local/lib/python3.7/dist-packages\n",
            "Searching for scipy==1.4.1\n",
            "Best match: scipy 1.4.1\n",
            "Adding scipy 1.4.1 to easy-install.pth file\n",
            "\n",
            "Using /usr/local/lib/python3.7/dist-packages\n",
            "Searching for moviepy==1.0.3\n",
            "Best match: moviepy 1.0.3\n",
            "Adding moviepy 1.0.3 to easy-install.pth file\n",
            "\n",
            "Using /usr/local/lib/python3.7/dist-packages\n",
            "Searching for numpy-quaternion==2021.3.11.10.32.22\n",
            "Best match: numpy-quaternion 2021.3.11.10.32.22\n",
            "Adding numpy-quaternion 2021.3.11.10.32.22 to easy-install.pth file\n",
            "\n",
            "Using /usr/local/lib/python3.7/dist-packages\n",
            "Searching for imageio==2.9.0\n",
            "Best match: imageio 2.9.0\n",
            "Adding imageio 2.9.0 to easy-install.pth file\n",
            "Installing imageio_download_bin script to /usr/local/bin\n",
            "Installing imageio_remove_bin script to /usr/local/bin\n",
            "\n",
            "Using /usr/local/lib/python3.7/dist-packages\n",
            "Searching for attrs==21.2.0\n",
            "Best match: attrs 21.2.0\n",
            "Adding attrs 21.2.0 to easy-install.pth file\n",
            "\n",
            "Using /usr/local/lib/python3.7/dist-packages\n",
            "Searching for tensorboard==2.6.0\n",
            "Best match: tensorboard 2.6.0\n",
            "Adding tensorboard 2.6.0 to easy-install.pth file\n",
            "Installing tensorboard script to /usr/local/bin\n",
            "\n",
            "Using /usr/local/lib/python3.7/dist-packages\n",
            "Searching for numba==0.51.2\n",
            "Best match: numba 0.51.2\n",
            "Adding numba 0.51.2 to easy-install.pth file\n",
            "\n",
            "Using /usr/local/lib/python3.7/dist-packages\n",
            "Searching for torch==1.9.0+cu111\n",
            "Best match: torch 1.9.0+cu111\n",
            "Adding torch 1.9.0+cu111 to easy-install.pth file\n",
            "Installing convert-caffe2-to-onnx script to /usr/local/bin\n",
            "Installing convert-onnx-to-caffe2 script to /usr/local/bin\n",
            "\n",
            "Using /usr/local/lib/python3.7/dist-packages\n",
            "Searching for webdataset==0.1.40\n",
            "Best match: webdataset 0.1.40\n",
            "Adding webdataset 0.1.40 to easy-install.pth file\n",
            "\n",
            "Using /usr/local/lib/python3.7/dist-packages\n",
            "Searching for gym==0.17.3\n",
            "Best match: gym 0.17.3\n",
            "Adding gym 0.17.3 to easy-install.pth file\n",
            "\n",
            "Using /usr/local/lib/python3.7/dist-packages\n",
            "Searching for opencv-python==4.1.2.30\n",
            "Best match: opencv-python 4.1.2.30\n",
            "Adding opencv-python 4.1.2.30 to easy-install.pth file\n",
            "\n",
            "Using /usr/local/lib/python3.7/dist-packages\n",
            "Searching for yacs==0.1.8\n",
            "Best match: yacs 0.1.8\n",
            "Adding yacs 0.1.8 to easy-install.pth file\n",
            "\n",
            "Using /usr/local/lib/python3.7/dist-packages\n",
            "Searching for ifcfg==0.22\n",
            "Best match: ifcfg 0.22\n",
            "Adding ifcfg 0.22 to easy-install.pth file\n",
            "\n",
            "Using /usr/local/lib/python3.7/dist-packages\n",
            "Searching for decorator==4.4.2\n",
            "Best match: decorator 4.4.2\n",
            "Adding decorator 4.4.2 to easy-install.pth file\n",
            "\n",
            "Using /usr/local/lib/python3.7/dist-packages\n",
            "Searching for requests==2.25.1\n",
            "Best match: requests 2.25.1\n",
            "Adding requests 2.25.1 to easy-install.pth file\n",
            "\n",
            "Using /usr/local/lib/python3.7/dist-packages\n",
            "Searching for proglog==0.1.9\n",
            "Best match: proglog 0.1.9\n",
            "Adding proglog 0.1.9 to easy-install.pth file\n",
            "\n",
            "Using /usr/local/lib/python3.7/dist-packages\n",
            "Searching for Pillow==7.1.2\n",
            "Best match: Pillow 7.1.2\n",
            "Adding Pillow 7.1.2 to easy-install.pth file\n",
            "\n",
            "Using /usr/local/lib/python3.7/dist-packages\n",
            "Searching for Markdown==3.3.4\n",
            "Best match: Markdown 3.3.4\n",
            "Adding Markdown 3.3.4 to easy-install.pth file\n",
            "Installing markdown_py script to /usr/local/bin\n",
            "\n",
            "Using /usr/local/lib/python3.7/dist-packages\n",
            "Searching for google-auth-oauthlib==0.4.6\n",
            "Best match: google-auth-oauthlib 0.4.6\n",
            "Adding google-auth-oauthlib 0.4.6 to easy-install.pth file\n",
            "Installing google-oauthlib-tool script to /usr/local/bin\n",
            "\n",
            "Using /usr/local/lib/python3.7/dist-packages\n",
            "Searching for Werkzeug==1.0.1\n",
            "Best match: Werkzeug 1.0.1\n",
            "Adding Werkzeug 1.0.1 to easy-install.pth file\n",
            "\n",
            "Using /usr/local/lib/python3.7/dist-packages\n",
            "Searching for grpcio==1.41.0\n",
            "Best match: grpcio 1.41.0\n",
            "Adding grpcio 1.41.0 to easy-install.pth file\n",
            "\n",
            "Using /usr/local/lib/python3.7/dist-packages\n",
            "Searching for tensorboard-data-server==0.6.1\n",
            "Best match: tensorboard-data-server 0.6.1\n",
            "Adding tensorboard-data-server 0.6.1 to easy-install.pth file\n",
            "\n",
            "Using /usr/local/lib/python3.7/dist-packages\n",
            "Searching for google-auth==1.35.0\n",
            "Best match: google-auth 1.35.0\n",
            "Adding google-auth 1.35.0 to easy-install.pth file\n",
            "\n",
            "Using /usr/local/lib/python3.7/dist-packages\n",
            "Searching for tensorboard-plugin-wit==1.8.0\n",
            "Best match: tensorboard-plugin-wit 1.8.0\n",
            "Adding tensorboard-plugin-wit 1.8.0 to easy-install.pth file\n",
            "\n",
            "Using /usr/local/lib/python3.7/dist-packages\n",
            "Searching for setuptools==58.5.2\n",
            "Best match: setuptools 58.5.2\n",
            "Adding setuptools 58.5.2 to easy-install.pth file\n",
            "\n",
            "Using /usr/local/lib/python3.7/dist-packages\n",
            "Searching for wheel==0.37.0\n",
            "Best match: wheel 0.37.0\n",
            "Adding wheel 0.37.0 to easy-install.pth file\n",
            "Installing wheel script to /usr/local/bin\n",
            "\n",
            "Using /usr/local/lib/python3.7/dist-packages\n",
            "Searching for absl-py==0.12.0\n",
            "Best match: absl-py 0.12.0\n",
            "Adding absl-py 0.12.0 to easy-install.pth file\n",
            "\n",
            "Using /usr/local/lib/python3.7/dist-packages\n",
            "Searching for protobuf==3.17.3\n",
            "Best match: protobuf 3.17.3\n",
            "Adding protobuf 3.17.3 to easy-install.pth file\n",
            "\n",
            "Using /usr/local/lib/python3.7/dist-packages\n",
            "Searching for llvmlite==0.34.0\n",
            "Best match: llvmlite 0.34.0\n",
            "Adding llvmlite 0.34.0 to easy-install.pth file\n",
            "\n",
            "Using /usr/local/lib/python3.7/dist-packages\n",
            "Searching for typing-extensions==3.10.0.2\n",
            "Best match: typing-extensions 3.10.0.2\n",
            "Adding typing-extensions 3.10.0.2 to easy-install.pth file\n",
            "\n",
            "Using /usr/local/lib/python3.7/dist-packages\n",
            "Searching for braceexpand==0.1.7\n",
            "Best match: braceexpand 0.1.7\n",
            "Adding braceexpand 0.1.7 to easy-install.pth file\n",
            "\n",
            "Using /usr/local/lib/python3.7/dist-packages\n",
            "Searching for objectio==0.2.29\n",
            "Best match: objectio 0.2.29\n",
            "Adding objectio 0.2.29 to easy-install.pth file\n",
            "\n",
            "Using /usr/local/lib/python3.7/dist-packages\n",
            "Searching for simplejson==3.17.5\n",
            "Best match: simplejson 3.17.5\n",
            "Adding simplejson 3.17.5 to easy-install.pth file\n",
            "\n",
            "Using /usr/local/lib/python3.7/dist-packages\n",
            "Searching for PyYAML==3.13\n",
            "Best match: PyYAML 3.13\n",
            "Adding PyYAML 3.13 to easy-install.pth file\n",
            "\n",
            "Using /usr/local/lib/python3.7/dist-packages\n",
            "Searching for msgpack==1.0.2\n",
            "Best match: msgpack 1.0.2\n",
            "Adding msgpack 1.0.2 to easy-install.pth file\n",
            "\n",
            "Using /usr/local/lib/python3.7/dist-packages\n",
            "Searching for pyglet==1.5.0\n",
            "Best match: pyglet 1.5.0\n",
            "Adding pyglet 1.5.0 to easy-install.pth file\n",
            "\n",
            "Using /usr/local/lib/python3.7/dist-packages\n",
            "Searching for cloudpickle==1.3.0\n",
            "Best match: cloudpickle 1.3.0\n",
            "Adding cloudpickle 1.3.0 to easy-install.pth file\n",
            "\n",
            "Using /usr/local/lib/python3.7/dist-packages\n",
            "Searching for urllib3==1.26.7\n",
            "Best match: urllib3 1.26.7\n",
            "Adding urllib3 1.26.7 to easy-install.pth file\n",
            "\n",
            "Using /usr/local/lib/python3.7/dist-packages\n",
            "Searching for idna==2.10\n",
            "Best match: idna 2.10\n",
            "Adding idna 2.10 to easy-install.pth file\n",
            "\n",
            "Using /usr/local/lib/python3.7/dist-packages\n",
            "Searching for chardet==4.0.0\n",
            "Best match: chardet 4.0.0\n",
            "Adding chardet 4.0.0 to easy-install.pth file\n",
            "Installing chardetect script to /usr/local/bin\n",
            "\n",
            "Using /usr/local/lib/python3.7/dist-packages\n",
            "Searching for certifi==2021.10.8\n",
            "Best match: certifi 2021.10.8\n",
            "Adding certifi 2021.10.8 to easy-install.pth file\n",
            "\n",
            "Using /usr/local/lib/python3.7/dist-packages\n",
            "Searching for importlib-metadata==4.8.1\n",
            "Best match: importlib-metadata 4.8.1\n",
            "Adding importlib-metadata 4.8.1 to easy-install.pth file\n",
            "\n",
            "Using /usr/local/lib/python3.7/dist-packages\n",
            "Searching for requests-oauthlib==1.3.0\n",
            "Best match: requests-oauthlib 1.3.0\n",
            "Adding requests-oauthlib 1.3.0 to easy-install.pth file\n",
            "\n",
            "Using /usr/local/lib/python3.7/dist-packages\n",
            "Searching for six==1.16.0\n",
            "Best match: six 1.16.0\n",
            "Adding six 1.16.0 to easy-install.pth file\n",
            "\n",
            "Using /usr/local/lib/python3.7/dist-packages\n",
            "Searching for pyasn1-modules==0.2.8\n",
            "Best match: pyasn1-modules 0.2.8\n",
            "Adding pyasn1-modules 0.2.8 to easy-install.pth file\n",
            "\n",
            "Using /usr/local/lib/python3.7/dist-packages\n",
            "Searching for cachetools==4.2.4\n",
            "Best match: cachetools 4.2.4\n",
            "Adding cachetools 4.2.4 to easy-install.pth file\n",
            "\n",
            "Using /usr/local/lib/python3.7/dist-packages\n",
            "Searching for rsa==4.7.2\n",
            "Best match: rsa 4.7.2\n",
            "Adding rsa 4.7.2 to easy-install.pth file\n",
            "Installing pyrsa-decrypt script to /usr/local/bin\n",
            "Installing pyrsa-encrypt script to /usr/local/bin\n",
            "Installing pyrsa-keygen script to /usr/local/bin\n",
            "Installing pyrsa-priv2pub script to /usr/local/bin\n",
            "Installing pyrsa-sign script to /usr/local/bin\n",
            "Installing pyrsa-verify script to /usr/local/bin\n",
            "\n",
            "Using /usr/local/lib/python3.7/dist-packages\n",
            "Searching for typer==0.4.0\n",
            "Best match: typer 0.4.0\n",
            "Adding typer 0.4.0 to easy-install.pth file\n",
            "\n",
            "Using /usr/local/lib/python3.7/dist-packages\n",
            "Searching for future==0.16.0\n",
            "Best match: future 0.16.0\n",
            "Adding future 0.16.0 to easy-install.pth file\n",
            "Installing futurize script to /usr/local/bin\n",
            "Installing pasteurize script to /usr/local/bin\n",
            "\n",
            "Using /usr/local/lib/python3.7/dist-packages\n",
            "Searching for zipp==3.6.0\n",
            "Best match: zipp 3.6.0\n",
            "Adding zipp 3.6.0 to easy-install.pth file\n",
            "\n",
            "Using /usr/local/lib/python3.7/dist-packages\n",
            "Searching for oauthlib==3.1.1\n",
            "Best match: oauthlib 3.1.1\n",
            "Adding oauthlib 3.1.1 to easy-install.pth file\n",
            "\n",
            "Using /usr/local/lib/python3.7/dist-packages\n",
            "Searching for pyasn1==0.4.8\n",
            "Best match: pyasn1 0.4.8\n",
            "Adding pyasn1 0.4.8 to easy-install.pth file\n",
            "\n",
            "Using /usr/local/lib/python3.7/dist-packages\n",
            "Searching for click==7.1.2\n",
            "Best match: click 7.1.2\n",
            "Adding click 7.1.2 to easy-install.pth file\n",
            "\n",
            "Using /usr/local/lib/python3.7/dist-packages\n",
            "Finished processing dependencies for habitat==0.2.1\n",
            "Processing /content/habitat-lab\n",
            "  Installing build dependencies ... \u001b[?25l\u001b[?25hdone\n",
            "  Getting requirements to build wheel ... \u001b[?25l\u001b[?25hdone\n",
            "  Installing backend dependencies ... \u001b[?25l\u001b[?25hdone\n",
            "  Preparing metadata (pyproject.toml) ... \u001b[?25l\u001b[?25hdone\n",
            "Requirement already satisfied: attrs>=19.1.0 in /usr/local/lib/python3.7/dist-packages (from habitat==0.2.1) (21.2.0)\n",
            "Requirement already satisfied: imageio-ffmpeg>=0.2.0 in /usr/local/lib/python3.7/dist-packages (from habitat==0.2.1) (0.4.5)\n",
            "Requirement already satisfied: imageio>=2.2.0 in /usr/local/lib/python3.7/dist-packages (from habitat==0.2.1) (2.9.0)\n",
            "Requirement already satisfied: tqdm>=4.0.0 in /usr/local/lib/python3.7/dist-packages (from habitat==0.2.1) (4.62.3)\n",
            "Requirement already satisfied: opencv-python>=3.3.0 in /usr/local/lib/python3.7/dist-packages (from habitat==0.2.1) (4.1.2.30)\n",
            "Requirement already satisfied: gym>=0.17.3 in /usr/local/lib/python3.7/dist-packages (from habitat==0.2.1) (0.17.3)\n",
            "Requirement already satisfied: scipy>=1.0.0 in /usr/local/lib/python3.7/dist-packages (from habitat==0.2.1) (1.4.1)\n",
            "Requirement already satisfied: numba>=0.44.0 in /usr/local/lib/python3.7/dist-packages (from habitat==0.2.1) (0.51.2)\n",
            "Requirement already satisfied: pickle5 in /usr/local/lib/python3.7/dist-packages (from habitat==0.2.1) (0.0.11)\n",
            "Requirement already satisfied: numpy-quaternion>=2019.3.18.14.33.20 in /usr/local/lib/python3.7/dist-packages (from habitat==0.2.1) (2021.3.11.10.32.22)\n",
            "Requirement already satisfied: numpy>=1.16.1 in /usr/local/lib/python3.7/dist-packages (from habitat==0.2.1) (1.19.5)\n",
            "Requirement already satisfied: yacs>=0.1.8 in /usr/local/lib/python3.7/dist-packages (from habitat==0.2.1) (0.1.8)\n",
            "Requirement already satisfied: pyglet<=1.5.0,>=1.4.0 in /usr/local/lib/python3.7/dist-packages (from gym>=0.17.3->habitat==0.2.1) (1.5.0)\n",
            "Requirement already satisfied: cloudpickle<1.7.0,>=1.2.0 in /usr/local/lib/python3.7/dist-packages (from gym>=0.17.3->habitat==0.2.1) (1.3.0)\n",
            "Requirement already satisfied: pillow in /usr/local/lib/python3.7/dist-packages (from imageio>=2.2.0->habitat==0.2.1) (7.1.2)\n",
            "Requirement already satisfied: llvmlite<0.35,>=0.34.0.dev0 in /usr/local/lib/python3.7/dist-packages (from numba>=0.44.0->habitat==0.2.1) (0.34.0)\n",
            "Requirement already satisfied: setuptools in /usr/local/lib/python3.7/dist-packages (from numba>=0.44.0->habitat==0.2.1) (58.5.2)\n",
            "Requirement already satisfied: PyYAML in /usr/local/lib/python3.7/dist-packages (from yacs>=0.1.8->habitat==0.2.1) (3.13)\n",
            "Requirement already satisfied: future in /usr/local/lib/python3.7/dist-packages (from pyglet<=1.5.0,>=1.4.0->gym>=0.17.3->habitat==0.2.1) (0.16.0)\n",
            "Building wheels for collected packages: habitat\n",
            "  Building wheel for habitat (pyproject.toml) ... \u001b[?25l\u001b[?25hdone\n",
            "  Created wheel for habitat: filename=habitat-0.2.1-py3-none-any.whl size=402548 sha256=773ee9fdbc5bda70f4f3e834c0fc47107edc8a4eb5d624a704f3bea5c9dadce3\n",
            "  Stored in directory: /root/.cache/pip/wheels/89/dc/45/2c88164e036f30061b8bd1577d85939848674131c380674b98\n",
            "Successfully built habitat\n",
            "Installing collected packages: habitat\n",
            "  Attempting uninstall: habitat\n",
            "    Found existing installation: habitat 0.2.1\n",
            "    Uninstalling habitat-0.2.1:\n",
            "      Successfully uninstalled habitat-0.2.1\n",
            "Successfully installed habitat-0.2.1\n",
            "\u001b[33mWARNING: Running pip as the 'root' user can result in broken permissions and conflicting behaviour with the system package manager. It is recommended to use a virtual environment instead: https://pip.pypa.io/warnings/venv\u001b[0m\n",
            "--2021-11-04 16:03:16--  http://dl.fbaipublicfiles.com/habitat/habitat-test-scenes_v1.0.zip\n",
            "Resolving dl.fbaipublicfiles.com (dl.fbaipublicfiles.com)... 104.22.74.142, 104.22.75.142, 172.67.9.4, ...\n",
            "Connecting to dl.fbaipublicfiles.com (dl.fbaipublicfiles.com)|104.22.74.142|:80... connected.\n",
            "HTTP request sent, awaiting response... 200 OK\n",
            "Length: 93688442 (89M) [application/zip]\n",
            "Saving to: ‘/content/habitat-sim/data/habitat-test-scenes_v1.0.zip’\n",
            "\n",
            "habitat-test-scenes 100%[===================>]  89.35M  30.5MB/s    in 2.9s    \n",
            "\n",
            "2021-11-04 16:03:19 (30.5 MB/s) - ‘/content/habitat-sim/data/habitat-test-scenes_v1.0.zip’ saved [93688442/93688442]\n",
            "\n",
            "=======================================================\n",
            "Dataset (habitat_test_scenes) successfully downloaded.\n",
            "Source: '/content/habitat-sim/data/versioned_data/habitat_test_scenes_1.0'\n",
            "Symlink: '/content/habitat-sim/data/scene_datasets/habitat-test-scenes'\n",
            "=======================================================\n",
            "--2021-11-04 16:03:20--  http://dl.fbaipublicfiles.com/habitat/habitat-test-pointnav-dataset_v1.0.zip\n",
            "Resolving dl.fbaipublicfiles.com (dl.fbaipublicfiles.com)... 104.22.74.142, 104.22.75.142, 172.67.9.4, ...\n",
            "Connecting to dl.fbaipublicfiles.com (dl.fbaipublicfiles.com)|104.22.74.142|:80... connected.\n",
            "HTTP request sent, awaiting response... 200 OK\n",
            "Length: 894623 (874K) [application/zip]\n",
            "Saving to: ‘/content/habitat-sim/data/habitat-test-pointnav-dataset_v1.0.zip’\n",
            "\n",
            "habitat-test-pointn 100%[===================>] 873.66K  3.06MB/s    in 0.3s    \n",
            "\n",
            "2021-11-04 16:03:21 (3.06 MB/s) - ‘/content/habitat-sim/data/habitat-test-pointnav-dataset_v1.0.zip’ saved [894623/894623]\n",
            "\n",
            "=======================================================\n",
            "Dataset (habitat_test_pointnav_dataset) successfully downloaded.\n",
            "Source: '/content/habitat-sim/data/versioned_data/habitat_test_pointnav_dataset_1.0'\n",
            "Symlink: '/content/habitat-sim/data/datasets/pointnav/habitat-test-scenes'\n",
            "=======================================================\n",
            "--2021-11-04 16:03:21--  http://dl.fbaipublicfiles.com/habitat/objects_v0.2.zip\n",
            "Resolving dl.fbaipublicfiles.com (dl.fbaipublicfiles.com)... 104.22.75.142, 104.22.74.142, 172.67.9.4, ...\n",
            "Connecting to dl.fbaipublicfiles.com (dl.fbaipublicfiles.com)|104.22.75.142|:80... connected.\n",
            "HTTP request sent, awaiting response... 200 OK\n",
            "Length: 38058377 (36M) [application/zip]\n",
            "Saving to: ‘/content/habitat-sim/data/objects_v0.2.zip’\n",
            "\n",
            "objects_v0.2.zip    100%[===================>]  36.29M  24.2MB/s    in 1.5s    \n",
            "\n",
            "2021-11-04 16:03:22 (24.2 MB/s) - ‘/content/habitat-sim/data/objects_v0.2.zip’ saved [38058377/38058377]\n",
            "\n",
            "=======================================================\n",
            "Dataset (habitat_example_objects) successfully downloaded.\n",
            "Source: '/content/habitat-sim/data/versioned_data/habitat_example_objects_0.2'\n",
            "Symlink: '/content/habitat-sim/data/objects/example_objects'\n",
            "=======================================================\n",
            "--2021-11-04 16:03:23--  http://dl.fbaipublicfiles.com/habitat/locobot_merged_v0.2.zip\n",
            "Resolving dl.fbaipublicfiles.com (dl.fbaipublicfiles.com)... 104.22.75.142, 104.22.74.142, 172.67.9.4, ...\n",
            "Connecting to dl.fbaipublicfiles.com (dl.fbaipublicfiles.com)|104.22.75.142|:80... connected.\n",
            "HTTP request sent, awaiting response... 200 OK\n",
            "Length: 4889148 (4.7M) [application/zip]\n",
            "Saving to: ‘/content/habitat-sim/data/locobot_merged_v0.2.zip’\n",
            "\n",
            "locobot_merged_v0.2 100%[===================>]   4.66M  10.9MB/s    in 0.4s    \n",
            "\n",
            "2021-11-04 16:03:24 (10.9 MB/s) - ‘/content/habitat-sim/data/locobot_merged_v0.2.zip’ saved [4889148/4889148]\n",
            "\n",
            "=======================================================\n",
            "Dataset (locobot_merged) successfully downloaded.\n",
            "Source: '/content/habitat-sim/data/versioned_data/locobot_merged_0.2'\n",
            "Symlink: '/content/habitat-sim/data/objects/locobot_merged'\n",
            "=======================================================\n",
            "--2021-11-04 16:03:24--  http://dl.fbaipublicfiles.com/habitat/mp3d_example.zip\n",
            "Resolving dl.fbaipublicfiles.com (dl.fbaipublicfiles.com)... 104.22.75.142, 104.22.74.142, 172.67.9.4, ...\n",
            "Connecting to dl.fbaipublicfiles.com (dl.fbaipublicfiles.com)|104.22.75.142|:80... connected.\n",
            "HTTP request sent, awaiting response... 200 OK\n",
            "Length: 67764531 (65M) [application/zip]\n",
            "Saving to: ‘/content/habitat-sim/data/mp3d_example.zip’\n",
            "\n",
            "mp3d_example.zip    100%[===================>]  64.62M  26.4MB/s    in 2.4s    \n",
            "\n",
            "2021-11-04 16:03:26 (26.4 MB/s) - ‘/content/habitat-sim/data/mp3d_example.zip’ saved [67764531/67764531]\n",
            "\n",
            "=======================================================\n",
            "Dataset (mp3d_example_scene) successfully downloaded.\n",
            "Source: '/content/habitat-sim/data/versioned_data/mp3d_example_scene_1.0'\n",
            "Symlink: '/content/habitat-sim/data/scene_datasets/mp3d_example'\n",
            "=======================================================\n",
            "--2021-11-04 16:03:27--  https://dl.fbaipublicfiles.com/habitat/coda_v1.0.zip\n",
            "Resolving dl.fbaipublicfiles.com (dl.fbaipublicfiles.com)... 104.22.74.142, 104.22.75.142, 172.67.9.4, ...\n",
            "Connecting to dl.fbaipublicfiles.com (dl.fbaipublicfiles.com)|104.22.74.142|:443... connected.\n",
            "HTTP request sent, awaiting response... 200 OK\n",
            "Length: 13035310 (12M) [application/zip]\n",
            "Saving to: ‘/content/habitat-sim/data/coda_v1.0.zip’\n",
            "\n",
            "coda_v1.0.zip       100%[===================>]  12.43M  17.2MB/s    in 0.7s    \n",
            "\n",
            "2021-11-04 16:03:29 (17.2 MB/s) - ‘/content/habitat-sim/data/coda_v1.0.zip’ saved [13035310/13035310]\n",
            "\n",
            "=======================================================\n",
            "Dataset (coda_scene) successfully downloaded.\n",
            "Source: '/content/habitat-sim/data/versioned_data/coda_scene_1.0'\n",
            "Symlink: '/content/habitat-sim/data/scene_datasets/coda'\n",
            "=======================================================\n",
            "--2021-11-04 16:03:29--  https://dl.fbaipublicfiles.com/habitat/ReplicaCAD/ReplicaCAD_dataset_v1.2.zip\n",
            "Resolving dl.fbaipublicfiles.com (dl.fbaipublicfiles.com)... 104.22.74.142, 104.22.75.142, 172.67.9.4, ...\n",
            "Connecting to dl.fbaipublicfiles.com (dl.fbaipublicfiles.com)|104.22.74.142|:443... connected.\n",
            "HTTP request sent, awaiting response... 200 OK\n",
            "Length: 136288645 (130M) [application/zip]\n",
            "Saving to: ‘/content/habitat-sim/data/ReplicaCAD_dataset_v1.2.zip’\n",
            "\n",
            "ReplicaCAD_dataset_ 100%[===================>] 129.97M  31.4MB/s    in 4.6s    \n",
            "\n",
            "2021-11-04 16:03:34 (28.4 MB/s) - ‘/content/habitat-sim/data/ReplicaCAD_dataset_v1.2.zip’ saved [136288645/136288645]\n",
            "\n",
            "=======================================================\n",
            "Dataset (replica_cad_dataset) successfully downloaded.\n",
            "Source: '/content/habitat-sim/data/versioned_data/replica_cad_dataset_1.2'\n",
            "Symlink: '/content/habitat-sim/data/replica_cad'\n",
            "=======================================================\n",
            "--2021-11-04 16:03:35--  http://dl.fbaipublicfiles.com/habitat/hab_fetch_v1.0.zip\n",
            "Resolving dl.fbaipublicfiles.com (dl.fbaipublicfiles.com)... 104.22.75.142, 172.67.9.4, 104.22.74.142, ...\n",
            "Connecting to dl.fbaipublicfiles.com (dl.fbaipublicfiles.com)|104.22.75.142|:80... connected.\n",
            "HTTP request sent, awaiting response... 200 OK\n",
            "Length: 9922286 (9.5M) [application/zip]\n",
            "Saving to: ‘/content/habitat-sim/data/hab_fetch_v1.0.zip’\n",
            "\n",
            "hab_fetch_v1.0.zip  100%[===================>]   9.46M  14.1MB/s    in 0.7s    \n",
            "\n",
            "2021-11-04 16:03:36 (14.1 MB/s) - ‘/content/habitat-sim/data/hab_fetch_v1.0.zip’ saved [9922286/9922286]\n",
            "\n",
            "=======================================================\n",
            "Dataset (hab_fetch) successfully downloaded.\n",
            "Source: '/content/habitat-sim/data/versioned_data/hab_fetch_1.0'\n",
            "Symlink: '/content/habitat-sim/data/robots/hab_fetch'\n",
            "=======================================================\n",
            "--2021-11-04 16:03:36--  https://github.com/matterport/habitat-matterport-3dresearch/raw/main/example/hm3d-example-habitat.tar\n",
            "Resolving github.com (github.com)... 140.82.113.4\n",
            "Connecting to github.com (github.com)|140.82.113.4|:443... connected.\n",
            "HTTP request sent, awaiting response... 302 Found\n",
            "Location: https://media.githubusercontent.com/media/matterport/habitat-matterport-3dresearch/main/example/hm3d-example-habitat.tar [following]\n",
            "--2021-11-04 16:03:36--  https://media.githubusercontent.com/media/matterport/habitat-matterport-3dresearch/main/example/hm3d-example-habitat.tar\n",
            "Resolving media.githubusercontent.com (media.githubusercontent.com)... 185.199.111.133, 185.199.108.133, 185.199.109.133, ...\n",
            "Connecting to media.githubusercontent.com (media.githubusercontent.com)|185.199.111.133|:443... connected.\n",
            "HTTP request sent, awaiting response... 200 OK\n",
            "Length: 162170880 (155M) [application/octet-stream]\n",
            "Saving to: ‘/content/habitat-sim/data/hm3d-example-habitat.tar’\n",
            "\n",
            "hm3d-example-habita 100%[===================>] 154.66M   145MB/s    in 1.1s    \n",
            "\n",
            "2021-11-04 16:03:40 (145 MB/s) - ‘/content/habitat-sim/data/hm3d-example-habitat.tar’ saved [162170880/162170880]\n",
            "\n",
            "=======================================================\n",
            "Dataset (hm3d_example_habitat) successfully downloaded.\n",
            "Source: '/content/habitat-sim/data/versioned_data/hm3d-1.0/hm3d'\n",
            "Symlink: '/content/habitat-sim/data/scene_datasets/hm3d'\n",
            "=======================================================\n",
            "--2021-11-04 16:03:41--  https://github.com/matterport/habitat-matterport-3dresearch/raw/main/example/hm3d-example-configs.tar\n",
            "Resolving github.com (github.com)... 140.82.112.4\n",
            "Connecting to github.com (github.com)|140.82.112.4|:443... connected.\n",
            "HTTP request sent, awaiting response... 302 Found\n",
            "Location: https://media.githubusercontent.com/media/matterport/habitat-matterport-3dresearch/main/example/hm3d-example-configs.tar [following]\n",
            "--2021-11-04 16:03:41--  https://media.githubusercontent.com/media/matterport/habitat-matterport-3dresearch/main/example/hm3d-example-configs.tar\n",
            "Resolving media.githubusercontent.com (media.githubusercontent.com)... 185.199.110.133, 185.199.108.133, 185.199.111.133, ...\n",
            "Connecting to media.githubusercontent.com (media.githubusercontent.com)|185.199.110.133|:443... connected.\n",
            "HTTP request sent, awaiting response... 200 OK\n",
            "Length: 10240 (10K) [application/octet-stream]\n",
            "Saving to: ‘/content/habitat-sim/data/hm3d-example-configs.tar’\n",
            "\n",
            "hm3d-example-config 100%[===================>]  10.00K  --.-KB/s    in 0s      \n",
            "\n",
            "2021-11-04 16:03:41 (52.4 MB/s) - ‘/content/habitat-sim/data/hm3d-example-configs.tar’ saved [10240/10240]\n",
            "\n",
            "=======================================================\n",
            "Dataset (hm3d_example_configs) successfully downloaded.\n",
            "Source: '/content/habitat-sim/data/versioned_data/hm3d-1.0/hm3d'\n",
            "Symlink: '/content/habitat-sim/data/scene_datasets/hm3d'\n",
            "=======================================================\n",
            "--2021-11-04 16:03:41--  http://dl.fbaipublicfiles.com/habitat/mp3d_example.zip\n",
            "Resolving dl.fbaipublicfiles.com (dl.fbaipublicfiles.com)... 104.22.74.142, 172.67.9.4, 104.22.75.142, ...\n",
            "Connecting to dl.fbaipublicfiles.com (dl.fbaipublicfiles.com)|104.22.74.142|:80... connected.\n",
            "HTTP request sent, awaiting response... 200 OK\n",
            "Length: 67764531 (65M) [application/zip]\n",
            "Saving to: ‘mp3d_example.zip’\n",
            "\n",
            "mp3d_example.zip    100%[===================>]  64.62M  26.9MB/s    in 2.4s    \n",
            "\n",
            "2021-11-04 16:03:44 (26.9 MB/s) - ‘mp3d_example.zip’ saved [67764531/67764531]\n",
            "\n",
            "Archive:  mp3d_example.zip\n",
            "   creating: /content/habitat-sim/data/scene_datasets/mp3d/17DRP5sb8fy/\n",
            "  inflating: /content/habitat-sim/data/scene_datasets/mp3d/17DRP5sb8fy/17DRP5sb8fy.glb  \n",
            "  inflating: /content/habitat-sim/data/scene_datasets/mp3d/17DRP5sb8fy/17DRP5sb8fy.navmesh  \n",
            "  inflating: /content/habitat-sim/data/scene_datasets/mp3d/17DRP5sb8fy/17DRP5sb8fy.house  \n",
            "  inflating: /content/habitat-sim/data/scene_datasets/mp3d/17DRP5sb8fy/17DRP5sb8fy_semantic.ply  \n",
            "  inflating: /content/habitat-sim/data/scene_datasets/mp3d/MP_TOS.pdf  \n"
          ]
        }
      ]
    },
    {
      "cell_type": "code",
      "metadata": {
        "id": "w8NoNT0PJiSH",
        "colab": {
          "base_uri": "https://localhost:8080/"
        },
        "outputId": "bb67eeff-1ec6-475d-b9c8-c3dd0f262f8e"
      },
      "source": [
        "pip install 'pybullet==2.8.7'"
      ],
      "execution_count": null,
      "outputs": [
        {
          "output_type": "stream",
          "name": "stdout",
          "text": [
            "Collecting pybullet==2.8.7\n",
            "  Downloading pybullet-2.8.7-cp37-cp37m-manylinux1_x86_64.whl (100.7 MB)\n",
            "     |████████████████████████████████| 100.7 MB 15 kB/s             \n",
            "\u001b[?25hInstalling collected packages: pybullet\n",
            "Successfully installed pybullet-2.8.7\n",
            "\u001b[33mWARNING: Running pip as the 'root' user can result in broken permissions and conflicting behaviour with the system package manager. It is recommended to use a virtual environment instead: https://pip.pypa.io/warnings/venv\u001b[0m\n"
          ]
        }
      ]
    },
    {
      "cell_type": "code",
      "metadata": {
        "id": "hnoZWJFrLP6A"
      },
      "source": [
        "import sys\n",
        "_ = (sys.path.append(\"/content/oreo-pybullet\"))"
      ],
      "execution_count": null,
      "outputs": []
    },
    {
      "cell_type": "code",
      "metadata": {
        "id": "8M1WCGwZJJRZ"
      },
      "source": [
        "import os\n",
        "if \"google.colab\" in sys.modules:\n",
        "    # This tells imageio to use the system FFMPEG that has hardware acceleration.\n",
        "    os.environ[\"IMAGEIO_FFMPEG_EXE\"] = \"/usr/bin/ffmpeg\""
      ],
      "execution_count": null,
      "outputs": []
    },
    {
      "cell_type": "code",
      "metadata": {
        "colab": {
          "base_uri": "https://localhost:8080/"
        },
        "id": "FlMLK0XIMdRo",
        "outputId": "5cea4971-d56f-4fc4-fbd3-5e628f127dc8"
      },
      "source": [
        "import tensorflow as tf\n",
        "print(tf.__version__)"
      ],
      "execution_count": null,
      "outputs": [
        {
          "output_type": "stream",
          "name": "stdout",
          "text": [
            "1.15.2\n"
          ]
        }
      ]
    },
    {
      "cell_type": "code",
      "metadata": {
        "id": "E_J_8PQfy11d",
        "colab": {
          "base_uri": "https://localhost:8080/"
        },
        "outputId": "f6126881-fb9f-4a6a-c958-8c1bb86d753e"
      },
      "source": [
        "import agent_oreo as ao\n",
        "import saliency as s\n",
        "import cv2\n",
        "pybullet_sim = ao.OreoPyBulletSim(\"/content/oreo-pybullet/\")"
      ],
      "execution_count": null,
      "outputs": [
        {
          "output_type": "stream",
          "name": "stderr",
          "text": [
            "INFO:LOG_LEVEL: DEBUG\n",
            "INFO:There are 16 links in file\n",
            "\n",
            "DEBUG:base_joint 0\n",
            "DEBUG:com frame (posn (global) & orn (global)) (0.0, 0.0, 0.0) (0.26947353370204224, -0.1483647897014979, -0.336452277174072)\n",
            "DEBUG:inertial offset (posn (link frame), orn (link frame)) (0.0, 0.0, 0.0) (0.2694735337020423, -0.1483647897014979, -0.33645227717407206)\n",
            "DEBUG:link frame (posn (global), orn (global)) (0.0, 0.0, 0.0) (0.0, -0.0, 0.0)\n",
            "DEBUG:type 4\n",
            "DEBUG:axis (0.0, 0.0, 0.0)\n",
            "DEBUG:collision (posn (COM frame), orn(COM frame)) (0.0, 0.0, 0.0) (-0.2110668264094377, 0.22426388413035764, 0.29244941472167946)\n",
            "DEBUG:visual (posn (link frame), orn(link frame)) (0.0, 0.0, 0.0) (0.0, -0.0, 0.0)\n",
            "\n",
            "\n",
            "DEBUG:neck_joint 1\n",
            "DEBUG:com frame (posn (global) & orn (global)) (0.03609000000000001, -0.00028000000000000507, 0.07360000000000004) (0.013334272492713626, -0.009866778134608222, 0.02516708744634716)\n",
            "DEBUG:inertial offset (posn (link frame), orn (link frame)) (0.00028, 0.00039, 0.07587) (0.013334272492713562, -0.009866778134608196, 0.025167087446347193)\n",
            "DEBUG:link frame (posn (global), orn (global)) (0.03581000119447708, -0.0006700000958517194, -0.0022699907422065735) (0.0, -0.0, 0.0)\n",
            "DEBUG:type 0\n",
            "DEBUG:axis (0.009866618041467825, 0.013333228307724227, 0.9998624279726277)\n",
            "DEBUG:collision (posn (COM frame), orn(COM frame)) (0.0, 0.0, 0.0) (-0.013578954145920225, 0.009527221363499526, -0.025297558443102428)\n",
            "DEBUG:visual (posn (link frame), orn(link frame)) (0.00028, 0.00039, 0.07587) (0.0, -0.0, 0.0)\n",
            "\n",
            "\n",
            "DEBUG:pitch_piece_joint 2\n",
            "DEBUG:com frame (posn (global) & orn (global)) (0.03803000000000001, 0.002929999999999993, 0.17271) (-0.0006291977784873534, 0.004057638878430747, -0.0182628937191617)\n",
            "DEBUG:inertial offset (posn (link frame), orn (link frame)) (0.00222, -0.04085, -1e-05) (-0.0006291977784874186, 0.004057638878430767, -0.01826289371916166)\n",
            "DEBUG:link frame (posn (global), orn (global)) (0.03580999746918678, 0.04378000274300575, 0.17272000014781952) (0.0, -0.0, 0.0)\n",
            "DEBUG:type 0\n",
            "DEBUG:axis (-0.018261728186729324, 0.9998330867032217, 0.0005549929204121066)\n",
            "DEBUG:collision (posn (COM frame), orn(COM frame)) (0.0, 0.0, 0.0) (0.000554997542140479, -0.004068451839117141, 0.018260488196712214)\n",
            "DEBUG:visual (posn (link frame), orn(link frame)) (0.00222, -0.04085, -1e-05) (0.0, -0.0, 0.0)\n",
            "\n",
            "\n",
            "DEBUG:skull_joint 3\n",
            "DEBUG:com frame (posn (global) & orn (global)) (0.014599999999999995, -0.0016900000000000114, 0.21647999999999998) (-0.08383313270598808, -0.48428452838715136, 0.0005070874060334432)\n",
            "DEBUG:inertial offset (posn (link frame), orn (link frame)) (-0.04979, -0.00102, 0.04376) (-0.08383313270598813, -0.48428452838715125, 0.0005070874060335177)\n",
            "DEBUG:link frame (posn (global), orn (global)) (0.06438999623060226, -0.0006700000958517194, 0.17272000014781952) (0.0, -0.0, 0.0)\n",
            "DEBUG:type 0\n",
            "DEBUG:axis (0.8850081677100822, 0.038479620944805074, -0.46398260943529657)\n",
            "DEBUG:collision (posn (COM frame), orn(COM frame)) (0.0, 0.0, 0.0) (0.09440016316657333, 0.48248576714783664, 0.04345202878357321)\n",
            "DEBUG:visual (posn (link frame), orn(link frame)) (-0.04979, -0.00102, 0.04376) (0.0, -0.0, 0.0)\n",
            "\n",
            "\n",
            "DEBUG:linear_motor_rod_joint_far_left 4\n",
            "DEBUG:com frame (posn (global) & orn (global)) (0.006913721886316946, 0.042829999999999965, 0.20665143579834142) (-3.1415462709165807, -0.3068205184719477, -0.000460341247399943)\n",
            "DEBUG:inertial offset (posn (link frame), orn (link frame)) (0.00613, 0.0, 0.0) (-2.5849394142285455e-26, 5.083191182304736e-07, 0.0004388427524149212)\n",
            "DEBUG:link frame (posn (global), orn (global)) (0.0010700002312660217, 0.042830001562833786, 0.20479999482631683) (3.141499999983834, -0.3068200247482709, 3.3798084258103404e-11)\n",
            "DEBUG:type 1\n",
            "DEBUG:axis (0.9999999037083916, -0.0004388427383293152, 5.083190692836519e-07)\n",
            "DEBUG:collision (posn (COM frame), orn(COM frame)) (0.0, 0.0, 0.0) (2.2307215378942316e-10, -5.083190692836738e-07, -0.0004388427524149779)\n",
            "DEBUG:visual (posn (link frame), orn(link frame)) (0.00613, 0.0, 0.0) (0.0, -0.0, 0.0)\n",
            "\n",
            "\n",
            "DEBUG:linear_motor_rod_joint_mid_left 5\n",
            "DEBUG:com frame (posn (global) & orn (global)) (0.00691372188631695, 0.013829999999999986, 0.20665143579834142) (-3.1415462709165807, -0.3068205184719477, -0.000460341247399943)\n",
            "DEBUG:inertial offset (posn (link frame), orn (link frame)) (0.00613, 0.0, 0.0) (-2.5849394142285455e-26, 5.083191182304736e-07, 0.0004388427524149212)\n",
            "DEBUG:link frame (posn (global), orn (global)) (0.0010700002312660217, 0.013829999603331089, 0.20479999482631683) (3.141499999983834, -0.3068200247482709, 3.3798084258103404e-11)\n",
            "DEBUG:type 1\n",
            "DEBUG:axis (0.9999999037083916, -0.0004388427383293152, 5.083190692836519e-07)\n",
            "DEBUG:collision (posn (COM frame), orn(COM frame)) (0.0, 0.0, 0.0) (2.2307215378942316e-10, -5.083190692836738e-07, -0.0004388427524149779)\n",
            "DEBUG:visual (posn (link frame), orn(link frame)) (0.00613, 0.0, 0.0) (0.0, -0.0, 0.0)\n",
            "\n",
            "\n",
            "DEBUG:linear_motor_rod_joint_mid_right 6\n",
            "DEBUG:com frame (posn (global) & orn (global)) (0.0069137218863169515, -0.015170000000000003, 0.20665143579834142) (-0.00013903622302802068, -0.3068194611733619, 0.0004603411445762665)\n",
            "DEBUG:inertial offset (posn (link frame), orn (link frame)) (0.00613, 0.0, 0.0) (-2.5849394142285455e-26, 5.083191182304736e-07, 0.0004388427524149212)\n",
            "DEBUG:link frame (posn (global), orn (global)) (0.0010700002312660217, -0.015169999562203884, 0.20479999482631683) (4.092899998239049e-12, -0.30682005496346804, 1.8959816344426283e-11)\n",
            "DEBUG:type 1\n",
            "DEBUG:axis (0.9999999037083916, -0.0004388427383293152, 5.083190692836519e-07)\n",
            "DEBUG:collision (posn (COM frame), orn(COM frame)) (0.0, 0.0, 0.0) (2.2307215378942316e-10, -5.083190692836738e-07, -0.0004388427524149779)\n",
            "DEBUG:visual (posn (link frame), orn(link frame)) (0.00613, 0.0, 0.0) (0.0, -0.0, 0.0)\n",
            "\n",
            "\n",
            "DEBUG:linear_motor_rod_joint_far_right 7\n",
            "DEBUG:com frame (posn (global) & orn (global)) (0.006913721886316959, -0.04417, 0.20665143579834142) (-0.00013903622302802068, -0.3068194611733619, 0.0004603411445762665)\n",
            "DEBUG:inertial offset (posn (link frame), orn (link frame)) (0.00613, 0.0, 0.0) (-2.5849394142285455e-26, 5.083191182304736e-07, 0.0004388427524149212)\n",
            "DEBUG:link frame (posn (global), orn (global)) (0.0010700002312660217, -0.04416999965906143, 0.20479999482631683) (4.092899998239049e-12, -0.30682005496346804, 1.8959816344426283e-11)\n",
            "DEBUG:type 1\n",
            "DEBUG:axis (0.9999999037083916, -0.0004388427383293152, 5.083190692836519e-07)\n",
            "DEBUG:collision (posn (COM frame), orn(COM frame)) (0.0, 0.0, 0.0) (2.2307215378942316e-10, -5.083190692836738e-07, -0.0004388427524149779)\n",
            "DEBUG:visual (posn (link frame), orn(link frame)) (0.00613, 0.0, 0.0) (0.0, -0.0, 0.0)\n",
            "\n",
            "\n",
            "DEBUG:dogbone_joint_far_left 8\n",
            "DEBUG:com frame (posn (global) & orn (global)) (0.10635431230096275, 0.042828496985593406, 0.22114011495959104) (-0.00018403215135369834, 0.25917999772986283, -5.1403272343572216e-05)\n",
            "DEBUG:inertial offset (posn (link frame), orn (link frame)) (0.03025, 0.0, 0.0) (0.0, -0.0, 0.0)\n",
            "DEBUG:link frame (posn (global), orn (global)) (0.07711464911699295, 0.04282999783754349, 0.22889283299446106) (-0.00018403216069739608, 0.2591799959642588, -5.140327524362407e-05)\n",
            "DEBUG:type 2\n",
            "DEBUG:axis (0.0, 0.0, 0.0)\n",
            "DEBUG:collision (posn (COM frame), orn(COM frame)) (0.0, 0.0, 0.0) (0.0, -0.0, 0.0)\n",
            "DEBUG:visual (posn (link frame), orn(link frame)) (0.03025, 0.0, 0.0) (0.0, -0.0, 0.0)\n",
            "\n",
            "\n",
            "DEBUG:dogbone_joint_mid_left 9\n",
            "DEBUG:com frame (posn (global) & orn (global)) (0.10635431230096275, 0.013828496985593427, 0.22114011495959104) (-0.00018403215135369834, 0.25917999772986283, -5.1403272343572216e-05)\n"
          ]
        },
        {
          "output_type": "stream",
          "name": "stdout",
          "text": [
            "oreo_sim constructed\n"
          ]
        },
        {
          "output_type": "stream",
          "name": "stderr",
          "text": [
            "DEBUG:inertial offset (posn (link frame), orn (link frame)) (0.03025, 0.0, 0.0) (0.0, -0.0, 0.0)\n",
            "DEBUG:link frame (posn (global), orn (global)) (0.07711464911699295, 0.013830000534653664, 0.22889283299446106) (-0.00018403216069739608, 0.2591799959642588, -5.140327524362407e-05)\n",
            "DEBUG:type 2\n",
            "DEBUG:axis (0.0, 0.0, 0.0)\n",
            "DEBUG:collision (posn (COM frame), orn(COM frame)) (0.0, 0.0, 0.0) (0.0, -0.0, 0.0)\n",
            "DEBUG:visual (posn (link frame), orn(link frame)) (0.03025, 0.0, 0.0) (0.0, -0.0, 0.0)\n",
            "\n",
            "\n",
            "DEBUG:dogbone_joint_mid_right 10\n",
            "DEBUG:com frame (posn (global) & orn (global)) (0.10635431232199295, -0.015170000000000008, 0.221140114893213) (4.7715550532455413e-17, 0.25917999999999974, -3.961440248693532e-17)\n",
            "DEBUG:inertial offset (posn (link frame), orn (link frame)) (0.03025, 0.0, 0.0) (0.0, -0.0, 0.0)\n",
            "DEBUG:link frame (posn (global), orn (global)) (0.07711464911699295, -0.015169999562203884, 0.22889283299446106) (4.771555144378362e-17, 0.25917999843751466, -3.9614403165568695e-17)\n",
            "DEBUG:type 2\n",
            "DEBUG:axis (0.0, 0.0, 0.0)\n",
            "DEBUG:collision (posn (COM frame), orn(COM frame)) (0.0, 0.0, 0.0) (0.0, -0.0, 0.0)\n",
            "DEBUG:visual (posn (link frame), orn(link frame)) (0.03025, 0.0, 0.0) (0.0, -0.0, 0.0)\n",
            "\n",
            "\n",
            "DEBUG:dogbone_joint_far_right 11\n",
            "DEBUG:com frame (posn (global) & orn (global)) (0.10635431232199297, -0.04417000000000001, 0.221140114893213) (4.7715550532455413e-17, 0.25917999999999974, -3.961440248693532e-17)\n",
            "DEBUG:inertial offset (posn (link frame), orn (link frame)) (0.03025, 0.0, 0.0) (0.0, -0.0, 0.0)\n",
            "DEBUG:link frame (posn (global), orn (global)) (0.07711464911699295, -0.04416999965906143, 0.22889283299446106) (4.771555144378362e-17, 0.25917999843751466, -3.9614403165568695e-17)\n",
            "DEBUG:type 2\n",
            "DEBUG:axis (0.0, 0.0, 0.0)\n",
            "DEBUG:collision (posn (COM frame), orn(COM frame)) (0.0, 0.0, 0.0) (0.0, -0.0, 0.0)\n",
            "DEBUG:visual (posn (link frame), orn(link frame)) (0.03025, 0.0, 0.0) (0.0, -0.0, 0.0)\n",
            "\n",
            "\n",
            "DEBUG:left_eye_yolk_joint 12\n",
            "DEBUG:com frame (posn (global) & orn (global)) (0.11284999999999998, 0.028589999999999977, 0.18789999999999998) (-0.0006763808855061418, -0.5246564255471999, -0.0044119972085155425)\n",
            "DEBUG:inertial offset (posn (link frame), orn (link frame)) (-0.00354, 0.00026, 0.04014) (-0.0006763808855062013, -0.5246564255472, -0.004411997208515464)\n",
            "DEBUG:link frame (posn (global), orn (global)) (0.11639000475406647, 0.02833000011742115, 0.14776000380516052) (0.0, -0.0, 0.0)\n",
            "DEBUG:type 0\n",
            "DEBUG:axis (0.5009156718974647, -0.0005854049701844211, 0.8654958965521052)\n",
            "DEBUG:collision (posn (COM frame), orn(COM frame)) (0.0, 0.0, 0.0) (0.003334960260440788, 0.524647212247901, 0.005489091057120049)\n",
            "DEBUG:visual (posn (link frame), orn(link frame)) (-0.00354, 0.00026, 0.04014) (0.0, -0.0, 0.0)\n",
            "\n",
            "\n",
            "DEBUG:left_eye_joint 13\n",
            "DEBUG:com frame (posn (global) & orn (global)) (0.11972999999999998, 0.02976999999999997, 0.19349999999999998) (-0.5474122681276569, 0.1215933242764389, 0.08513202666853306)\n",
            "DEBUG:inertial offset (posn (link frame), orn (link frame)) (0.00334, -0.01701, -0.00023) (-0.5474122681276568, 0.12159332427643892, 0.08513202666853312)\n",
            "DEBUG:link frame (posn (global), orn (global)) (0.11639000475406647, 0.046779997646808624, 0.19372999668121338) (0.0, -0.0, 0.0)\n",
            "DEBUG:type 0\n",
            "DEBUG:axis (0.08440143024560484, 0.8454139192110784, 0.5274008947438944)\n",
            "DEBUG:collision (posn (COM frame), orn(COM frame)) (0.0, 0.0, 0.0) (0.5566198545540284, -0.058972887195381525, -0.13616295979094262)\n",
            "DEBUG:visual (posn (link frame), orn(link frame)) (0.00334, -0.01701, -0.00023) (0.0, -0.0, 0.0)\n",
            "\n",
            "\n",
            "DEBUG:right_eye_yolk_joint 14\n",
            "DEBUG:com frame (posn (global) & orn (global)) (0.1231799999999999, -0.029930000000000002, 0.19308) (-0.0012094833706632838, -0.07460870500433843, 0.005882835809011484)\n",
            "DEBUG:inertial offset (posn (link frame), orn (link frame)) (0.00679, -0.00026, 0.04532) (-0.0012094833706633628, -0.07460870500433837, 0.005882835809011526)\n",
            "DEBUG:link frame (posn (global), orn (global)) (0.11639000475406647, -0.029670000076293945, 0.14775998890399933) (0.0, -0.0, 0.0)\n",
            "DEBUG:type 0\n",
            "DEBUG:axis (0.07453950655213243, -0.0012061183681149217, 0.9972173320001247)\n",
            "DEBUG:collision (posn (COM frame), orn(COM frame)) (0.0, 0.0, 0.0) (0.0007731124805180497, 0.07461449191576715, -0.005808839780700092)\n",
            "DEBUG:visual (posn (link frame), orn(link frame)) (0.00679, -0.00026, 0.04532) (0.0, -0.0, 0.0)\n",
            "\n",
            "\n",
            "DEBUG:right_eye_joint 15\n",
            "DEBUG:com frame (posn (global) & orn (global)) (0.1197299999999999, -0.029890000000000007, 0.1935) (-0.5097579625769237, 0.12626526219259443, -0.030976606204485328)\n",
            "DEBUG:inertial offset (posn (link frame), orn (link frame)) (0.00334, 0.01823, -0.00023) (-0.509757962576924, 0.1262652621925945, -0.03097660620448531)\n",
            "DEBUG:link frame (posn (global), orn (global)) (0.11639000475406647, -0.04811999946832657, 0.19372999668121338) (0.0, -0.0, 0.0)\n",
            "DEBUG:type 0\n",
            "DEBUG:axis (-0.030725091110748885, 0.8743470897057041, 0.48432750850989464)\n",
            "DEBUG:collision (posn (COM frame), orn(COM frame)) (0.0, 0.0, 0.0) (0.5099745140268445, -0.12530766644939936, -0.034664776374517065)\n",
            "DEBUG:visual (posn (link frame), orn(link frame)) (0.00334, 0.01823, -0.00023) (0.0, -0.0, 0.0)\n",
            "\n",
            "\n",
            "DEBUG:Collision enabled\n",
            "DEBUG:Collision pair: left_eye_joint right_eye_joint\n",
            "DEBUG:Collision pair: left_eye_yolk_joint right_eye_yolk_joint\n",
            "DEBUG:Collision pair: left_eye_yolk_joint right_eye_joint\n",
            "DEBUG:Collision pair: right_eye_yolk_joint left_eye_joint\n",
            "DEBUG:Collision pair: skull_joint pitch_piece_joint\n",
            "DEBUG:Collision pair: dogbone_joint_far_right pitch_piece_joint\n",
            "DEBUG:Collision pair: dogbone_joint_far_left pitch_piece_joint\n",
            "DEBUG:Set position control\n",
            "DEBUG:Setting step sim with timestep 0.004167\n",
            "DEBUG:Set position control\n"
          ]
        },
        {
          "output_type": "stream",
          "name": "stdout",
          "text": [
            "\n",
            "\n"
          ]
        }
      ]
    },
    {
      "cell_type": "code",
      "metadata": {
        "id": "qk3Py3jGzqo6",
        "colab": {
          "base_uri": "https://localhost:8080/"
        },
        "outputId": "fbbbd8a2-3eb0-40b5-ac26-ef4434ca0cf5"
      },
      "source": [
        "from google.colab.patches import cv2_imshow\n",
        "import quaternion\n",
        "import numpy as np\n",
        "\n",
        "#scene =\"/content/habitat-sim/data/scene_datasets/habitat-test-scenes/van-gogh-room.glb\"\n",
        "scene = \"/content/habitat-sim/data/scene_datasets/habitat-test-scenes/skokloster-castle.glb\"\n",
        "result_folder = \"/content/oreo-pybullet/saliency\"\n",
        "oreo_in_habitat = ao.agent_oreo(scene, result_folder, depth_camera=False, loc_depth_cam = 'c', foveation=False)"
      ],
      "execution_count": null,
      "outputs": [
        {
          "output_type": "stream",
          "name": "stderr",
          "text": [
            "I1104 16:06:25.012912 77 simulator.py:221] Loaded navmesh /content/habitat-sim/data/scene_datasets/habitat-test-scenes/skokloster-castle.navmesh\n",
            "INFO:I1104 16:06:25.012912 77 simulator.py:221] Loaded navmesh /content/habitat-sim/data/scene_datasets/habitat-test-scenes/skokloster-castle.navmesh\n"
          ]
        },
        {
          "output_type": "stream",
          "name": "stdout",
          "text": [
            "Agent rotation quaternion(1, 0, 2.45858027483337e-05, 0) Agent position [-1.7926959   0.11083889 19.255245  ]\n"
          ]
        }
      ]
    },
    {
      "cell_type": "code",
      "metadata": {
        "colab": {
          "base_uri": "https://localhost:8080/"
        },
        "id": "MNuBeL2fgXIR",
        "outputId": "237c5529-c085-4daf-e77b-5d0e9359b98c"
      },
      "source": [
        "from google.colab import widgets\n",
        "import ipywidgets\n",
        "from IPython.display import display, clear_output, Image\n",
        "\n",
        "\n",
        "action_name = ['backward', 'forward', 'left', 'right', 'up', 'down', 'cw', 'ccw','Default', 'quit', 'New Image', 'Last Position' ]\n",
        "total_actions = len(action_name)\n",
        "print (total_actions)\n",
        "\n",
        "\n",
        "# register function to be called when the button is clicked\n",
        "\n",
        "def on_button_clicked(selection):\n",
        "  # Display the message within the output widget.\n",
        "  with output:\n",
        "    clear_output()\n",
        "    take_action(selection)\n",
        "    "
      ],
      "execution_count": null,
      "outputs": [
        {
          "output_type": "stream",
          "name": "stdout",
          "text": [
            "12\n"
          ]
        }
      ]
    },
    {
      "cell_type": "code",
      "metadata": {
        "colab": {
          "base_uri": "https://localhost:8080/",
          "height": 702,
          "referenced_widgets": [
            "7aab41e3d20c4ab2838e82047a276578",
            "867175e55c0942f7851738ea4793bc72",
            "e8586dabc33d4aacbbb09bade70ab9f8",
            "60140122892d4e3aa8d9438b0c21b834",
            "763f1d27c1ee4bdbb76eb724bf02e7ba",
            "b7a41c49589c468fb7f0d288b743d03d",
            "11d0b74d9f0a489f90c277006367e5c2",
            "cbb6d87c7b964d3c84134c4d3ad9bf74",
            "f7d057bb1f1245a68799c359c695a9f4",
            "6679353941fe4653ae50261b7caa0504",
            "9ad096f8206349d5812b92ce61bb7fbb",
            "605cb07bd85f42809bac37c42e4ee06e",
            "87ac3fad1a7140838979e4bd405a9512",
            "a29b2c68b108498889b49ae5b0ba54d3",
            "d00e69658d2c42529a9786d2bd635fdc",
            "99ce62497460438a8b50f33572c8200d",
            "693a1ff0e25c4018a47aabcbfea01755",
            "1136808f7101446d9f1735c3d2b321ef",
            "0103fa621a3c4ab8812ec9117810e28d",
            "f2958469155d4496a35b94a373ecccf1",
            "887d86eed940446e889a622d470b9833",
            "bfa330777ea64a9aa7cfb4b2866ead3f",
            "c3c6ae24133044f08992f7ef62591e28",
            "dab7a43544e94471a9e3f1d4f5483fa7",
            "7acc17e209f049a58440c673175368ea",
            "11f48bc83fc64885949b2ad335d337a9",
            "210d8d90d17e4756905e33f1f6950182",
            "ec0620adf0e945d5961cce2cfbb78bf4",
            "ce8d36080456446483fef0c58ad9eca4",
            "b5071271dca745e5bb0451b12e5ff471",
            "7612719f51ec4a73ac1d5def7e9afc13",
            "5d7e4b005d5c42dc924e35647b920c72",
            "b3081261f8aa476e8a07cd33576041fd",
            "726119a7678d40b6b30d4d66351b6c0e",
            "607b92d7486e47a3aa0e29bbe3a66caa",
            "0438aade7d1a48f4a908debf08f3a659",
            "36809b1fbb284c1891d8531d717de1a8",
            "a498e7404f3e4b97948ac7401fa9f863"
          ]
        },
        "id": "RkuQox3do06p",
        "outputId": "b8f5009b-1fa8-464c-e3c1-f1b505ba8b77"
      },
      "source": [
        "# Take action based on input\n",
        "\n",
        "delta_move = 0.1\n",
        "delta_ang_ccw  = quaternion.from_rotation_vector([0.0, 2*np.pi/30,0.0])\n",
        "delta_ang_cw = quaternion.from_rotation_vector([0.0, -2*np.pi/30, 0.0])\n",
        "ang_quat = quaternion.from_rotation_vector([0.0, 0.0, 0.0])\n",
        "\n",
        "def take_action(selected_key):\n",
        "  print(f'Last Action {selected_key.description}')\n",
        "  if selected_key.description == 'backward':\n",
        "    oreo_in_habitat.move_and_rotate_agent(ang_quat, [0.0, 0.0, delta_move])\n",
        "  elif selected_key.description == 'forward':\n",
        "    oreo_in_habitat.move_and_rotate_agent(ang_quat, [0.0, 0.0, -delta_move])\n",
        "  elif selected_key.description == 'left':\n",
        "    oreo_in_habitat.move_and_rotate_agent(ang_quat, [-delta_move, 0.0, 0.0])\n",
        "  elif selected_key.description == 'right':\n",
        "    oreo_in_habitat.move_and_rotate_agent(ang_quat, [delta_move, 0.0, 0.0])\n",
        "  elif selected_key.description == 'up':\n",
        "    oreo_in_habitat.move_and_rotate_agent(ang_quat, [0.0, delta_move, 0.0])\n",
        "  elif selected_key.description == 'ccw':\n",
        "    oreo_in_habitat.move_and_rotate_agent(delta_ang_ccw, [0.0, 0.0, 0.0])  \n",
        "  elif selected_key.description == 'cw':\n",
        "    oreo_in_habitat.move_and_rotate_agent(delta_ang_cw, [0.0, 0.0, 0.0])\n",
        "  elif selected_key.description == 'Default':\n",
        "    oreo_in_habitat.reset_state()\n",
        "  elif selected_key.description == 'New Image':\n",
        "    #saved images with unique name based scene and on timestamp, ending with RGB0\n",
        "    oreo_in_habitat.capture_start_image_for_saliency_colab()  \n",
        "  elif selected_key.description  == 'quit':\n",
        "    #oreo_in_habitat.sim.close()\n",
        "    pass\n",
        "  else:\n",
        "    pass\n",
        "  # display the left rgb camera image  \n",
        "  cv2_imshow(oreo_in_habitat.my_images[0][..., 0:3][..., ::-1])\n",
        "\n",
        "# create output widget\n",
        "output = ipywidgets.widgets.Output()\n",
        "\n",
        "# create a list of buttons, one for each star sign\n",
        "button_list = []\n",
        "for i in range(0, total_actions):\n",
        "  button = ipywidgets.widgets.Button(description = action_name[i])\n",
        "  button.on_click(on_button_clicked)\n",
        "  button_list.append(button) \n",
        "\n",
        "print('\\nMove Oreo\\'s view by clicking one of the buttons\\n')\n",
        "\n",
        "# arrange the sign images and buttons into two rows\n",
        "grid = widgets.Grid(1, 6, header_row=True, header_column=True) \n",
        "for (row, col) in grid:\n",
        "  index = row*6+col\n",
        "  display(button_list[index])\n",
        "for (row, col) in grid:\n",
        "  index = row*6+col\n",
        "  display(button_list[index+6])\n",
        "\n",
        "# display output\n",
        "\n",
        "display(output)"
      ],
      "execution_count": null,
      "outputs": [
        {
          "output_type": "stream",
          "name": "stdout",
          "text": [
            "\n",
            "Move Oreo's view by clicking one of the buttons\n",
            "\n"
          ]
        },
        {
          "output_type": "display_data",
          "data": {
            "text/html": [
              "<style>\n",
              "       table#id2, #id2 > tbody > tr > th, #id2 > tbody > tr > td {\n",
              "         border: 1px solid lightgray;\n",
              "         border-collapse:collapse;\n",
              "         \n",
              "        }</style>"
            ],
            "text/plain": [
              "<IPython.core.display.HTML object>"
            ]
          },
          "metadata": {}
        },
        {
          "output_type": "display_data",
          "data": {
            "text/html": [
              "<table id=id2><tr><th id=id2-0-0></th><th id=id2-0-1></th><th id=id2-0-2></th><th id=id2-0-3></th><th id=id2-0-4></th><th id=id2-0-5></th></tr></table>"
            ],
            "text/plain": [
              "<IPython.core.display.HTML object>"
            ]
          },
          "metadata": {}
        },
        {
          "output_type": "display_data",
          "data": {
            "application/javascript": [
              "window[\"32f9f7e0-3d89-11ec-a756-0242ac1c0002\"] = google.colab.output.getActiveOutputArea();\n",
              "//# sourceURL=js_9735ac073b"
            ],
            "text/plain": [
              "<IPython.core.display.Javascript object>"
            ]
          },
          "metadata": {}
        },
        {
          "output_type": "display_data",
          "data": {
            "application/javascript": [
              "window[\"32fab6e4-3d89-11ec-a756-0242ac1c0002\"] = document.querySelector(\"#id2-0-0\");\n",
              "//# sourceURL=js_4130e6b1fd"
            ],
            "text/plain": [
              "<IPython.core.display.Javascript object>"
            ]
          },
          "metadata": {}
        },
        {
          "output_type": "display_data",
          "data": {
            "application/javascript": [
              "window[\"32fb3fd8-3d89-11ec-a756-0242ac1c0002\"] = google.colab.output.setActiveOutputArea(window[\"32fab6e4-3d89-11ec-a756-0242ac1c0002\"]);\n",
              "//# sourceURL=js_0d69d6d6c5"
            ],
            "text/plain": [
              "<IPython.core.display.Javascript object>"
            ]
          },
          "metadata": {}
        },
        {
          "output_type": "display_data",
          "data": {
            "application/vnd.jupyter.widget-view+json": {
              "model_id": "7aab41e3d20c4ab2838e82047a276578",
              "version_minor": 0,
              "version_major": 2
            },
            "text/plain": [
              "Button(description='backward', style=ButtonStyle())"
            ]
          },
          "metadata": {}
        },
        {
          "output_type": "display_data",
          "data": {
            "application/javascript": [
              "window[\"32fe8562-3d89-11ec-a756-0242ac1c0002\"] = google.colab.output.setActiveOutputArea(window[\"32f9f7e0-3d89-11ec-a756-0242ac1c0002\"]);\n",
              "//# sourceURL=js_3f086a85b6"
            ],
            "text/plain": [
              "<IPython.core.display.Javascript object>"
            ]
          },
          "metadata": {}
        },
        {
          "output_type": "display_data",
          "data": {
            "application/javascript": [
              "window[\"3301751a-3d89-11ec-a756-0242ac1c0002\"] = google.colab.output.getActiveOutputArea();\n",
              "//# sourceURL=js_5635914cdf"
            ],
            "text/plain": [
              "<IPython.core.display.Javascript object>"
            ]
          },
          "metadata": {}
        },
        {
          "output_type": "display_data",
          "data": {
            "application/javascript": [
              "window[\"3301e69e-3d89-11ec-a756-0242ac1c0002\"] = document.querySelector(\"#id2-0-1\");\n",
              "//# sourceURL=js_8cea13ba32"
            ],
            "text/plain": [
              "<IPython.core.display.Javascript object>"
            ]
          },
          "metadata": {}
        },
        {
          "output_type": "display_data",
          "data": {
            "application/javascript": [
              "window[\"33025016-3d89-11ec-a756-0242ac1c0002\"] = google.colab.output.setActiveOutputArea(window[\"3301e69e-3d89-11ec-a756-0242ac1c0002\"]);\n",
              "//# sourceURL=js_135de6cba4"
            ],
            "text/plain": [
              "<IPython.core.display.Javascript object>"
            ]
          },
          "metadata": {}
        },
        {
          "output_type": "display_data",
          "data": {
            "application/vnd.jupyter.widget-view+json": {
              "model_id": "60140122892d4e3aa8d9438b0c21b834",
              "version_minor": 0,
              "version_major": 2
            },
            "text/plain": [
              "Button(description='forward', style=ButtonStyle())"
            ]
          },
          "metadata": {}
        },
        {
          "output_type": "display_data",
          "data": {
            "application/javascript": [
              "window[\"3304742c-3d89-11ec-a756-0242ac1c0002\"] = google.colab.output.setActiveOutputArea(window[\"3301751a-3d89-11ec-a756-0242ac1c0002\"]);\n",
              "//# sourceURL=js_b71fa862e5"
            ],
            "text/plain": [
              "<IPython.core.display.Javascript object>"
            ]
          },
          "metadata": {}
        },
        {
          "output_type": "display_data",
          "data": {
            "application/javascript": [
              "window[\"33076ed4-3d89-11ec-a756-0242ac1c0002\"] = google.colab.output.getActiveOutputArea();\n",
              "//# sourceURL=js_a35915b705"
            ],
            "text/plain": [
              "<IPython.core.display.Javascript object>"
            ]
          },
          "metadata": {}
        },
        {
          "output_type": "display_data",
          "data": {
            "application/javascript": [
              "window[\"3307e422-3d89-11ec-a756-0242ac1c0002\"] = document.querySelector(\"#id2-0-2\");\n",
              "//# sourceURL=js_6c8bb62b71"
            ],
            "text/plain": [
              "<IPython.core.display.Javascript object>"
            ]
          },
          "metadata": {}
        },
        {
          "output_type": "display_data",
          "data": {
            "application/javascript": [
              "window[\"33085902-3d89-11ec-a756-0242ac1c0002\"] = google.colab.output.setActiveOutputArea(window[\"3307e422-3d89-11ec-a756-0242ac1c0002\"]);\n",
              "//# sourceURL=js_5f0520bb4f"
            ],
            "text/plain": [
              "<IPython.core.display.Javascript object>"
            ]
          },
          "metadata": {}
        },
        {
          "output_type": "display_data",
          "data": {
            "application/vnd.jupyter.widget-view+json": {
              "model_id": "11d0b74d9f0a489f90c277006367e5c2",
              "version_minor": 0,
              "version_major": 2
            },
            "text/plain": [
              "Button(description='left', style=ButtonStyle())"
            ]
          },
          "metadata": {}
        },
        {
          "output_type": "display_data",
          "data": {
            "application/javascript": [
              "window[\"330a51bc-3d89-11ec-a756-0242ac1c0002\"] = google.colab.output.setActiveOutputArea(window[\"33076ed4-3d89-11ec-a756-0242ac1c0002\"]);\n",
              "//# sourceURL=js_503da993ab"
            ],
            "text/plain": [
              "<IPython.core.display.Javascript object>"
            ]
          },
          "metadata": {}
        },
        {
          "output_type": "display_data",
          "data": {
            "application/javascript": [
              "window[\"330cd3ec-3d89-11ec-a756-0242ac1c0002\"] = google.colab.output.getActiveOutputArea();\n",
              "//# sourceURL=js_15d942ac63"
            ],
            "text/plain": [
              "<IPython.core.display.Javascript object>"
            ]
          },
          "metadata": {}
        },
        {
          "output_type": "display_data",
          "data": {
            "application/javascript": [
              "window[\"330d3512-3d89-11ec-a756-0242ac1c0002\"] = document.querySelector(\"#id2-0-3\");\n",
              "//# sourceURL=js_72d0783533"
            ],
            "text/plain": [
              "<IPython.core.display.Javascript object>"
            ]
          },
          "metadata": {}
        },
        {
          "output_type": "display_data",
          "data": {
            "application/javascript": [
              "window[\"330d93fe-3d89-11ec-a756-0242ac1c0002\"] = google.colab.output.setActiveOutputArea(window[\"330d3512-3d89-11ec-a756-0242ac1c0002\"]);\n",
              "//# sourceURL=js_7f21b99008"
            ],
            "text/plain": [
              "<IPython.core.display.Javascript object>"
            ]
          },
          "metadata": {}
        },
        {
          "output_type": "display_data",
          "data": {
            "application/vnd.jupyter.widget-view+json": {
              "model_id": "6679353941fe4653ae50261b7caa0504",
              "version_minor": 0,
              "version_major": 2
            },
            "text/plain": [
              "Button(description='right', style=ButtonStyle())"
            ]
          },
          "metadata": {}
        },
        {
          "output_type": "display_data",
          "data": {
            "application/javascript": [
              "window[\"330f7f20-3d89-11ec-a756-0242ac1c0002\"] = google.colab.output.setActiveOutputArea(window[\"330cd3ec-3d89-11ec-a756-0242ac1c0002\"]);\n",
              "//# sourceURL=js_bdc68bc415"
            ],
            "text/plain": [
              "<IPython.core.display.Javascript object>"
            ]
          },
          "metadata": {}
        },
        {
          "output_type": "display_data",
          "data": {
            "application/javascript": [
              "window[\"33124e6c-3d89-11ec-a756-0242ac1c0002\"] = google.colab.output.getActiveOutputArea();\n",
              "//# sourceURL=js_95a7e8b946"
            ],
            "text/plain": [
              "<IPython.core.display.Javascript object>"
            ]
          },
          "metadata": {}
        },
        {
          "output_type": "display_data",
          "data": {
            "application/javascript": [
              "window[\"3312ba5a-3d89-11ec-a756-0242ac1c0002\"] = document.querySelector(\"#id2-0-4\");\n",
              "//# sourceURL=js_fc3ad27649"
            ],
            "text/plain": [
              "<IPython.core.display.Javascript object>"
            ]
          },
          "metadata": {}
        },
        {
          "output_type": "display_data",
          "data": {
            "application/javascript": [
              "window[\"331325ee-3d89-11ec-a756-0242ac1c0002\"] = google.colab.output.setActiveOutputArea(window[\"3312ba5a-3d89-11ec-a756-0242ac1c0002\"]);\n",
              "//# sourceURL=js_546758e945"
            ],
            "text/plain": [
              "<IPython.core.display.Javascript object>"
            ]
          },
          "metadata": {}
        },
        {
          "output_type": "display_data",
          "data": {
            "application/vnd.jupyter.widget-view+json": {
              "model_id": "87ac3fad1a7140838979e4bd405a9512",
              "version_minor": 0,
              "version_major": 2
            },
            "text/plain": [
              "Button(description='up', style=ButtonStyle())"
            ]
          },
          "metadata": {}
        },
        {
          "output_type": "display_data",
          "data": {
            "application/javascript": [
              "window[\"33153906-3d89-11ec-a756-0242ac1c0002\"] = google.colab.output.setActiveOutputArea(window[\"33124e6c-3d89-11ec-a756-0242ac1c0002\"]);\n",
              "//# sourceURL=js_d53cc09cbc"
            ],
            "text/plain": [
              "<IPython.core.display.Javascript object>"
            ]
          },
          "metadata": {}
        },
        {
          "output_type": "display_data",
          "data": {
            "application/javascript": [
              "window[\"33180de8-3d89-11ec-a756-0242ac1c0002\"] = google.colab.output.getActiveOutputArea();\n",
              "//# sourceURL=js_274e6fd218"
            ],
            "text/plain": [
              "<IPython.core.display.Javascript object>"
            ]
          },
          "metadata": {}
        },
        {
          "output_type": "display_data",
          "data": {
            "application/javascript": [
              "window[\"33188660-3d89-11ec-a756-0242ac1c0002\"] = document.querySelector(\"#id2-0-5\");\n",
              "//# sourceURL=js_d9388ca360"
            ],
            "text/plain": [
              "<IPython.core.display.Javascript object>"
            ]
          },
          "metadata": {}
        },
        {
          "output_type": "display_data",
          "data": {
            "application/javascript": [
              "window[\"33190234-3d89-11ec-a756-0242ac1c0002\"] = google.colab.output.setActiveOutputArea(window[\"33188660-3d89-11ec-a756-0242ac1c0002\"]);\n",
              "//# sourceURL=js_54343c265f"
            ],
            "text/plain": [
              "<IPython.core.display.Javascript object>"
            ]
          },
          "metadata": {}
        },
        {
          "output_type": "display_data",
          "data": {
            "application/vnd.jupyter.widget-view+json": {
              "model_id": "99ce62497460438a8b50f33572c8200d",
              "version_minor": 0,
              "version_major": 2
            },
            "text/plain": [
              "Button(description='down', style=ButtonStyle())"
            ]
          },
          "metadata": {}
        },
        {
          "output_type": "display_data",
          "data": {
            "application/javascript": [
              "window[\"331b5fb6-3d89-11ec-a756-0242ac1c0002\"] = google.colab.output.setActiveOutputArea(window[\"33180de8-3d89-11ec-a756-0242ac1c0002\"]);\n",
              "//# sourceURL=js_64ea9251ea"
            ],
            "text/plain": [
              "<IPython.core.display.Javascript object>"
            ]
          },
          "metadata": {}
        },
        {
          "output_type": "display_data",
          "data": {
            "application/javascript": [
              "window[\"331e5036-3d89-11ec-a756-0242ac1c0002\"] = google.colab.output.getActiveOutputArea();\n",
              "//# sourceURL=js_4044b895c1"
            ],
            "text/plain": [
              "<IPython.core.display.Javascript object>"
            ]
          },
          "metadata": {}
        },
        {
          "output_type": "display_data",
          "data": {
            "application/javascript": [
              "window[\"331ebb7a-3d89-11ec-a756-0242ac1c0002\"] = document.querySelector(\"#id2-0-0\");\n",
              "//# sourceURL=js_74f35dfd57"
            ],
            "text/plain": [
              "<IPython.core.display.Javascript object>"
            ]
          },
          "metadata": {}
        },
        {
          "output_type": "display_data",
          "data": {
            "application/javascript": [
              "window[\"331f292a-3d89-11ec-a756-0242ac1c0002\"] = google.colab.output.setActiveOutputArea(window[\"331ebb7a-3d89-11ec-a756-0242ac1c0002\"]);\n",
              "//# sourceURL=js_90eab17a2b"
            ],
            "text/plain": [
              "<IPython.core.display.Javascript object>"
            ]
          },
          "metadata": {}
        },
        {
          "output_type": "display_data",
          "data": {
            "application/vnd.jupyter.widget-view+json": {
              "model_id": "0103fa621a3c4ab8812ec9117810e28d",
              "version_minor": 0,
              "version_major": 2
            },
            "text/plain": [
              "Button(description='cw', style=ButtonStyle())"
            ]
          },
          "metadata": {}
        },
        {
          "output_type": "display_data",
          "data": {
            "application/javascript": [
              "window[\"33214674-3d89-11ec-a756-0242ac1c0002\"] = google.colab.output.setActiveOutputArea(window[\"331e5036-3d89-11ec-a756-0242ac1c0002\"]);\n",
              "//# sourceURL=js_d06552c4c3"
            ],
            "text/plain": [
              "<IPython.core.display.Javascript object>"
            ]
          },
          "metadata": {}
        },
        {
          "output_type": "display_data",
          "data": {
            "application/javascript": [
              "window[\"3323fb30-3d89-11ec-a756-0242ac1c0002\"] = google.colab.output.getActiveOutputArea();\n",
              "//# sourceURL=js_112c978a1b"
            ],
            "text/plain": [
              "<IPython.core.display.Javascript object>"
            ]
          },
          "metadata": {}
        },
        {
          "output_type": "display_data",
          "data": {
            "application/javascript": [
              "window[\"33246318-3d89-11ec-a756-0242ac1c0002\"] = document.querySelector(\"#id2-0-1\");\n",
              "//# sourceURL=js_3aa5c85b5b"
            ],
            "text/plain": [
              "<IPython.core.display.Javascript object>"
            ]
          },
          "metadata": {}
        },
        {
          "output_type": "display_data",
          "data": {
            "application/javascript": [
              "window[\"3324b99e-3d89-11ec-a756-0242ac1c0002\"] = google.colab.output.setActiveOutputArea(window[\"33246318-3d89-11ec-a756-0242ac1c0002\"]);\n",
              "//# sourceURL=js_2fd88220ea"
            ],
            "text/plain": [
              "<IPython.core.display.Javascript object>"
            ]
          },
          "metadata": {}
        },
        {
          "output_type": "display_data",
          "data": {
            "application/vnd.jupyter.widget-view+json": {
              "model_id": "bfa330777ea64a9aa7cfb4b2866ead3f",
              "version_minor": 0,
              "version_major": 2
            },
            "text/plain": [
              "Button(description='ccw', style=ButtonStyle())"
            ]
          },
          "metadata": {}
        },
        {
          "output_type": "display_data",
          "data": {
            "application/javascript": [
              "window[\"3326e5d4-3d89-11ec-a756-0242ac1c0002\"] = google.colab.output.setActiveOutputArea(window[\"3323fb30-3d89-11ec-a756-0242ac1c0002\"]);\n",
              "//# sourceURL=js_571b5fc8b3"
            ],
            "text/plain": [
              "<IPython.core.display.Javascript object>"
            ]
          },
          "metadata": {}
        },
        {
          "output_type": "display_data",
          "data": {
            "application/javascript": [
              "window[\"3329a5c6-3d89-11ec-a756-0242ac1c0002\"] = google.colab.output.getActiveOutputArea();\n",
              "//# sourceURL=js_aacdaa4433"
            ],
            "text/plain": [
              "<IPython.core.display.Javascript object>"
            ]
          },
          "metadata": {}
        },
        {
          "output_type": "display_data",
          "data": {
            "application/javascript": [
              "window[\"3329f06c-3d89-11ec-a756-0242ac1c0002\"] = document.querySelector(\"#id2-0-2\");\n",
              "//# sourceURL=js_2a58c8a2c6"
            ],
            "text/plain": [
              "<IPython.core.display.Javascript object>"
            ]
          },
          "metadata": {}
        },
        {
          "output_type": "display_data",
          "data": {
            "application/javascript": [
              "window[\"332a46ac-3d89-11ec-a756-0242ac1c0002\"] = google.colab.output.setActiveOutputArea(window[\"3329f06c-3d89-11ec-a756-0242ac1c0002\"]);\n",
              "//# sourceURL=js_7f619ff7c4"
            ],
            "text/plain": [
              "<IPython.core.display.Javascript object>"
            ]
          },
          "metadata": {}
        },
        {
          "output_type": "display_data",
          "data": {
            "application/vnd.jupyter.widget-view+json": {
              "model_id": "7acc17e209f049a58440c673175368ea",
              "version_minor": 0,
              "version_major": 2
            },
            "text/plain": [
              "Button(description='Default', style=ButtonStyle())"
            ]
          },
          "metadata": {}
        },
        {
          "output_type": "display_data",
          "data": {
            "application/javascript": [
              "window[\"332be836-3d89-11ec-a756-0242ac1c0002\"] = google.colab.output.setActiveOutputArea(window[\"3329a5c6-3d89-11ec-a756-0242ac1c0002\"]);\n",
              "//# sourceURL=js_8f708aab09"
            ],
            "text/plain": [
              "<IPython.core.display.Javascript object>"
            ]
          },
          "metadata": {}
        },
        {
          "output_type": "display_data",
          "data": {
            "application/javascript": [
              "window[\"332ef47c-3d89-11ec-a756-0242ac1c0002\"] = google.colab.output.getActiveOutputArea();\n",
              "//# sourceURL=js_439e6d3e36"
            ],
            "text/plain": [
              "<IPython.core.display.Javascript object>"
            ]
          },
          "metadata": {}
        },
        {
          "output_type": "display_data",
          "data": {
            "application/javascript": [
              "window[\"332f4c56-3d89-11ec-a756-0242ac1c0002\"] = document.querySelector(\"#id2-0-3\");\n",
              "//# sourceURL=js_4b35d34079"
            ],
            "text/plain": [
              "<IPython.core.display.Javascript object>"
            ]
          },
          "metadata": {}
        },
        {
          "output_type": "display_data",
          "data": {
            "application/javascript": [
              "window[\"332fbe98-3d89-11ec-a756-0242ac1c0002\"] = google.colab.output.setActiveOutputArea(window[\"332f4c56-3d89-11ec-a756-0242ac1c0002\"]);\n",
              "//# sourceURL=js_11fec96b8a"
            ],
            "text/plain": [
              "<IPython.core.display.Javascript object>"
            ]
          },
          "metadata": {}
        },
        {
          "output_type": "display_data",
          "data": {
            "application/vnd.jupyter.widget-view+json": {
              "model_id": "ec0620adf0e945d5961cce2cfbb78bf4",
              "version_minor": 0,
              "version_major": 2
            },
            "text/plain": [
              "Button(description='quit', style=ButtonStyle())"
            ]
          },
          "metadata": {}
        },
        {
          "output_type": "display_data",
          "data": {
            "application/javascript": [
              "window[\"3331c454-3d89-11ec-a756-0242ac1c0002\"] = google.colab.output.setActiveOutputArea(window[\"332ef47c-3d89-11ec-a756-0242ac1c0002\"]);\n",
              "//# sourceURL=js_e1d04f8424"
            ],
            "text/plain": [
              "<IPython.core.display.Javascript object>"
            ]
          },
          "metadata": {}
        },
        {
          "output_type": "display_data",
          "data": {
            "application/javascript": [
              "window[\"33343392-3d89-11ec-a756-0242ac1c0002\"] = google.colab.output.getActiveOutputArea();\n",
              "//# sourceURL=js_8e4304df97"
            ],
            "text/plain": [
              "<IPython.core.display.Javascript object>"
            ]
          },
          "metadata": {}
        },
        {
          "output_type": "display_data",
          "data": {
            "application/javascript": [
              "window[\"33349c24-3d89-11ec-a756-0242ac1c0002\"] = document.querySelector(\"#id2-0-4\");\n",
              "//# sourceURL=js_bbe6a796b2"
            ],
            "text/plain": [
              "<IPython.core.display.Javascript object>"
            ]
          },
          "metadata": {}
        },
        {
          "output_type": "display_data",
          "data": {
            "application/javascript": [
              "window[\"3334fa7a-3d89-11ec-a756-0242ac1c0002\"] = google.colab.output.setActiveOutputArea(window[\"33349c24-3d89-11ec-a756-0242ac1c0002\"]);\n",
              "//# sourceURL=js_9e87e40c19"
            ],
            "text/plain": [
              "<IPython.core.display.Javascript object>"
            ]
          },
          "metadata": {}
        },
        {
          "output_type": "display_data",
          "data": {
            "application/vnd.jupyter.widget-view+json": {
              "model_id": "7612719f51ec4a73ac1d5def7e9afc13",
              "version_minor": 0,
              "version_major": 2
            },
            "text/plain": [
              "Button(description='New Image', style=ButtonStyle())"
            ]
          },
          "metadata": {}
        },
        {
          "output_type": "display_data",
          "data": {
            "application/javascript": [
              "window[\"3336ebe6-3d89-11ec-a756-0242ac1c0002\"] = google.colab.output.setActiveOutputArea(window[\"33343392-3d89-11ec-a756-0242ac1c0002\"]);\n",
              "//# sourceURL=js_e3a4c9c0a8"
            ],
            "text/plain": [
              "<IPython.core.display.Javascript object>"
            ]
          },
          "metadata": {}
        },
        {
          "output_type": "display_data",
          "data": {
            "application/javascript": [
              "window[\"334494bc-3d89-11ec-a756-0242ac1c0002\"] = google.colab.output.getActiveOutputArea();\n",
              "//# sourceURL=js_a01290bb6f"
            ],
            "text/plain": [
              "<IPython.core.display.Javascript object>"
            ]
          },
          "metadata": {}
        },
        {
          "output_type": "display_data",
          "data": {
            "application/javascript": [
              "window[\"33454d4e-3d89-11ec-a756-0242ac1c0002\"] = document.querySelector(\"#id2-0-5\");\n",
              "//# sourceURL=js_77b5343584"
            ],
            "text/plain": [
              "<IPython.core.display.Javascript object>"
            ]
          },
          "metadata": {}
        },
        {
          "output_type": "display_data",
          "data": {
            "application/javascript": [
              "window[\"3345cf3a-3d89-11ec-a756-0242ac1c0002\"] = google.colab.output.setActiveOutputArea(window[\"33454d4e-3d89-11ec-a756-0242ac1c0002\"]);\n",
              "//# sourceURL=js_adc780cd60"
            ],
            "text/plain": [
              "<IPython.core.display.Javascript object>"
            ]
          },
          "metadata": {}
        },
        {
          "output_type": "display_data",
          "data": {
            "application/vnd.jupyter.widget-view+json": {
              "model_id": "726119a7678d40b6b30d4d66351b6c0e",
              "version_minor": 0,
              "version_major": 2
            },
            "text/plain": [
              "Button(description='Last Position', style=ButtonStyle())"
            ]
          },
          "metadata": {}
        },
        {
          "output_type": "display_data",
          "data": {
            "application/javascript": [
              "window[\"334c3744-3d89-11ec-a756-0242ac1c0002\"] = google.colab.output.setActiveOutputArea(window[\"334494bc-3d89-11ec-a756-0242ac1c0002\"]);\n",
              "//# sourceURL=js_647e2f4f73"
            ],
            "text/plain": [
              "<IPython.core.display.Javascript object>"
            ]
          },
          "metadata": {}
        },
        {
          "output_type": "display_data",
          "data": {
            "application/vnd.jupyter.widget-view+json": {
              "model_id": "36809b1fbb284c1891d8531d717de1a8",
              "version_minor": 0,
              "version_major": 2
            },
            "text/plain": [
              "Output()"
            ]
          },
          "metadata": {}
        }
      ]
    },
    {
      "cell_type": "markdown",
      "metadata": {
        "id": "FG6B6MjJ__iP"
      },
      "source": [
        "Process for saliency. This object will be initially devoid of saliency map and this has to added to the object after getting the saliency map from Deep Gaze II."
      ]
    },
    {
      "cell_type": "code",
      "metadata": {
        "id": "k8Lyz2NNVOEB"
      },
      "source": [
        "from scipy.ndimage import zoom\n",
        "from scipy.special import logsumexp   #changed from scipy.misc to scipy.special\n",
        "import matplotlib.pyplot as plt\n",
        "import saliency\n",
        "import pickle\n"
      ],
      "execution_count": null,
      "outputs": []
    },
    {
      "cell_type": "code",
      "metadata": {
        "id": "nZ_xrjjCufWN"
      },
      "source": [
        "# load precomputed log density over a 1024x1024 image\n",
        "centerbias_template = np.load('/content/oreo-pybullet/centerbias.npy')\n",
        "# Producing a processed file containing saliency heatmap from an image file\n",
        "def produce_and_process_saliency_file(filename):\n",
        "  my_sal_process = saliency.process_image(filename, output_subfolder=\"no\")\n",
        "  img = my_sal_process.imageL\n",
        "  lefteye_orn_wrt_WCS = my_sal_process.lefteye\n",
        "  focal_distance = my_sal_process.focal_distance\n",
        "  # rescale to match image size\n",
        "  centerbias = zoom(centerbias_template, (img.shape[0]/1024, img.shape[1]/1024), order=0, mode='nearest')\n",
        "  # renormalize log density\n",
        "  centerbias -= logsumexp(centerbias)\n",
        "  image_data = img[np.newaxis, :, :, :]  # BHWC, three channels (RGB)\n",
        "  centerbias_data = centerbias[np.newaxis, :, :, np.newaxis]  # BHWC, 1 channel (log density)\n",
        "  tf.get_default_graph()\n",
        "  tf.reset_default_graph()\n",
        "  check_point = '/content/oreo-pybullet/DeepGazeII.ckpt'  # DeepGaze II\n",
        "  #check_point = 'ICF.ckpt'  # ICF\n",
        "  new_saver = tf.train.import_meta_graph('{}.meta'.format(check_point))\n",
        "  input_tensor = tf.get_collection('input_tensor')[0]\n",
        "  centerbias_tensor = tf.get_collection('centerbias_tensor')[0]\n",
        "  log_density = tf.get_collection('log_density')[0]\n",
        "  log_density_wo_centerbias = tf.get_collection('log_density_wo_centerbias')[0]\n",
        "  with tf.Session() as sess:\n",
        "    new_saver.restore(sess, check_point)\n",
        "    log_density_prediction = sess.run(log_density, {input_tensor: image_data,centerbias_tensor: centerbias_data,})\n",
        "  salmapL = np.exp(log_density_prediction[0,:,:,0])\n",
        "  my_sal_process.load_salmap(salmapL)\n",
        "  #my_sal_process.save_salmap()\n",
        "  my_sal_process.process_saliency()\n",
        "  f = my_sal_process.save_all()\n",
        "  return f, img, salmapL, lefteye_orn_wrt_WCS, focal_distance\n",
        "\n",
        "\n",
        "def write_file(myfilename, info):\n",
        "    try:\n",
        "        with open(myfilename, \"wb\") as f:\n",
        "            pickle.dump(info, f)\n",
        "            print(f\"Saved saliency file {myfilename}\")\n",
        "            return myfilename\n",
        "    except BaseException as err:\n",
        "      print(f\"Error: {err}, {type(err)}\")\n",
        "      print(f\"Failure in saving saliency file {myfilename}\")\n",
        "      return None\n",
        "\n",
        "\n",
        "def save_salmap_list(s_picklefile, salmap_list):\n",
        "  \n",
        "  heatmap_list = []\n",
        "  for heatmap in salmap_list:\n",
        "    a = heatmap.flatten()\n",
        "    heatmap_list.append(a)\n",
        "  write_file(s_picklefile,heatmap_list)\n",
        "\n",
        "\n",
        "def generate_ten_salmaps(file, s_partname):\n",
        "  count = 0\n",
        "  count_max = 11\n",
        "  image_list = []\n",
        "  salmap_list = []\n",
        "  IOR_list = []\n",
        "  head, tail = os.path.split(file)\n",
        "  d = len(s_partname)\n",
        "  sal_pickle_file = head + \"/\" + s_partname[0:d-1] + \"-salmap-list\"\n",
        "  imagefile = file\n",
        "  while count < count_max:\n",
        "    pfile, imageL, salmapL, lefteye_orn, fd = produce_and_process_saliency_file(imagefile)\n",
        "    imagefile = oreo_in_habitat.capture_next_image_from_fixations_colab(pfile, pybullet_sim, IOR_list, fd, count)\n",
        "    image_list.append(imageL)\n",
        "    salmap_list.append(salmapL)\n",
        "    IOR_list.append(lefteye_orn)  \n",
        "    if imagefile is None:\n",
        "      count = count_max\n",
        "    count +=1\n",
        "  save_salmap_list(sal_pickle_file, salmap_list)\n",
        "  return"
      ],
      "execution_count": null,
      "outputs": []
    },
    {
      "cell_type": "code",
      "metadata": {
        "id": "RJEwhmXMVfnV",
        "colab": {
          "base_uri": "https://localhost:8080/"
        },
        "outputId": "03bc6cde-bf86-44ea-aef3-384394fb14ae"
      },
      "source": [
        "import os, shutil\n",
        "\n",
        "\n",
        "for path, subdirs, files in os.walk(result_folder):\n",
        "    for filename in files:\n",
        "      d = filename.find(\"^\")\n",
        "      dir_name = filename[0:3] + filename[d+1:]\n",
        "      new_dir = path + '/' + dir_name\n",
        "      if not os.path.exists(new_dir):\n",
        "        os.makedirs(new_dir)\n",
        "      file = path + '/' + filename\n",
        "      shutil.move(file, new_dir)\n",
        "      newfile = new_dir + '/' +filename\n",
        "      generate_ten_salmaps(newfile, dir_name)\n",
        "    break # we are not interested in sub-directories of the result_folder\n",
        "\n",
        "      "
      ],
      "execution_count": null,
      "outputs": [
        {
          "output_type": "stream",
          "name": "stdout",
          "text": [
            "WARNING:tensorflow:The saved meta_graph is possibly from an older release:\n",
            "'model_variables' collection should be of type 'byte_list', but instead is of type 'node_list'.\n"
          ]
        },
        {
          "output_type": "stream",
          "name": "stderr",
          "text": [
            "WARNING:The saved meta_graph is possibly from an older release:\n",
            "'model_variables' collection should be of type 'byte_list', but instead is of type 'node_list'.\n"
          ]
        },
        {
          "output_type": "stream",
          "name": "stdout",
          "text": [
            "INFO:tensorflow:Restoring parameters from /content/oreo-pybullet/DeepGazeII.ckpt\n"
          ]
        },
        {
          "output_type": "stream",
          "name": "stderr",
          "text": [
            "INFO:Restoring parameters from /content/oreo-pybullet/DeepGazeII.ckpt\n"
          ]
        },
        {
          "output_type": "stream",
          "name": "stdout",
          "text": [
            "Saved processed saliency file /content/oreo-pybullet/saliency/sko2021-11-04-16-09-11RGB0/skokloster-castle.glb^2021-11-04-16-09-11RGB0-sal-processed\n",
            "Total number of previous frames 0\n",
            "Proposed fixation 1: Pixel location (232,248) is a new fixation from the first (1st) saccade\n",
            "Agent Rotation quaternion(-0.978152692317963, -0, 0.207887649536133, 4.39237008081496e-16)\n",
            "Desire to move to yawL = 5.355825042855193, pitchL = 88.21789868689504\n",
            "Desire to move to yawR = 5.355825042855193, pitchR = 88.21789868689504\n",
            "Moving Sensors to new position\n",
            "After rotation Left Eye yaw = 5.359906082890401 pitch = 88.21894141908521\n",
            "After rotation Right Eye yaw = 5.359251932592072 pitch = 88.2186417755626\n",
            "Saved Image file /content/oreo-pybullet/saliency/sko2021-11-04-16-09-11RGB0/skokloster-castle.glb^2021-11-04-16-09-11RGB1\n",
            "WARNING:tensorflow:The saved meta_graph is possibly from an older release:\n",
            "'model_variables' collection should be of type 'byte_list', but instead is of type 'node_list'.\n"
          ]
        },
        {
          "output_type": "stream",
          "name": "stderr",
          "text": [
            "WARNING:The saved meta_graph is possibly from an older release:\n",
            "'model_variables' collection should be of type 'byte_list', but instead is of type 'node_list'.\n"
          ]
        },
        {
          "output_type": "stream",
          "name": "stdout",
          "text": [
            "INFO:tensorflow:Restoring parameters from /content/oreo-pybullet/DeepGazeII.ckpt\n"
          ]
        },
        {
          "output_type": "stream",
          "name": "stderr",
          "text": [
            "INFO:Restoring parameters from /content/oreo-pybullet/DeepGazeII.ckpt\n"
          ]
        },
        {
          "output_type": "stream",
          "name": "stdout",
          "text": [
            "Saved processed saliency file /content/oreo-pybullet/saliency/sko2021-11-04-16-09-11RGB0/skokloster-castle.glb^2021-11-04-16-09-11RGB1-sal-processed\n",
            "Total number of previous frames 1\n",
            "Fixation Center of frame 0 in current frame = (280, 263)\n",
            "Proposed fixation 2 was NOT fixated in saccade 1\n",
            "Proposed fixation 2: Pixel location (248,264) is a new fixation\n",
            "Agent Rotation quaternion(-0.978152692317963, -0, 0.207887649536133, 4.39237008081496e-16)\n",
            "Desire to move to yawL = 7.148944224404365, pitchL = 90.0088474282674\n",
            "Desire to move to yawR = 7.148944224404365, pitchR = 90.0088474282674\n",
            "Moving Sensors to new position\n",
            "After rotation Left Eye yaw = 7.153711349484842 pitch = 90.01117586407462\n",
            "After rotation Right Eye yaw = 7.15277514292537 pitch = 90.01051689079036\n",
            "Saved Image file /content/oreo-pybullet/saliency/sko2021-11-04-16-09-11RGB0/skokloster-castle.glb^2021-11-04-16-09-11RGB2\n",
            "WARNING:tensorflow:The saved meta_graph is possibly from an older release:\n",
            "'model_variables' collection should be of type 'byte_list', but instead is of type 'node_list'.\n"
          ]
        },
        {
          "output_type": "stream",
          "name": "stderr",
          "text": [
            "WARNING:The saved meta_graph is possibly from an older release:\n",
            "'model_variables' collection should be of type 'byte_list', but instead is of type 'node_list'.\n"
          ]
        },
        {
          "output_type": "stream",
          "name": "stdout",
          "text": [
            "INFO:tensorflow:Restoring parameters from /content/oreo-pybullet/DeepGazeII.ckpt\n"
          ]
        },
        {
          "output_type": "stream",
          "name": "stderr",
          "text": [
            "INFO:Restoring parameters from /content/oreo-pybullet/DeepGazeII.ckpt\n"
          ]
        },
        {
          "output_type": "stream",
          "name": "stdout",
          "text": [
            "Saved processed saliency file /content/oreo-pybullet/saliency/sko2021-11-04-16-09-11RGB0/skokloster-castle.glb^2021-11-04-16-09-11RGB2-sal-processed\n",
            "Total number of previous frames 2\n",
            "Fixation Center of frame 0 in current frame = (288, 255)\n",
            "Proposed fixation 3 was NOT fixated in saccade 1\n",
            "Fixation Center of frame 1 in current frame = (264, 247)\n",
            "Proposed fixation 3 was NOT fixated in saccade 2\n",
            "Proposed fixation 3: Pixel location (248,248) is a new fixation\n",
            "Agent Rotation quaternion(-0.978152692317963, -0, 0.207887649536133, 4.39237008081496e-16)\n",
            "Desire to move to yawL = 8.943610578595187, pitchL = 88.22213206520007\n",
            "Desire to move to yawR = 8.943610578595187, pitchR = 88.22213206520007\n",
            "Moving Sensors to new position\n",
            "After rotation Left Eye yaw = 8.94799702326013 pitch = 88.22489186756805\n",
            "After rotation Right Eye yaw = 8.947132742323666 pitch = 88.22404275150372\n",
            "Saved Image file /content/oreo-pybullet/saliency/sko2021-11-04-16-09-11RGB0/skokloster-castle.glb^2021-11-04-16-09-11RGB3\n",
            "WARNING:tensorflow:The saved meta_graph is possibly from an older release:\n",
            "'model_variables' collection should be of type 'byte_list', but instead is of type 'node_list'.\n"
          ]
        },
        {
          "output_type": "stream",
          "name": "stderr",
          "text": [
            "WARNING:The saved meta_graph is possibly from an older release:\n",
            "'model_variables' collection should be of type 'byte_list', but instead is of type 'node_list'.\n"
          ]
        },
        {
          "output_type": "stream",
          "name": "stdout",
          "text": [
            "INFO:tensorflow:Restoring parameters from /content/oreo-pybullet/DeepGazeII.ckpt\n"
          ]
        },
        {
          "output_type": "stream",
          "name": "stderr",
          "text": [
            "INFO:Restoring parameters from /content/oreo-pybullet/DeepGazeII.ckpt\n"
          ]
        },
        {
          "output_type": "stream",
          "name": "stdout",
          "text": [
            "Saved processed saliency file /content/oreo-pybullet/saliency/sko2021-11-04-16-09-11RGB0/skokloster-castle.glb^2021-11-04-16-09-11RGB3-sal-processed\n",
            "Total number of previous frames 3\n",
            "Fixation Center of frame 0 in current frame = (296, 263)\n",
            "Proposed fixation 4 was NOT fixated in saccade 1\n",
            "Fixation Center of frame 1 in current frame = (272, 255)\n",
            "Proposed fixation 4 was NOT fixated in saccade 2\n",
            "Fixation Center of frame 2 in current frame = (264, 263)\n",
            "Proposed fixation 4 was NOT fixated in saccade 3\n",
            "Proposed fixation 4: Pixel location (248,264) is a new fixation\n",
            "Agent Rotation quaternion(-0.978152692317963, -0, 0.207887649536133, 4.39237008081496e-16)\n",
            "Desire to move to yawL = 10.737035613281675, pitchL = 90.01479456642707\n",
            "Desire to move to yawR = 10.737035613281675, pitchR = 90.01479456642707\n",
            "Moving Sensors to new position\n",
            "After rotation Left Eye yaw = 10.742829919724585 pitch = 90.01788722201476\n",
            "After rotation Right Eye yaw = 10.740817789188819 pitch = 90.01656621380518\n",
            "Saved Image file /content/oreo-pybullet/saliency/sko2021-11-04-16-09-11RGB0/skokloster-castle.glb^2021-11-04-16-09-11RGB4\n",
            "WARNING:tensorflow:The saved meta_graph is possibly from an older release:\n",
            "'model_variables' collection should be of type 'byte_list', but instead is of type 'node_list'.\n"
          ]
        },
        {
          "output_type": "stream",
          "name": "stderr",
          "text": [
            "WARNING:The saved meta_graph is possibly from an older release:\n",
            "'model_variables' collection should be of type 'byte_list', but instead is of type 'node_list'.\n"
          ]
        },
        {
          "output_type": "stream",
          "name": "stdout",
          "text": [
            "INFO:tensorflow:Restoring parameters from /content/oreo-pybullet/DeepGazeII.ckpt\n"
          ]
        },
        {
          "output_type": "stream",
          "name": "stderr",
          "text": [
            "INFO:Restoring parameters from /content/oreo-pybullet/DeepGazeII.ckpt\n"
          ]
        },
        {
          "output_type": "stream",
          "name": "stdout",
          "text": [
            "Saved processed saliency file /content/oreo-pybullet/saliency/sko2021-11-04-16-09-11RGB0/skokloster-castle.glb^2021-11-04-16-09-11RGB4-sal-processed\n",
            "Total number of previous frames 4\n",
            "Fixation Center of frame 0 in current frame = (304, 255)\n",
            "Proposed fixation 5 was NOT fixated in saccade 1\n",
            "Fixation Center of frame 1 in current frame = (280, 247)\n",
            "Proposed fixation 5 was NOT fixated in saccade 2\n",
            "Fixation Center of frame 2 in current frame = (272, 255)\n",
            "Proposed fixation 5 was NOT fixated in saccade 3\n",
            "Fixation Center of frame 3 in current frame = (264, 247)\n",
            "Proposed fixation 5 was NOT fixated in saccade 4\n",
            "Proposed fixation 5: Pixel location (248,264) is a new fixation\n",
            "Agent Rotation quaternion(-0.978152692317963, -0, 0.207887649536133, 4.39237008081496e-16)\n",
            "Desire to move to yawL = 12.532758943516914, pitchL = 91.80691545237381\n",
            "Desire to move to yawR = 12.532758943516914, pitchR = 91.80691545237381\n",
            "Moving Sensors to new position\n",
            "After rotation Left Eye yaw = 12.538203534966026 pitch = 91.80975084647633\n",
            "After rotation Right Eye yaw = 12.536120542761767 pitch = 91.80867564944715\n",
            "Saved Image file /content/oreo-pybullet/saliency/sko2021-11-04-16-09-11RGB0/skokloster-castle.glb^2021-11-04-16-09-11RGB5\n",
            "WARNING:tensorflow:The saved meta_graph is possibly from an older release:\n",
            "'model_variables' collection should be of type 'byte_list', but instead is of type 'node_list'.\n"
          ]
        },
        {
          "output_type": "stream",
          "name": "stderr",
          "text": [
            "WARNING:The saved meta_graph is possibly from an older release:\n",
            "'model_variables' collection should be of type 'byte_list', but instead is of type 'node_list'.\n"
          ]
        },
        {
          "output_type": "stream",
          "name": "stdout",
          "text": [
            "INFO:tensorflow:Restoring parameters from /content/oreo-pybullet/DeepGazeII.ckpt\n"
          ]
        },
        {
          "output_type": "stream",
          "name": "stderr",
          "text": [
            "INFO:Restoring parameters from /content/oreo-pybullet/DeepGazeII.ckpt\n"
          ]
        },
        {
          "output_type": "stream",
          "name": "stdout",
          "text": [
            "Saved processed saliency file /content/oreo-pybullet/saliency/sko2021-11-04-16-09-11RGB0/skokloster-castle.glb^2021-11-04-16-09-11RGB5-sal-processed\n",
            "Total number of previous frames 5\n",
            "Fixation Center of frame 0 in current frame = (312, 248)\n",
            "Proposed fixation 6 was NOT fixated in saccade 1\n",
            "Fixation Center of frame 1 in current frame = (288, 239)\n",
            "Proposed fixation 6 was NOT fixated in saccade 2\n",
            "Fixation Center of frame 2 in current frame = (280, 247)\n",
            "Proposed fixation 6 was NOT fixated in saccade 3\n",
            "Fixation Center of frame 3 in current frame = (272, 239)\n",
            "!!! Proposed fixation 6 IOR: Pixel location (264,248) was fixated in saccade 4\n",
            "Total number of previous frames 5\n",
            "Fixation Center of frame 0 in current frame = (312, 248)\n",
            "Proposed fixation 6 was NOT fixated in saccade 1\n",
            "Fixation Center of frame 1 in current frame = (288, 239)\n",
            "Proposed fixation 6 was NOT fixated in saccade 2\n",
            "Fixation Center of frame 2 in current frame = (280, 247)\n",
            "Proposed fixation 6 was NOT fixated in saccade 3\n",
            "Fixation Center of frame 3 in current frame = (272, 239)\n",
            "Proposed fixation 6 was NOT fixated in saccade 4\n",
            "Fixation Center of frame 4 in current frame = (264, 247)\n",
            "Proposed fixation 6 was NOT fixated in saccade 5\n",
            "Proposed fixation 6: Pixel location (264,184) is a new fixation\n",
            "Agent Rotation quaternion(-0.978152692317963, -0, 0.207887649536133, 4.39237008081496e-16)\n",
            "Desire to move to yawL = 10.763154488010617, pitchL = 76.10752496497582\n",
            "Desire to move to yawR = 10.763154488010617, pitchR = 76.10752496497582\n",
            "Moving Sensors to new position\n",
            "After rotation Left Eye yaw = 10.771190641180894 pitch = 76.11223244634145\n",
            "After rotation Right Eye yaw = 10.770649345404408 pitch = 76.11167739473876\n",
            "Saved Image file /content/oreo-pybullet/saliency/sko2021-11-04-16-09-11RGB0/skokloster-castle.glb^2021-11-04-16-09-11RGB6\n",
            "WARNING:tensorflow:The saved meta_graph is possibly from an older release:\n",
            "'model_variables' collection should be of type 'byte_list', but instead is of type 'node_list'.\n"
          ]
        },
        {
          "output_type": "stream",
          "name": "stderr",
          "text": [
            "WARNING:The saved meta_graph is possibly from an older release:\n",
            "'model_variables' collection should be of type 'byte_list', but instead is of type 'node_list'.\n"
          ]
        },
        {
          "output_type": "stream",
          "name": "stdout",
          "text": [
            "INFO:tensorflow:Restoring parameters from /content/oreo-pybullet/DeepGazeII.ckpt\n"
          ]
        },
        {
          "output_type": "stream",
          "name": "stderr",
          "text": [
            "INFO:Restoring parameters from /content/oreo-pybullet/DeepGazeII.ckpt\n"
          ]
        },
        {
          "output_type": "stream",
          "name": "stdout",
          "text": [
            "Saved processed saliency file /content/oreo-pybullet/saliency/sko2021-11-04-16-09-11RGB0/skokloster-castle.glb^2021-11-04-16-09-11RGB6-sal-processed\n",
            "Total number of previous frames 6\n",
            "Fixation Center of frame 0 in current frame = (306, 318)\n",
            "Proposed fixation 7 was NOT fixated in saccade 1\n",
            "Fixation Center of frame 1 in current frame = (280, 310)\n",
            "Proposed fixation 7 was NOT fixated in saccade 2\n",
            "Fixation Center of frame 2 in current frame = (272, 319)\n",
            "!!! Proposed fixation 7 IOR: Pixel location (264,312) was fixated in saccade 3\n",
            "Total number of previous frames 6\n",
            "Fixation Center of frame 0 in current frame = (306, 318)\n",
            "Proposed fixation 7 was NOT fixated in saccade 1\n",
            "Fixation Center of frame 1 in current frame = (280, 310)\n",
            "Proposed fixation 7 was NOT fixated in saccade 2\n",
            "Fixation Center of frame 2 in current frame = (272, 319)\n",
            "Proposed fixation 7 was NOT fixated in saccade 3\n",
            "Fixation Center of frame 3 in current frame = (264, 310)\n",
            "Proposed fixation 7 was NOT fixated in saccade 4\n",
            "Fixation Center of frame 4 in current frame = (256, 319)\n",
            "Proposed fixation 7 was NOT fixated in saccade 5\n",
            "Fixation Center of frame 5 in current frame = (247, 327)\n",
            "Proposed fixation 7 was NOT fixated in saccade 6\n",
            "Proposed fixation 7: Pixel location (264,248) is a new fixation\n",
            "Agent Rotation quaternion(-0.978152692317963, -0, 0.207887649536133, 4.39237008081496e-16)\n",
            "Desire to move to yawL = 8.913072219061817, pitchL = 74.33016093155658\n",
            "Desire to move to yawR = 8.913072219061817, pitchR = 74.33016093155658\n",
            "Moving Sensors to new position\n",
            "After rotation Left Eye yaw = 8.922026070876434 pitch = 74.3356554964262\n",
            "After rotation Right Eye yaw = 8.921476200533156 pitch = 74.33504632184498\n",
            "Saved Image file /content/oreo-pybullet/saliency/sko2021-11-04-16-09-11RGB0/skokloster-castle.glb^2021-11-04-16-09-11RGB7\n",
            "WARNING:tensorflow:The saved meta_graph is possibly from an older release:\n",
            "'model_variables' collection should be of type 'byte_list', but instead is of type 'node_list'.\n"
          ]
        },
        {
          "output_type": "stream",
          "name": "stderr",
          "text": [
            "WARNING:The saved meta_graph is possibly from an older release:\n",
            "'model_variables' collection should be of type 'byte_list', but instead is of type 'node_list'.\n"
          ]
        },
        {
          "output_type": "stream",
          "name": "stdout",
          "text": [
            "INFO:tensorflow:Restoring parameters from /content/oreo-pybullet/DeepGazeII.ckpt\n"
          ]
        },
        {
          "output_type": "stream",
          "name": "stderr",
          "text": [
            "INFO:Restoring parameters from /content/oreo-pybullet/DeepGazeII.ckpt\n"
          ]
        },
        {
          "output_type": "stream",
          "name": "stdout",
          "text": [
            "Saved processed saliency file /content/oreo-pybullet/saliency/sko2021-11-04-16-09-11RGB0/skokloster-castle.glb^2021-11-04-16-09-11RGB7-sal-processed\n",
            "Total number of previous frames 7\n",
            "Fixation Center of frame 0 in current frame = (297, 326)\n",
            "Proposed fixation 8 was NOT fixated in saccade 1\n",
            "Fixation Center of frame 1 in current frame = (272, 319)\n",
            "!!! Proposed fixation 8 IOR: Pixel location (264,328) was fixated in saccade 2\n",
            "Total number of previous frames 7\n",
            "Fixation Center of frame 0 in current frame = (297, 326)\n",
            "Proposed fixation 8 was NOT fixated in saccade 1\n",
            "Fixation Center of frame 1 in current frame = (272, 319)\n",
            "Proposed fixation 8 was NOT fixated in saccade 2\n",
            "Fixation Center of frame 2 in current frame = (264, 327)\n",
            "Proposed fixation 8 was NOT fixated in saccade 3\n",
            "Fixation Center of frame 3 in current frame = (255, 319)\n",
            "Proposed fixation 8 was NOT fixated in saccade 4\n",
            "Fixation Center of frame 4 in current frame = (247, 327)\n",
            "Proposed fixation 8 was NOT fixated in saccade 5\n",
            "Fixation Center of frame 5 in current frame = (239, 336)\n",
            "Proposed fixation 8 was NOT fixated in saccade 6\n",
            "Fixation Center of frame 6 in current frame = (247, 263)\n",
            "Proposed fixation 8 was NOT fixated in saccade 7\n",
            "Proposed fixation 8: Pixel location (264,264) is a new fixation\n",
            "Agent Rotation quaternion(-0.978152692317963, -0, 0.207887649536133, 4.39237008081496e-16)\n",
            "Desire to move to yawL = 7.079257883605999, pitchL = 76.13246238014848\n",
            "Desire to move to yawR = 7.079257883605999, pitchR = 76.13246238014848\n",
            "Moving Sensors to new position\n",
            "After rotation Left Eye yaw = 7.089302359921258 pitch = 76.14063932904007\n",
            "After rotation Right Eye yaw = 7.089014917708258 pitch = 76.13994330537389\n",
            "Saved Image file /content/oreo-pybullet/saliency/sko2021-11-04-16-09-11RGB0/skokloster-castle.glb^2021-11-04-16-09-11RGB8\n",
            "WARNING:tensorflow:The saved meta_graph is possibly from an older release:\n",
            "'model_variables' collection should be of type 'byte_list', but instead is of type 'node_list'.\n"
          ]
        },
        {
          "output_type": "stream",
          "name": "stderr",
          "text": [
            "WARNING:The saved meta_graph is possibly from an older release:\n",
            "'model_variables' collection should be of type 'byte_list', but instead is of type 'node_list'.\n"
          ]
        },
        {
          "output_type": "stream",
          "name": "stdout",
          "text": [
            "INFO:tensorflow:Restoring parameters from /content/oreo-pybullet/DeepGazeII.ckpt\n"
          ]
        },
        {
          "output_type": "stream",
          "name": "stderr",
          "text": [
            "INFO:Restoring parameters from /content/oreo-pybullet/DeepGazeII.ckpt\n"
          ]
        },
        {
          "output_type": "stream",
          "name": "stdout",
          "text": [
            "Saved processed saliency file /content/oreo-pybullet/saliency/sko2021-11-04-16-09-11RGB0/skokloster-castle.glb^2021-11-04-16-09-11RGB8-sal-processed\n",
            "Total number of previous frames 8\n",
            "Fixation Center of frame 0 in current frame = (288, 318)\n",
            "Proposed fixation 9 was NOT fixated in saccade 1\n",
            "Fixation Center of frame 1 in current frame = (263, 310)\n",
            "!!! Proposed fixation 9 IOR: Pixel location (264,312) was fixated in saccade 2\n",
            "Total number of previous frames 8\n",
            "Fixation Center of frame 0 in current frame = (288, 318)\n",
            "Proposed fixation 9 was NOT fixated in saccade 1\n",
            "Fixation Center of frame 1 in current frame = (263, 310)\n",
            "Proposed fixation 9 was NOT fixated in saccade 2\n",
            "Fixation Center of frame 2 in current frame = (255, 319)\n",
            "Proposed fixation 9 was NOT fixated in saccade 3\n",
            "Fixation Center of frame 3 in current frame = (247, 310)\n",
            "Proposed fixation 9 was NOT fixated in saccade 4\n",
            "Fixation Center of frame 4 in current frame = (239, 319)\n",
            "Proposed fixation 9 was NOT fixated in saccade 5\n",
            "Fixation Center of frame 5 in current frame = (230, 327)\n",
            "Proposed fixation 9 was NOT fixated in saccade 6\n",
            "Fixation Center of frame 6 in current frame = (240, 255)\n",
            "Proposed fixation 9 was NOT fixated in saccade 7\n",
            "Fixation Center of frame 7 in current frame = (248, 247)\n",
            "Proposed fixation 9 was NOT fixated in saccade 8\n",
            "Proposed fixation 9: Pixel location (264,248) is a new fixation\n",
            "Agent Rotation quaternion(-0.978152692317963, -0, 0.207887649536133, 4.39237008081496e-16)\n",
            "Desire to move to yawL = 5.231441533353126, pitchL = 74.35855177708461\n",
            "Desire to move to yawR = 5.231441533353126, pitchR = 74.35855177708461\n",
            "Moving Sensors to new position\n",
            "After rotation Left Eye yaw = 5.241467945727302 pitch = 74.36835167098153\n",
            "After rotation Right Eye yaw = 5.24086495764601 pitch = 74.36774280157987\n",
            "Saved Image file /content/oreo-pybullet/saliency/sko2021-11-04-16-09-11RGB0/skokloster-castle.glb^2021-11-04-16-09-11RGB9\n",
            "WARNING:tensorflow:The saved meta_graph is possibly from an older release:\n",
            "'model_variables' collection should be of type 'byte_list', but instead is of type 'node_list'.\n"
          ]
        },
        {
          "output_type": "stream",
          "name": "stderr",
          "text": [
            "WARNING:The saved meta_graph is possibly from an older release:\n",
            "'model_variables' collection should be of type 'byte_list', but instead is of type 'node_list'.\n"
          ]
        },
        {
          "output_type": "stream",
          "name": "stdout",
          "text": [
            "INFO:tensorflow:Restoring parameters from /content/oreo-pybullet/DeepGazeII.ckpt\n"
          ]
        },
        {
          "output_type": "stream",
          "name": "stderr",
          "text": [
            "INFO:Restoring parameters from /content/oreo-pybullet/DeepGazeII.ckpt\n"
          ]
        },
        {
          "output_type": "stream",
          "name": "stdout",
          "text": [
            "Saved processed saliency file /content/oreo-pybullet/saliency/sko2021-11-04-16-09-11RGB0/skokloster-castle.glb^2021-11-04-16-09-11RGB9-sal-processed\n",
            "Total number of previous frames 9\n",
            "Fixation Center of frame 0 in current frame = (280, 327)\n",
            "Proposed fixation 10 was NOT fixated in saccade 1\n",
            "Fixation Center of frame 1 in current frame = (255, 319)\n",
            "!!! Proposed fixation 10 IOR: Pixel location (248,312) was fixated in saccade 2\n",
            "Total number of previous frames 9\n",
            "Fixation Center of frame 0 in current frame = (280, 327)\n",
            "Proposed fixation 10 was NOT fixated in saccade 1\n",
            "Fixation Center of frame 1 in current frame = (255, 319)\n",
            "Proposed fixation 10 was NOT fixated in saccade 2\n",
            "Fixation Center of frame 2 in current frame = (247, 327)\n",
            "Proposed fixation 10 was NOT fixated in saccade 3\n",
            "Fixation Center of frame 3 in current frame = (238, 318)\n",
            "Proposed fixation 10 was NOT fixated in saccade 4\n",
            "Fixation Center of frame 4 in current frame = (230, 327)\n",
            "Proposed fixation 10 was NOT fixated in saccade 5\n",
            "Fixation Center of frame 5 in current frame = (221, 335)\n",
            "Proposed fixation 10 was NOT fixated in saccade 6\n",
            "Fixation Center of frame 6 in current frame = (231, 263)\n",
            "Proposed fixation 10 was NOT fixated in saccade 7\n",
            "Fixation Center of frame 7 in current frame = (240, 255)\n",
            "Proposed fixation 10 was NOT fixated in saccade 8\n",
            "Fixation Center of frame 8 in current frame = (247, 263)\n",
            "Proposed fixation 10 was NOT fixated in saccade 9\n",
            "Proposed fixation 10: Pixel location (264,200) is a new fixation\n",
            "Agent Rotation quaternion(-0.978152692317963, -0, 0.207887649536133, 4.39237008081496e-16)\n",
            "Desire to move to yawL = 3.2617842768116274, pitchL = 62.04343129940875\n",
            "Desire to move to yawR = 3.2617842768116274, pitchR = 62.04343129940875\n",
            "Moving Sensors to new position\n",
            "After rotation Left Eye yaw = 3.271905548812176 pitch = 62.05884666005681\n",
            "After rotation Right Eye yaw = 3.268759426829415 pitch = 62.05790253506284\n",
            "Saved Image file /content/oreo-pybullet/saliency/sko2021-11-04-16-09-11RGB0/skokloster-castle.glb^2021-11-04-16-09-11RGB10\n",
            "WARNING:tensorflow:The saved meta_graph is possibly from an older release:\n",
            "'model_variables' collection should be of type 'byte_list', but instead is of type 'node_list'.\n"
          ]
        },
        {
          "output_type": "stream",
          "name": "stderr",
          "text": [
            "WARNING:The saved meta_graph is possibly from an older release:\n",
            "'model_variables' collection should be of type 'byte_list', but instead is of type 'node_list'.\n"
          ]
        },
        {
          "output_type": "stream",
          "name": "stdout",
          "text": [
            "INFO:tensorflow:Restoring parameters from /content/oreo-pybullet/DeepGazeII.ckpt\n"
          ]
        },
        {
          "output_type": "stream",
          "name": "stderr",
          "text": [
            "INFO:Restoring parameters from /content/oreo-pybullet/DeepGazeII.ckpt\n"
          ]
        },
        {
          "output_type": "stream",
          "name": "stdout",
          "text": [
            "Saved processed saliency file /content/oreo-pybullet/saliency/sko2021-11-04-16-09-11RGB0/skokloster-castle.glb^2021-11-04-16-09-11RGB10-sal-processed\n",
            "Total number of previous frames 10\n",
            "Fixation Center of frame 0 in current frame = (272, 391)\n",
            "Proposed fixation 11 was NOT fixated in saccade 1\n",
            "Fixation Center of frame 1 in current frame = (245, 381)\n",
            "Proposed fixation 11 was NOT fixated in saccade 2\n",
            "Fixation Center of frame 2 in current frame = (236, 391)\n",
            "Proposed fixation 11 was NOT fixated in saccade 3\n",
            "Fixation Center of frame 3 in current frame = (227, 380)\n",
            "Proposed fixation 11 was NOT fixated in saccade 4\n",
            "Fixation Center of frame 4 in current frame = (217, 390)\n",
            "Proposed fixation 11 was NOT fixated in saccade 5\n",
            "Fixation Center of frame 5 in current frame = (207, 399)\n",
            "Proposed fixation 11 was NOT fixated in saccade 6\n",
            "Fixation Center of frame 6 in current frame = (222, 318)\n",
            "Proposed fixation 11 was NOT fixated in saccade 7\n",
            "Fixation Center of frame 7 in current frame = (231, 311)\n",
            "Proposed fixation 11 was NOT fixated in saccade 8\n",
            "Fixation Center of frame 8 in current frame = (238, 319)\n",
            "Proposed fixation 11 was NOT fixated in saccade 9\n",
            "Fixation Center of frame 9 in current frame = (247, 311)\n",
            "Proposed fixation 11 was NOT fixated in saccade 10\n",
            "Proposed fixation 11: Pixel location (264,232) is a new fixation\n",
            "Agent Rotation quaternion(-0.978152692317963, -0, 0.207887649536133, 4.39237008081496e-16)\n",
            "Desire to move to yawL = 1.1400893079307768, pitchL = 56.721217917176695\n",
            "Desire to move to yawR = 1.1400893079307768, pitchR = 56.721217917176695\n",
            "Moving Sensors to new position\n",
            "After rotation Left Eye yaw = 1.1470100046858154 pitch = 56.73407046834787\n",
            "After rotation Right Eye yaw = 1.1442083966984375 pitch = 56.733611173536445\n",
            "Saved Image file /content/oreo-pybullet/saliency/sko2021-11-04-16-09-11RGB0/skokloster-castle.glb^2021-11-04-16-09-11RGB11\n",
            "Saved saliency file /content/oreo-pybullet/saliency/sko2021-11-04-16-09-11RGB0/sko2021-11-04-16-09-11RGB-salmap-list\n"
          ]
        }
      ]
    },
    {
      "cell_type": "code",
      "metadata": {
        "id": "QBW7kPsHtD21"
      },
      "source": [
        "cp /content/oreo-pybullet/saliency  /content/drive/My\\ Drive/Colab_Notebooks/Oreo-habitat-integration/ -r"
      ],
      "execution_count": null,
      "outputs": []
    },
    {
      "cell_type": "code",
      "metadata": {
        "id": "m1Xpi4kCf-dq"
      },
      "source": [
        "oreo_in_habitat.sim.close()"
      ],
      "execution_count": null,
      "outputs": []
    }
  ]
}